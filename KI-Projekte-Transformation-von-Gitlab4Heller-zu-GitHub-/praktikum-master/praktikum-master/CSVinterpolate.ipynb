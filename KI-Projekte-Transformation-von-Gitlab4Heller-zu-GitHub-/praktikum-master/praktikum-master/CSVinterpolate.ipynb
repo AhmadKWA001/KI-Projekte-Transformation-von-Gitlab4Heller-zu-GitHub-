{
 "cells": [
  {
   "cell_type": "code",
   "execution_count": null,
   "metadata": {},
   "outputs": [],
   "source": [
    "import numpy as np\n",
    "import pandas as pd\n",
    "\n",
    "from datetime import datetime, timedelta \n",
    "\n",
    "import plotly.graph_objects as go\n",
    "from plotly.subplots import make_subplots\n",
    "import plotly.express as ex\n",
    "import plotly.io as pio"
   ]
  },
  {
   "cell_type": "markdown",
   "metadata": {},
   "source": [
    "Define Paths & Parameters"
   ]
  },
  {
   "cell_type": "code",
   "execution_count": null,
   "metadata": {},
   "outputs": [],
   "source": [
    "filepath = \"G:\\\\Innovations@HELLER\\\\DN\\\\KI\\\\Temperaturkompensation\\\\Edgebox\\Versuchsdaten\\\\5s_data\\\\for_interpolation\\\\Versuch11_12_2022_M8_iso.csv\"\n",
    "interpolatedFilePath = \"X:\\\\KI Praktikum\\\\5s_data_interpolated\\\\Versuch11_12_2022_M8_iso_interpolated.csv\"\n",
    "scatter_mode= 'lines'\n"
   ]
  },
  {
   "cell_type": "markdown",
   "metadata": {},
   "source": [
    "Read in data from csv and plot the original data"
   ]
  },
  {
   "cell_type": "code",
   "execution_count": null,
   "metadata": {},
   "outputs": [],
   "source": [
    "df = pd.read_csv(filepath)\n",
    "df.head(5)"
   ]
  },
  {
   "cell_type": "code",
   "execution_count": null,
   "metadata": {},
   "outputs": [],
   "source": [
    "fig= make_subplots(rows=2, cols=2, shared_xaxes= True, print_grid= True, vertical_spacing=0.02)\n",
    "\n",
    "fig.add_trace(go.Scatter(x= df['date'], y= df['t_bett'], name= 't_bett', mode= scatter_mode), row= 1, col= 1)\n",
    "fig.add_trace(go.Scatter(x= df['date'], y= df['t_motor'], name= 't_motor', mode= scatter_mode), row= 1, col= 1)\n",
    "fig.add_trace(go.Scatter(x= df['date'], y= df['t_spindle'], name= 't_spindle', mode= scatter_mode), row= 1, col= 1)\n",
    "fig.add_trace(go.Scatter(x= df['date'], y= df['welle_z'], name= 'welle_z', mode= scatter_mode), row= 1, col= 1)\n",
    "fig.update_yaxes(title_text= 'Abweichungen [mm]', row= 1, col= 1)\n",
    "\n",
    "fig.add_trace(go.Scatter(x= df['date'], y= df['DRZ2'], name= 'DRZ2', mode= scatter_mode), row= 1, col= 2)\n",
    "fig.update_yaxes(title_text= 'Drehzahl [1/min]', row= 1, col= 2)\n",
    "\n",
    "fig.add_trace(go.Scatter(x= df['date'], y= df['M8'], name= 'M8', mode= scatter_mode), row= 2, col= 1)\n",
    "fig.add_trace(go.Scatter(x= df['date'], y= df['M121'], name= 'M121', mode= scatter_mode), row= 2, col= 1)\n",
    "fig.add_trace(go.Scatter(x= df['date'], y= df['M127'], name= 'M127', mode= scatter_mode), row= 2, col= 1)\n",
    "fig.add_trace(go.Scatter(x= df['date'], y= df['M7'], name= 'M7', mode= scatter_mode), row= 2, col= 1)\n",
    "fig.update_yaxes(title_text= 'Kühlmittelbits', row= 2, col= 1)\n",
    "\n",
    "fig.update_layout(height=600, width=1300, title_text=\"Daten im Dataframe\")\n",
    "fig.show()"
   ]
  },
  {
   "cell_type": "markdown",
   "metadata": {},
   "source": [
    "Compute the interpolated values for welle_z and plot the original and interpolated values of welle_z"
   ]
  },
  {
   "cell_type": "code",
   "execution_count": null,
   "metadata": {},
   "outputs": [],
   "source": [
    "df['date'] = pd.to_datetime(df['date'])"
   ]
  },
  {
   "cell_type": "code",
   "execution_count": null,
   "metadata": {},
   "outputs": [],
   "source": [
    "# Based on time and pandas\n",
    "df['welle_z_ipo'] = df['welle_z']\n",
    "newVal = df['welle_z_ipo'].iloc[0]\n",
    "lastVal = df['welle_z_ipo'].iloc[-1]\n",
    "\n",
    "for index, row in df.iterrows():\n",
    "    if index > 0 and row['welle_z_ipo'] == newVal:\n",
    "        df['welle_z_ipo'].iloc[index] = np.nan\n",
    "    else: \n",
    "        if index > 0:\n",
    "            newVal = row['welle_z_ipo']\n",
    "\n",
    "df.index = df['date']\n",
    "df['welle_z_ipo'].interpolate(method='time', inplace = True)\n",
    "df.index = df['Unnamed: 0']"
   ]
  },
  {
   "cell_type": "code",
   "execution_count": null,
   "metadata": {},
   "outputs": [],
   "source": [
    "fig= make_subplots(rows=1, cols=1, shared_xaxes= True, print_grid= True, vertical_spacing=0.02)\n",
    "\n",
    "fig.add_trace(go.Scatter(x=df['date'], y= df['welle_z'], name= 'welle_z', mode= scatter_mode), row= 1, col= 1)\n",
    "fig.add_trace(go.Scatter(x=df['date'], y= df['welle_z_ipo'], name= 'welle_z_interpolated', mode= scatter_mode), row= 1, col= 1)\n",
    "fig.update_yaxes(title_text= 'Abweichungen [mm]', row= 1, col= 1)\n",
    "\n",
    "fig.update_layout(height=600, width=1300, title_text=\"Welle_z original und interpoliert\")\n",
    "fig.show()"
   ]
  },
  {
   "cell_type": "markdown",
   "metadata": {},
   "source": [
    "Save interpolated data into defined folder"
   ]
  },
  {
   "cell_type": "code",
   "execution_count": null,
   "metadata": {},
   "outputs": [],
   "source": [
    "df.to_csv(interpolatedFilePath)"
   ]
  }
 ],
 "metadata": {
  "kernelspec": {
   "display_name": "Python 3",
   "language": "python",
   "name": "python3"
  },
  "language_info": {
   "codemirror_mode": {
    "name": "ipython",
    "version": 3
   },
   "file_extension": ".py",
   "mimetype": "text/x-python",
   "name": "python",
   "nbconvert_exporter": "python",
   "pygments_lexer": "ipython3",
   "version": "3.11.4"
  },
  "orig_nbformat": 4
 },
 "nbformat": 4,
 "nbformat_minor": 2
}
