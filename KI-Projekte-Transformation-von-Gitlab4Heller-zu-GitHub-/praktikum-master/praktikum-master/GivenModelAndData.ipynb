{
 "cells": [
  {
   "cell_type": "code",
   "execution_count": null,
   "metadata": {},
   "outputs": [],
   "source": [
    "import numpy as np\n",
    "import pandas as pd\n",
    "import sklearn as sk\n",
    "\n",
    "from datetime import datetime, timedelta \n",
    "\n",
    "import plotly.graph_objects as go\n",
    "from plotly.subplots import make_subplots\n",
    "import plotly.express as ex\n",
    "import plotly.io as pio\n",
    "\n",
    "import glob\n",
    "import os\n",
    "\n",
    "import seaborn\n",
    "import matplotlib.pyplot as plt\n",
    "\n",
    "from sklearn.pipeline import Pipeline\n",
    "from sklearn.preprocessing import StandardScaler, FunctionTransformer\n",
    "from sklearn.decomposition import PCA\n",
    "from sklearn.neural_network import MLPRegressor\n",
    "from sklearn import tree\n",
    "from sklearn.tree import DecisionTreeRegressor\n",
    "from sklearn.model_selection import RandomizedSearchCV\n",
    "\n",
    "from joblib import dump, load\n",
    " \n",
    "import tensorflow \n",
    "import keras as ks\n",
    "from keras.models import Sequential\n",
    "from keras.layers import Dense, Input \n",
    "from keras.activations import relu, tanh, linear\n",
    "from keras.models import load_model\n",
    "\n",
    "from keras.callbacks import EarlyStopping\n",
    "from sklearn.model_selection import RandomizedSearchCV, GridSearchCV\n",
    "from sklearn.utils import shuffle\n",
    "from sklearn.metrics import make_scorer"
   ]
  },
  {
   "cell_type": "code",
   "execution_count": null,
   "metadata": {},
   "outputs": [],
   "source": [
    "from readIn import readIn\n",
    "from removeT_bett import removeT_bett"
   ]
  },
  {
   "cell_type": "markdown",
   "metadata": {},
   "source": [
    "1. Relevante Parameter und Einstellungen definieren"
   ]
  },
  {
   "cell_type": "code",
   "execution_count": null,
   "metadata": {},
   "outputs": [],
   "source": [
    "# Data directory\n",
    "datadir = \"X:\\KI Praktikum\\\\validate_Data\\ipo_time\"\n",
    "\n",
    "# Sollen die Daten interpoliert werden?\n",
    "do_interpolation = False\n",
    "# Sollen die interpolierten csv Dateien extra gespeichert werden? Und der gesamte df?\n",
    "safeSingleCsv = False\n",
    "saveDfCsv = False\n",
    "\n",
    "# Modell directory\n",
    "pipelinedir = \"X:\\\\KI Praktikum\\\\pipeline.p\"\n",
    "modelldir = \"X:\\\\KI Praktikum\\\\validate_Data\\\\models\\\\keras_NN_321_Nadam.h5\"\n",
    "\n",
    "# Aufteilung der trainings, validation und test Daten:\n",
    "split_evenly = True\n",
    "split_by_coolant = False\n",
    "split_by_profile = False"
   ]
  },
  {
   "cell_type": "markdown",
   "metadata": {},
   "source": [
    "2. Die notwendigen Daten einlesen"
   ]
  },
  {
   "cell_type": "code",
   "execution_count": null,
   "metadata": {},
   "outputs": [],
   "source": [
    "df_merged = readIn(datadir, ipo=do_interpolation, safeSingleCsv = safeSingleCsv)\n",
    "if saveDfCsv:\n",
    "    df_merged.to_csv(\"X:\\\\KI Praktikum\\\\validate_Data\\\\merged_df.csv\")\n",
    "\n",
    "# z_ipo skalieren\n",
    "df_merged[\"welle_z_ipo_time\"] = 1000* df_merged[\"welle_z_ipo_time\"]\n"
   ]
  },
  {
   "cell_type": "code",
   "execution_count": null,
   "metadata": {},
   "outputs": [],
   "source": [
    "if split_evenly:\n",
    "    validation_files = ['X:\\\\KI Praktikum\\\\validate_Data\\\\ipo_time\\\\filtered_interpolated_Versuch10_12_2022_trocken_iso_time_ipo.csv',\n",
    "                        'X:\\\\KI Praktikum\\\\validate_Data\\\\ipo_time\\\\filtered_interpolated_Versuch22_082022_trocken_iso_5s_time_ipo.csv',\n",
    "                        'X:\\\\KI Praktikum\\\\validate_Data\\\\ipo_time\\\\filtered_interpolated_Versuch18_11_2022_M8_iso_shifted_time_ipo.csv',\n",
    "                        'X:\\\\KI Praktikum\\\\validate_Data\\\\ipo_time\\\\filtered_interpolated_Versuch17_01_2023_M127_iso__time_ipo.csv',\n",
    "                        'X:\\\\KI Praktikum\\\\validate_Data\\\\ipo_time\\\\filtered_interpolated_Versuch18_01_2023_M8_M127_iso__time_ipo.csv',\n",
    "                        'X:\\\\KI Praktikum\\\\validate_Data\\\\ipo_time\\\\filtered_interpolated_Versuch24_092022_trocken_prof1_5s_time_ipo.csv',\n",
    "                        'X:\\\\KI Praktikum\\\\validate_Data\\\\ipo_time\\\\filtered_interpolated_Versuch22_092022_trocken_prof3_5s_time_ipo.csv',\n",
    "                        'X:\\\\KI Praktikum\\\\validate_Data\\\\ipo_time\\\\filtered_interpolated_Versuch18_01_2023_M121_iso__time_ipo.csv'\n",
    "                        ]\n",
    "    test_files = ['X:\\\\KI Praktikum\\\\validate_Data\\\\ipo_time\\\\filtered_interpolated_Versuch24_11_2022_trocken_iso_time_ipo.csv',\n",
    "                'X:\\\\KI Praktikum\\\\validate_Data\\\\ipo_time\\\\filtered_interpolated_Versuch12_11_2022_M8_iso__time_ipo.csv',\n",
    "                'X:\\\\KI Praktikum\\\\validate_Data\\\\ipo_time\\\\filtered_interpolated_Versuch19_11_2022_M8_prof2_time_ipo.csv',\n",
    "                'X:\\\\KI Praktikum\\\\validate_Data\\\\ipo_time\\\\filtered_interpolated_Versuch21_092022_trocken_prof2_5s_time_ipo.csv',\n",
    "                'X:\\\\KI Praktikum\\\\validate_Data\\\\ipo_time\\\\filtered_interpolated_Versuch24_092022_trocken_prof2_5s_time_ipo.csv']\n",
    "\n",
    "if split_by_coolant:\n",
    "    validation_files = ['X:\\\\KI Praktikum\\\\validate_Data\\\\ipo_time\\\\filtered_interpolated_Versuch11_12_2022_M8_iso_time_ipo.csv',\n",
    "                        'X:\\\\KI Praktikum\\\\validate_Data\\\\ipo_time\\\\filtered_interpolated_Versuch12_11_2022_M127_iso_time_ipo.csv',\n",
    "                        'X:\\\\KI Praktikum\\\\validate_Data\\\\ipo_time\\\\filtered_interpolated_Versuch12_11_2022_M8_iso__time_ipo.csv',\n",
    "                        'X:\\\\KI Praktikum\\\\validate_Data\\\\ipo_time\\\\filtered_interpolated_Versuch13_01_2023_M127_iso_time_ipo.csv',\n",
    "                        'X:\\\\KI Praktikum\\\\validate_Data\\\\ipo_time\\\\filtered_interpolated_Versuch15_11_2022_M7_iso_shifted_time_ipo.csv',\n",
    "                        'X:\\\\KI Praktikum\\\\validate_Data\\\\ipo_time\\\\filtered_interpolated_Versuch17_01_2023_M121_iso__time_ipo.csv',\n",
    "                        'X:\\\\KI Praktikum\\\\validate_Data\\\\ipo_time\\\\filtered_interpolated_Versuch17_01_2023_M127_iso__time_ipo.csv',\n",
    "                        'X:\\\\KI Praktikum\\\\validate_Data\\\\ipo_time\\\\filtered_interpolated_Versuch18_01_2023_M121_iso__time_ipo.csv',\n",
    "                        'X:\\\\KI Praktikum\\\\validate_Data\\\\ipo_time\\\\filtered_interpolated_Versuch18_01_2023_M8_M127_iso__time_ipo.csv',\n",
    "                        'X:\\\\KI Praktikum\\\\validate_Data\\\\ipo_time\\\\filtered_interpolated_Versuch18_082022_M8_iso_5s_time_ipo.csv']\n",
    "    test_files = ['X:\\\\KI Praktikum\\\\validate_Data\\\\ipo_time\\\\filtered_interpolated_Versuch18_11_2022_M8_iso_shifted_time_ipo.csv',\n",
    "                    'X:\\\\KI Praktikum\\\\validate_Data\\\\ipo_time\\\\filtered_interpolated_Versuch19_01_2023_M8_M121_isoteil_time_ipo.csv',\n",
    "                    'X:\\\\KI Praktikum\\\\validate_Data\\\\ipo_time\\\\filtered_interpolated_Versuch19_11_2022_M8_prof2_time_ipo.csv',\n",
    "                    'X:\\\\KI Praktikum\\\\validate_Data\\\\ipo_time\\\\filtered_interpolated_Versuch19_11_2022_M8_prof4_time_ipo.csv',\n",
    "                    'X:\\\\KI Praktikum\\\\validate_Data\\\\ipo_time\\\\filtered_interpolated_Versuch2023_01_12_14_10_M8_iso__time_ipo.csv',\n",
    "                    'X:\\\\KI Praktikum\\\\validate_Data\\\\ipo_time\\\\filtered_interpolated_Versuch2023_01_13_09_30_M7_iso__time_ipo.csv',\n",
    "                    'X:\\\\KI Praktikum\\\\validate_Data\\\\ipo_time\\\\filtered_interpolated_Versuch2023_01_17_17_04_M127_iso__time_ipo.csv',\n",
    "                    'X:\\\\KI Praktikum\\\\validate_Data\\\\ipo_time\\\\filtered_interpolated_Versuch2023_01_18_06_00_M121_iso__time_ipo.csv',\n",
    "                    'X:\\\\KI Praktikum\\\\validate_Data\\\\ipo_time\\\\filtered_interpolated_Versuch20_11_2022_M8_prof3_time_ipo.csv',\n",
    "                    'X:\\\\KI Praktikum\\\\validate_Data\\\\ipo_time\\\\filtered_interpolated_Versuch24_11_2022_M8_iso_time_ipo.csv']\n",
    "if split_by_profile:\n",
    "    validation_files = ['X:\\\\KI Praktikum\\\\validate_Data\\\\ipo_time\\\\filtered_interpolated_Versuch19_11_2022_M8_prof2_time_ipo.csv',\n",
    "                        'X:\\\\KI Praktikum\\\\validate_Data\\\\ipo_time\\\\filtered_interpolated_Versuch19_11_2022_M8_prof4_time_ipo.csv',\n",
    "                        'X:\\\\KI Praktikum\\\\validate_Data\\\\ipo_time\\\\filtered_interpolated_Versuch20_092022_trocken_prof1_5s_time_ipo.csv',\n",
    "                        'X:\\\\KI Praktikum\\\\validate_Data\\\\ipo_time\\\\filtered_interpolated_Versuch20_11_2022_M8_prof3_time_ipo.csv',\n",
    "                        'X:\\\\KI Praktikum\\\\validate_Data\\\\ipo_time\\\\filtered_interpolated_Versuch21_092022_trocken_prof1_5s_time_ipo.csv',\n",
    "                        'X:\\\\KI Praktikum\\\\validate_Data\\\\ipo_time\\\\filtered_interpolated_Versuch21_092022_trocken_prof2_5s_time_ipo.csv',\n",
    "                        'X:\\\\KI Praktikum\\\\validate_Data\\\\ipo_time\\\\filtered_interpolated_Versuch18_01_2023_M8_M127_iso__time_ipo.csv',\n",
    "                        'X:\\\\KI Praktikum\\\\validate_Data\\\\ipo_time\\\\filtered_interpolated_Versuch24_11_2022_trocken_iso_time_ipo.csv']\n",
    "    test_files = ['X:\\\\KI Praktikum\\\\validate_Data\\\\ipo_time\\\\filtered_interpolated_Versuch22_092022_trocken_prof3_5s_time_ipo.csv',\n",
    "                    'X:\\\\KI Praktikum\\\\validate_Data\\\\ipo_time\\\\filtered_interpolated_Versuch24_092022_trocken_prof1_5s_time_ipo.csv',\n",
    "                    'X:\\\\KI Praktikum\\\\validate_Data\\\\ipo_time\\\\filtered_interpolated_Versuch24_092022_trocken_prof2_5s_time_ipo.csv',\n",
    "                    'X:\\\\KI Praktikum\\\\validate_Data\\\\ipo_time\\\\filtered_interpolated_Versuch25_092022_trocken_prof3_5s_time_ipo.csv',\n",
    "                    'X:\\\\KI Praktikum\\\\validate_Data\\\\ipo_time\\\\filtered_interpolated_Versuch17_01_2023_M127_iso__time_ipo.csv']\n",
    "    \n",
    "df_train = df_merged[df_merged[\"filename\"].isin(validation_files) == False]\n",
    "df_train = df_train[df_train[\"filename\"].isin(test_files) == False]\n",
    "df_validation = df_merged[df_merged[\"filename\"].isin(validation_files) == True]\n",
    "df_test = df_merged[df_merged[\"filename\"].isin(test_files) == True]"
   ]
  },
  {
   "cell_type": "code",
   "execution_count": null,
   "metadata": {},
   "outputs": [],
   "source": [
    "y_train = df_train[\"welle_z_ipo_time\"]\n",
    "parameters = [\"t_bett\", \"t_motor\", \"t_spindle\", \"M8\", \"M121\", \"M127\", \"M7\"]\n",
    "x_train = df_train[parameters].to_numpy()\n",
    "\n",
    "y_validation = df_validation[\"welle_z_ipo_time\"]\n",
    "x_validation = df_validation[parameters].to_numpy()\n",
    "\n",
    "y_test = df_test[\"welle_z_ipo_time\"]\n",
    "x_test = df_test[parameters].to_numpy()"
   ]
  },
  {
   "cell_type": "markdown",
   "metadata": {},
   "source": [
    "3. Ein gespeichertes Modell einlesen"
   ]
  },
  {
   "cell_type": "code",
   "execution_count": null,
   "metadata": {},
   "outputs": [],
   "source": [
    "modell = load_model(modelldir)"
   ]
  },
  {
   "cell_type": "markdown",
   "metadata": {},
   "source": [
    "4. Train the model and compute the deviations"
   ]
  },
  {
   "cell_type": "code",
   "execution_count": null,
   "metadata": {},
   "outputs": [],
   "source": [
    "pipeline = load(pipelinedir)\n",
    "x_transform = pipeline.fit_transform(x_train)\n",
    "x_validation = pipeline.transform(x_validation)\n",
    "x_test = pipeline.transform(x_test)"
   ]
  },
  {
   "cell_type": "code",
   "execution_count": null,
   "metadata": {},
   "outputs": [],
   "source": [
    "summary = modell.fit(x_transform, y_train)"
   ]
  },
  {
   "cell_type": "code",
   "execution_count": null,
   "metadata": {},
   "outputs": [],
   "source": [
    "#score = summary.score(x_validation, y_validation)\n",
    "pred = modell.predict(x_validation)\n",
    "error_avg = np.mean(abs(y_validation - pred.flatten()))\n",
    "error_max = max(abs(y_validation - pred.flatten()))\n",
    "print(\"max: \", error_max)\n",
    "print(\"avg: \", error_avg)"
   ]
  }
 ],
 "metadata": {
  "kernelspec": {
   "display_name": "Python 3",
   "language": "python",
   "name": "python3"
  },
  "language_info": {
   "codemirror_mode": {
    "name": "ipython",
    "version": 3
   },
   "file_extension": ".py",
   "mimetype": "text/x-python",
   "name": "python",
   "nbconvert_exporter": "python",
   "pygments_lexer": "ipython3",
   "version": "3.11.4"
  },
  "orig_nbformat": 4
 },
 "nbformat": 4,
 "nbformat_minor": 2
}
