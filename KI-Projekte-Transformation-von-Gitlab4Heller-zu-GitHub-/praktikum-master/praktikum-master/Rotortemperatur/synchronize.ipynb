{
 "cells": [
  {
   "cell_type": "markdown",
   "metadata": {},
   "source": [
    "### Synchronize magnet temperature and machine data"
   ]
  },
  {
   "cell_type": "code",
   "execution_count": null,
   "metadata": {},
   "outputs": [],
   "source": [
    "import numpy as np\n",
    "import pandas as pd\n",
    "import pymongo as py\n",
    "from datetime import datetime, timedelta \n",
    "\n",
    "import plotly.graph_objects as go\n",
    "from plotly.subplots import make_subplots\n",
    "import plotly.express as ex\n",
    "import plotly.io as pio"
   ]
  },
  {
   "cell_type": "code",
   "execution_count": null,
   "metadata": {},
   "outputs": [],
   "source": [
    "from readIn import readIn\n",
    "from synchronize import synchronize"
   ]
  },
  {
   "cell_type": "code",
   "execution_count": null,
   "metadata": {},
   "outputs": [],
   "source": [
    "# Start and end time of the database request\n",
    "# The database collects the data in UTC time!\n",
    "start_sec= datetime.strptime(\"2023-09-06T07:20:00.000+0000\", \"%Y-%m-%dT%H:%M:%S.%f+0000\")\n",
    "end_sec= datetime.strptime(\"2023-09-07T07:30:00.000+0000\", \"%Y-%m-%dT%H:%M:%S.%f+0000\")\n",
    "\n",
    "# Paths were magnet temperature is stored and where the combined file should be saved to\n",
    "magnetDataPath = \"C:\\\\Users\\\\wch002\\\\Desktop\\\\RotorTempDRZ\\\\\"\n",
    "combinedFilePath = \"C:\\\\Users\\\\wch002\\\\Desktop\\\\RotorTempDRZ\\\\combined\\\\synchronized_2023_09_08_Rotor_combined.csv\"\n",
    "\n",
    "# Timeshift between magnet and machine data (summertime: 1, wintertime: 2)\n",
    "timeshift = 1"
   ]
  },
  {
   "cell_type": "code",
   "execution_count": null,
   "metadata": {},
   "outputs": [],
   "source": [
    "# Read in the magnet temperatures as a dataframe\n",
    "df_magnet = readIn(magnetDataPath)\n",
    "df_magnet= df_magnet.rename(columns = {\"Date/Time\" : \"date\"})\n",
    "df_magnet = df_magnet.drop(columns = \"filename\")"
   ]
  },
  {
   "cell_type": "code",
   "execution_count": null,
   "metadata": {},
   "outputs": [],
   "source": [
    "df_magnet.head(5)"
   ]
  },
  {
   "cell_type": "code",
   "execution_count": null,
   "metadata": {},
   "outputs": [],
   "source": [
    "#####DB Config machine data\n",
    "host= \"m53763edge\"\n",
    "port=27017\n",
    "collection= \"thermal_data\"\n",
    "\n",
    "## Connect to data base and get the events\n",
    "client = py.MongoClient(host= host, port=port)\n",
    "db = client.h4ai\n",
    "event_list = db[collection].find({ \"date\" : { '$gte' : start_sec, '$lt' : end_sec} }).sort('date', 1)"
   ]
  },
  {
   "cell_type": "code",
   "execution_count": null,
   "metadata": {},
   "outputs": [],
   "source": [
    "# Read in the machine data\n",
    "df = pd.DataFrame()\n",
    "for event in event_list:\n",
    "    content = event[\"content\"]\n",
    "    for data in content:\n",
    "        raw_data = data[\"raw_data\"]\n",
    "        keylist = raw_data.keys()\n",
    "        #keylist = list(keylist)\n",
    "        raw_data[\"date\"] = data[\"date\"]\n",
    "        raw_data[\"given2model\"] = data[\"given2model\"]\n",
    "        raw_data[\"prediction\"] = data[\"prediction\"]\n",
    "        df_row = pd.DataFrame(raw_data, index= [\"date\"])\n",
    "        df = pd.concat([df, df_row], axis=0, ignore_index=True)\n",
    "df.reset_index(inplace=True)\n",
    "#df.to_csv(machinedata)\n",
    "print(df.head(5))     "
   ]
  },
  {
   "cell_type": "code",
   "execution_count": null,
   "metadata": {},
   "outputs": [],
   "source": [
    "scatter_mode= 'lines'\n",
    "\n",
    "#nrrows = len(df.columns)+1\n",
    "nrrows = 1\n",
    "fig= make_subplots(rows=nrrows, cols=1, shared_xaxes= True, print_grid= True, vertical_spacing=0.01)\n",
    "col_names = df.columns.values\n",
    "# i = 0 \n",
    "# for column in df:\n",
    "#     fig.add_trace(go.Scatter(x= df['date'], y = df[column], name= col_names[i], mode= scatter_mode), row= i+1, col= 1)\n",
    "#     i += 1\n",
    "# fig.add_trace(go.Scatter(x= df_magnet['date'], y = df_magnet[\"magnet_temperature\"], name= \"magnet_temperature\", mode= scatter_mode), row= nrrows, col= 1)\n",
    "\n",
    "fig.add_trace(go.Scatter(x= df['date'], y = df[\"T_MOTOR\"], name= \"T_Motor\", mode= scatter_mode), row= nrrows, col= 1)\n",
    "fig.add_trace(go.Scatter(x= df['date'], y = df[\"T_LAGER\"], name= \"T_Lager\", mode= scatter_mode), row= nrrows, col= 1)\n",
    "\n",
    "fig.add_trace(go.Scatter(x= df_magnet['date'], y = df_magnet[\"No.1\"], name= \"No.1\", mode= scatter_mode), row= nrrows, col= 1)\n",
    "fig.add_trace(go.Scatter(x= df_magnet['date'], y = df_magnet[\"No.2\"], name= \"No.2\", mode= scatter_mode), row= nrrows, col= 1)\n",
    "fig.add_trace(go.Scatter(x= df_magnet['date'], y = df_magnet[\"No.3\"], name= \"No.3\", mode= scatter_mode), row= nrrows, col= 1)\n",
    "fig.add_trace(go.Scatter(x= df_magnet['date'], y = df_magnet[\"No.4\"], name= \"No.4\", mode= scatter_mode), row= nrrows, col= 1)\n",
    "fig.add_trace(go.Scatter(x= df_magnet['date'], y = df_magnet[\"No.5\"], name= \"No.5\", mode= scatter_mode), row= nrrows, col= 1)\n",
    "fig.add_trace(go.Scatter(x= df_magnet['date'], y = df_magnet[\"No.6\"], name= \"No.6\", mode= scatter_mode), row= nrrows, col= 1)\n",
    "fig.add_trace(go.Scatter(x= df_magnet['date'], y = df_magnet[\"No.7\"], name= \"No.7\", mode= scatter_mode), row= nrrows, col= 1)\n",
    "fig.add_trace(go.Scatter(x= df_magnet['date'], y = df_magnet[\"No.8\"], name= \"No.8\", mode= scatter_mode), row= nrrows, col= 1)\n",
    "\n",
    "fig.update_layout(height=500, width=1300, title_text=\"Magnettemperaturen und Maschinendaten vor der Synchronisation und Zeitverschiebung\")\n",
    "fig.show()"
   ]
  },
  {
   "cell_type": "code",
   "execution_count": null,
   "metadata": {},
   "outputs": [],
   "source": [
    "df_combined = synchronize(df_machine = df, df_magnet = df_magnet, timeshift = timeshift)"
   ]
  },
  {
   "cell_type": "code",
   "execution_count": null,
   "metadata": {},
   "outputs": [],
   "source": [
    "scatter_mode= 'lines'\n",
    "\n",
    "nrrows = 1\n",
    "fig= make_subplots(rows=nrrows, cols=1, shared_xaxes= True, print_grid= True, vertical_spacing=0.01, specs=[[{\"secondary_y\": True}]])\n",
    "col_names = df.columns.values\n",
    "\n",
    "fig.add_trace(go.Scatter(x= df_combined['date'], y = df_combined[\"T_MOTOR\"], name= \"T_Motor\", mode= scatter_mode), row= nrrows, col= 1, secondary_y = False)\n",
    "fig.add_trace(go.Scatter(x= df_combined['date'], y = df_combined[\"T_LAGER\"], name= \"T_Lager\", mode= scatter_mode), row= nrrows, col= 1, secondary_y = False)\n",
    "fig.add_trace(go.Scatter(x= df_combined['date'], y = df_combined[\"prediction\"], name= \"prediction\", mode= scatter_mode), row= nrrows, col= 1, secondary_y = False)\n",
    "fig.add_trace(go.Scatter(x= df_combined['date'], y = df_combined[\"Analytic_sol\"], name= \"Analytic_sol\", mode= scatter_mode), row= nrrows, col= 1, secondary_y = False)\n",
    "\n",
    "fig.add_trace(go.Scatter(x= df_combined['date'], y = df_combined[\"No.1\"], name= \"Temp. No.1\", mode= scatter_mode), row= nrrows, col= 1)\n",
    "fig.add_trace(go.Scatter(x= df_combined['date'], y = df_combined[\"No.2\"], name= \"Temp. No.2\", mode= scatter_mode), row= nrrows, col= 1)\n",
    "fig.add_trace(go.Scatter(x= df_combined['date'], y = df_combined[\"No.3\"], name= \"Temp. No.3\", mode= scatter_mode), row= nrrows, col= 1)\n",
    "fig.add_trace(go.Scatter(x= df_combined['date'], y = df_combined[\"No.4\"], name= \"Temp. No.4\", mode= scatter_mode), row= nrrows, col= 1)\n",
    "fig.add_trace(go.Scatter(x= df_combined['date'], y = df_combined[\"No.5\"], name= \"Temp. No.5\", mode= scatter_mode), row= nrrows, col= 1)\n",
    "fig.add_trace(go.Scatter(x= df_combined['date'], y = df_combined[\"No.6\"], name= \"Temp. No.6\", mode= scatter_mode), row= nrrows, col= 1)\n",
    "fig.add_trace(go.Scatter(x= df_combined['date'], y = df_combined[\"No.7\"], name= \"Temp. No.7\", mode= scatter_mode), row= nrrows, col= 1)\n",
    "fig.add_trace(go.Scatter(x= df_combined['date'], y = df_combined[\"No.8\"], name= \"Temp. No.8\", mode= scatter_mode), row= nrrows, col= 1)\n",
    "\n",
    "# fig.add_trace(go.Scatter(x= df_combined['date'], y = df_combined[\"magnet_temperature\"], name= \"magnet_temperature\", mode= scatter_mode), row= nrrows, col= 1, secondary_y = True)\n",
    "# fig.add_trace(go.Scatter(x= df_magnet['date'], y = df_magnet[\"magnet_temperature\"], name= \"old magnet\", mode= scatter_mode), row= nrrows, col= 1, secondary_y = True)\n",
    "\n",
    "fig.update_layout(height=500, width=1300, title_text=\"Magnettemperaturen und Maschinendaten nach der Synchronisation\")\n",
    "fig.show()"
   ]
  },
  {
   "cell_type": "code",
   "execution_count": null,
   "metadata": {},
   "outputs": [],
   "source": [
    "df_combined.to_csv(combinedFilePath)"
   ]
  },
  {
   "cell_type": "code",
   "execution_count": null,
   "metadata": {},
   "outputs": [],
   "source": [
    "scatter_mode= 'lines'\n",
    "\n",
    "params = ['date', \"DRZ5\", \"T_KLEMMUNG\", \"T_LAGER\", \"T_MOTOR\", 'prediction', 'Analytic_sol',\n",
    "          'No.1', 'No.2', 'No.3', 'No.4', 'No.5', 'No.6', 'No.7', 'No.8']\n",
    "\n",
    "df_plot = df_combined[params]\n",
    "nrrows = 5\n",
    "fig= make_subplots(rows=nrrows, cols=1, shared_xaxes= True, print_grid= True, vertical_spacing=0.01) #, specs=[[{\"secondary_y\": True}]]\n",
    "col_names = df_plot.columns.values\n",
    "\n",
    "i = 0 \n",
    "j = 0\n",
    "for column in df_plot:\n",
    "    if column in [\"DRZ5\"]:\n",
    "        fig.add_trace(go.Scatter(x= df_plot['date'], y = df_plot[column], name= col_names[i+1], mode= scatter_mode), row= i+1, col= 1)\n",
    "        fig.update_yaxes(title_text=\"DRZ [RPM]\", row=i+1, col=1)\n",
    "        i += 1\n",
    "    if column in [\"T_KLEMMUNG\", \"T_LAGER\", \"T_MOTOR\"]:\n",
    "        fig.add_trace(go.Scatter(x= df_plot['date'], y = df_plot[column], name= col_names[i+1], mode= scatter_mode), row= i+1, col= 1)\n",
    "        fig.update_yaxes(title_text=(column + \" [°C]\"), row=i+1, col=1)\n",
    "        i += 1\n",
    "    if column in ['prediction', 'Analytic_sol', 'No.1', 'No.2', 'No.3', 'No.4', 'No.5', 'No.6', 'No.7', 'No.8']:\n",
    "        fig.add_trace(go.Scatter(x= df_plot['date'], y = df_plot[column], name= col_names[i+j+1], mode= scatter_mode), row= i+1, col= 1)\n",
    "        fig.update_yaxes(title_text=\"Rotor Temperatur [°C]\", row=i+1, col=1)\n",
    "        j +=1\n",
    "\n",
    "fig.update_layout(height=800, width=1100, title_text=\"Magnettemperaturen und Maschinendaten nach der Synchronisation\")\n",
    "fig.show()"
   ]
  }
 ],
 "metadata": {
  "kernelspec": {
   "display_name": "Python 3",
   "language": "python",
   "name": "python3"
  },
  "language_info": {
   "codemirror_mode": {
    "name": "ipython",
    "version": 3
   },
   "file_extension": ".py",
   "mimetype": "text/x-python",
   "name": "python",
   "nbconvert_exporter": "python",
   "pygments_lexer": "ipython3",
   "version": "3.11.4"
  },
  "orig_nbformat": 4
 },
 "nbformat": 4,
 "nbformat_minor": 2
}
