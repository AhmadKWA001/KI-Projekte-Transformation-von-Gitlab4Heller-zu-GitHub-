{
 "cells": [
  {
   "cell_type": "markdown",
   "metadata": {},
   "source": [
    "### Plots the heatmap and graphs of the signals meassured for the prediction of the magnet temperature"
   ]
  },
  {
   "cell_type": "code",
   "execution_count": null,
   "metadata": {},
   "outputs": [],
   "source": [
    "import pandas as pd\n",
    "import numpy as np\n",
    "import seaborn\n",
    "import matplotlib.pyplot as plt"
   ]
  },
  {
   "cell_type": "code",
   "execution_count": null,
   "metadata": {},
   "outputs": [],
   "source": [
    "from readIn import readIn"
   ]
  },
  {
   "cell_type": "code",
   "execution_count": null,
   "metadata": {},
   "outputs": [],
   "source": [
    "# all files: \"G:\\\\Innovations@HELLER\\\\DN\\\\KI\\\\Zollern-FH-MillTrunMotor\\\\Datasets\\\\rough_data\\\\database_with_sensor_synchronized\\\\Synchronization_results\"\n",
    "#workdir = \"G:\\\\Innovations@HELLER\\\\DN\\\\KI\\\\Zollern-FH-MillTrunMotor\\\\Datasets\\\\rough_data\\\\database_with_sensor_synchronized\\\\Synchronization_results\"\n",
    "#df = readIn(workdir, ipo = False, safeSingleCsv=False)\n",
    "file = \"G:\\\\Innovations@HELLER\\\\DN\\\\KI\\\\Zollern-FH-MillTrunMotor\\\\Datasets\\\\rough_data\\\\database_with_sensor_synchronized\\\\Synchronization_results\\\\Versuch_19_20062023_ISO_Sync.csv\"\n",
    "df = pd.read_csv(file)\n"
   ]
  },
  {
   "cell_type": "code",
   "execution_count": null,
   "metadata": {},
   "outputs": [],
   "source": [
    "df_heatmap = df.drop(columns=[\"Unnamed: 0\", \"date\", \"ts\",  \"DRZ\", \"prediction\", \"Analytic_sol\"]) #\"filename\", \"start\", \"end\",\n",
    "cor = df_heatmap.corr()\n",
    "plt.figure(figsize=(10,10))\n",
    "seaborn.heatmap(cor, annot=True, vmin= -1, vmax=1)\n",
    "plt.title(\"Korrelationen mit der Motortemperatur\")"
   ]
  },
  {
   "cell_type": "code",
   "execution_count": null,
   "metadata": {},
   "outputs": [],
   "source": [
    "import plotly.graph_objects as go\n",
    "from plotly.subplots import make_subplots\n",
    "import plotly.express as ex\n",
    "import plotly.io as pio\n",
    "\n",
    "\n",
    "scatter_mode= 'lines'\n",
    "df_plot = df.drop(columns=[\"Unnamed: 0\", \"DRZ\"])  #\"filename\", \"start\", \"end\", \n",
    "\n",
    "nrrows = len(df_plot.columns)\n",
    "fig= make_subplots(rows=nrrows, cols=1, shared_xaxes= True, print_grid= True, vertical_spacing=0.01)\n",
    "col_names = df_plot.columns.values\n",
    "i = 0 \n",
    "\n",
    "for column in df_plot:\n",
    "    fig.add_trace(go.Scatter(x= df_plot['date'], y = df_plot[column], name= col_names[i], mode= scatter_mode), row= i+1, col= 1)\n",
    "    i += 1\n",
    "\n",
    "fig.update_layout(height=1200, width=1300, title_text=\"Daten im Dataframe\")\n",
    "fig.show()\n"
   ]
  }
 ],
 "metadata": {
  "kernelspec": {
   "display_name": "Python 3",
   "language": "python",
   "name": "python3"
  },
  "language_info": {
   "codemirror_mode": {
    "name": "ipython",
    "version": 3
   },
   "file_extension": ".py",
   "mimetype": "text/x-python",
   "name": "python",
   "nbconvert_exporter": "python",
   "pygments_lexer": "ipython3",
   "version": "3.11.4"
  },
  "orig_nbformat": 4
 },
 "nbformat": 4,
 "nbformat_minor": 2
}
