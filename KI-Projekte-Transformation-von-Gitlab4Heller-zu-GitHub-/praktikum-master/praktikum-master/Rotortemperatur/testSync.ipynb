{
 "cells": [
  {
   "cell_type": "code",
   "execution_count": null,
   "metadata": {},
   "outputs": [],
   "source": [
    "import numpy as np\n",
    "import pandas as pd\n",
    "import pymongo as py\n",
    "from datetime import datetime, timedelta \n",
    "\n",
    "import plotly.graph_objects as go\n",
    "from plotly.subplots import make_subplots\n",
    "import plotly.express as ex\n",
    "import plotly.io as pio\n",
    "\n",
    "from readIn import readIn"
   ]
  },
  {
   "cell_type": "code",
   "execution_count": null,
   "metadata": {},
   "outputs": [],
   "source": [
    "combinedFilePath = \"C:\\\\Users\\\\wch002\\\\Desktop\\\\RotorTempDRZ\\\\combined\\\\synchronized_2023_06_01_Rotor_combined_test_2.csv\""
   ]
  },
  {
   "cell_type": "code",
   "execution_count": null,
   "metadata": {},
   "outputs": [],
   "source": [
    "df_combined = pd.read_csv(combinedFilePath)\n",
    "print(df_combined)"
   ]
  },
  {
   "cell_type": "code",
   "execution_count": null,
   "metadata": {},
   "outputs": [],
   "source": [
    "scatter_mode= 'lines'\n",
    "\n",
    "nrrows = 1\n",
    "fig= make_subplots(rows=nrrows, cols=1, shared_xaxes= True, print_grid= True, vertical_spacing=0.01, specs=[[{\"secondary_y\": True}]])\n",
    "col_names = df.columns.values\n",
    "\n",
    "fig.add_trace(go.Scatter(x= df_combined['date'], y = df_combined[\"T_MOTOR\"], name= \"T_Motor\", mode= scatter_mode), row= nrrows, col= 1, secondary_y = False)\n",
    "fig.add_trace(go.Scatter(x= df_combined['date'], y = df_combined[\"T_LAGER\"], name= \"T_Lager\", mode= scatter_mode), row= nrrows, col= 1, secondary_y = False)\n",
    "fig.add_trace(go.Scatter(x= df_combined['date'], y = df_combined[\"prediction\"], name= \"prediction\", mode= scatter_mode), row= nrrows, col= 1, secondary_y = False)\n",
    "fig.add_trace(go.Scatter(x= df_combined['date'], y = df_combined[\"Analytic_sol\"], name= \"Analytic_sol\", mode= scatter_mode), row= nrrows, col= 1, secondary_y = False)\n",
    "\n",
    "fig.add_trace(go.Scatter(x= df_combined['date'], y = df_combined[\"No.1\"], name= \"Temp. No.1\", mode= scatter_mode), row= nrrows, col= 1)\n",
    "fig.add_trace(go.Scatter(x= df_combined['date'], y = df_combined[\"No.2\"], name= \"Temp. No.2\", mode= scatter_mode), row= nrrows, col= 1)\n",
    "fig.add_trace(go.Scatter(x= df_combined['date'], y = df_combined[\"No.3\"], name= \"Temp. No.3\", mode= scatter_mode), row= nrrows, col= 1)\n",
    "fig.add_trace(go.Scatter(x= df_combined['date'], y = df_combined[\"No.4\"], name= \"Temp. No.4\", mode= scatter_mode), row= nrrows, col= 1)\n",
    "fig.add_trace(go.Scatter(x= df_combined['date'], y = df_combined[\"No.5\"], name= \"Temp. No.5\", mode= scatter_mode), row= nrrows, col= 1)\n",
    "fig.add_trace(go.Scatter(x= df_combined['date'], y = df_combined[\"No.6\"], name= \"Temp. No.6\", mode= scatter_mode), row= nrrows, col= 1)\n",
    "fig.add_trace(go.Scatter(x= df_combined['date'], y = df_combined[\"No.7\"], name= \"Temp. No.7\", mode= scatter_mode), row= nrrows, col= 1)\n",
    "fig.add_trace(go.Scatter(x= df_combined['date'], y = df_combined[\"No.8\"], name= \"Temp. No.8\", mode= scatter_mode), row= nrrows, col= 1)\n",
    "\n",
    "# fig.add_trace(go.Scatter(x= df_combined['date'], y = df_combined[\"magnet_temperature\"], name= \"magnet_temperature\", mode= scatter_mode), row= nrrows, col= 1, secondary_y = True)\n",
    "# fig.add_trace(go.Scatter(x= df_magnet['date'], y = df_magnet[\"magnet_temperature\"], name= \"old magnet\", mode= scatter_mode), row= nrrows, col= 1, secondary_y = True)\n",
    "\n",
    "fig.update_layout(height=500, width=1300, title_text=\"Magnettemperaturen und Maschinendaten nach der Synchronisation\")\n",
    "fig.show()"
   ]
  }
 ],
 "metadata": {
  "kernelspec": {
   "display_name": "Python 3",
   "language": "python",
   "name": "python3"
  },
  "language_info": {
   "codemirror_mode": {
    "name": "ipython",
    "version": 3
   },
   "file_extension": ".py",
   "mimetype": "text/x-python",
   "name": "python",
   "nbconvert_exporter": "python",
   "pygments_lexer": "ipython3",
   "version": "3.11.4"
  },
  "orig_nbformat": 4
 },
 "nbformat": 4,
 "nbformat_minor": 2
}
