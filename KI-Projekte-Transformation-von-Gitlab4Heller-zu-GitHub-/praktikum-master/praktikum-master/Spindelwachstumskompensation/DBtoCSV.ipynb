{
 "cells": [
  {
   "cell_type": "markdown",
   "metadata": {},
   "source": [
    "### Save data from the database as CSV"
   ]
  },
  {
   "cell_type": "markdown",
   "metadata": {},
   "source": [
    "For a defined timespan and DB configuration, all data is extracted from the database. This data is visualized, and a smaller timespan can be configured. \n",
    "If needed, outliers can be removed. Lastly, the specified data is saved as csv."
   ]
  },
  {
   "cell_type": "code",
   "execution_count": null,
   "metadata": {},
   "outputs": [],
   "source": [
    "import pymongo as py\n",
    "from datetime import datetime, timedelta \n",
    "import pandas as pd\n",
    "import numpy as np\n",
    "import plotly"
   ]
  },
  {
   "cell_type": "code",
   "execution_count": null,
   "metadata": {},
   "outputs": [],
   "source": [
    "#parameters = [\"date\", \"t_bett\", \"t_motor\", \"t_spindle\", \"DRZ2\", \"M8\", \"M121\", \"M127\", \"M7\", \"given2model\", \"welle_z\"]\n",
    "start_sec= datetime.strptime(\"2023-09-06T00:00:00.000+0000\", \"%Y-%m-%dT%H:%M:%S.%f+0000\")\n",
    "end_sec= datetime.strptime(\"2023-09-09T23:30:00.000+0000\", \"%Y-%m-%dT%H:%M:%S.%f+0000\")\n",
    "\n",
    "timeshift = 1"
   ]
  },
  {
   "cell_type": "code",
   "execution_count": null,
   "metadata": {},
   "outputs": [],
   "source": [
    "#####DB Config\n",
    "host= \"M57002edge\"\n",
    "port=27017\n",
    "collection= \"modelLogs\"\n",
    "\n",
    "## Connect to data base and get the events\n",
    "client = py.MongoClient(host= host, port=port)\n",
    "db = client.h4ai\n",
    "start= start_sec # datetime.strptime(\"2022-09-06T00:00:31.000+0000\", \"%Y-%m-%dT%H:%M:%S.%f+0000\")\n",
    "end= end_sec #datetime.strptime (\"2022-09-07T00:00:00.000+0000\", \"%Y-%m-%dT%H:%M:%S.%f+0000\")\n",
    "event_list = db[collection].find({ \"date\" : { '$gte' : start, '$lt' : end} }).sort('date', 1)\n"
   ]
  },
  {
   "cell_type": "code",
   "execution_count": null,
   "metadata": {},
   "outputs": [],
   "source": [
    "df = pd.DataFrame() #columns=parameters\n",
    "\n",
    "for event in event_list:\n",
    "    content = event[\"content\"]\n",
    "    for data in content:\n",
    "        if data[\"date\"] >= start and data[\"date\"] <= end:\n",
    "            raw_data = data[\"raw_data\"]\n",
    "            keylist = raw_data.keys()\n",
    "            #keylist = list(keylist)\n",
    "            raw_data[\"date\"] = data[\"date\"]\n",
    "            raw_data[\"given2model\"] = data[\"given2model\"]\n",
    "            raw_data[\"prediction\"] = data[\"prediction\"]\n",
    "            df_row = pd.DataFrame(raw_data, index= [\"date\"])\n",
    "            df = pd.concat([df, df_row], axis=0, ignore_index=True)\n",
    "df.reset_index(inplace=True)\n",
    "print(df.head(5))"
   ]
  },
  {
   "cell_type": "markdown",
   "metadata": {},
   "source": [
    "Create Plot"
   ]
  },
  {
   "cell_type": "code",
   "execution_count": null,
   "metadata": {},
   "outputs": [],
   "source": [
    "#print(list(df.columns.values))"
   ]
  },
  {
   "cell_type": "code",
   "execution_count": null,
   "metadata": {},
   "outputs": [],
   "source": [
    "import plotly.graph_objects as go\n",
    "from plotly.subplots import make_subplots\n",
    "import plotly.express as ex\n",
    "import plotly.io as pio\n",
    "\n",
    "scatter_mode= 'lines'\n",
    "\n",
    "nrrows = len(df.columns)\n",
    "fig= make_subplots(rows=nrrows, cols=1, shared_xaxes= True, print_grid= True, vertical_spacing=0.01)\n",
    "col_names = df.columns.values\n",
    "i = 0 \n",
    "\n",
    "for column in df:\n",
    "    fig.add_trace(go.Scatter(x= df['date'], y = df[column], name= col_names[i], mode= scatter_mode), row= i+1, col= 1)\n",
    "    i += 1\n",
    "\n",
    "fig.update_layout(height=10000, width=1300, title_text=\"Daten im Dataframe\")\n",
    "fig.show()"
   ]
  },
  {
   "cell_type": "markdown",
   "metadata": {},
   "source": [
    "Truncate to interesting region"
   ]
  },
  {
   "cell_type": "code",
   "execution_count": null,
   "metadata": {},
   "outputs": [],
   "source": [
    "# Define important region\n",
    "\n",
    "start_save = datetime.strptime(\"2023-09-07T16:20:00.000+0000\", \"%Y-%m-%dT%H:%M:%S.%f+0000\")\n",
    "end_save = datetime.strptime(\"2023-09-08T03:50:00.000+0000\", \"%Y-%m-%dT%H:%M:%S.%f+0000\")"
   ]
  },
  {
   "cell_type": "code",
   "execution_count": null,
   "metadata": {},
   "outputs": [],
   "source": [
    "firstId = df.index[0]\n",
    "lastId = df.index[-1]\n",
    "\n",
    "idStartAll = df.index[df['date']>=start_save].tolist()\n",
    "idStart = idStartAll[0]\n",
    "\n",
    "idEndAll = df.index[df['date']>=end_save].tolist()\n",
    "idEnd = idEndAll[0]\n",
    "\n",
    "df_save = df[idStart:idEnd].copy()\n",
    "\n",
    "# print(\" firstID: \" + str(idStart) + \" StopId: \" + str(idEnd))\n",
    "# print(df.info())"
   ]
  },
  {
   "cell_type": "code",
   "execution_count": null,
   "metadata": {},
   "outputs": [],
   "source": [
    "#df_save[\"t_motor\"] = df_save[\"T_Motor_S\"]"
   ]
  },
  {
   "cell_type": "markdown",
   "metadata": {},
   "source": [
    "Remove outliers"
   ]
  },
  {
   "cell_type": "code",
   "execution_count": null,
   "metadata": {},
   "outputs": [],
   "source": [
    "# print(df_save.loc[18170:18210])\n",
    "# print(df_save.loc[18075:18110])\n",
    "# df_save[\"welle_z\"].loc[18080:18104] = (df_save[\"welle_z\"].loc[18079]+df_save[\"welle_z\"].loc[18104])/2\n",
    "# df_save[\"welle_z\"].loc[18175:18199] = (df_save[\"welle_z\"].loc[18174]+df_save[\"welle_z\"].loc[18199])/2\n"
   ]
  },
  {
   "cell_type": "code",
   "execution_count": null,
   "metadata": {},
   "outputs": [],
   "source": [
    "import plotly.graph_objects as go\n",
    "from plotly.subplots import make_subplots\n",
    "import plotly.express as ex\n",
    "import plotly.io as pio\n",
    "\n",
    "scatter_mode= 'lines'\n",
    "\n",
    "nrrows = len(df_save.columns)\n",
    "fig= make_subplots(rows=nrrows, cols=1, shared_xaxes= True, print_grid= True, vertical_spacing=0.01)\n",
    "col_names = df_save.columns.values\n",
    "i = 0 \n",
    "\n",
    "for column in df_save:\n",
    "    fig.add_trace(go.Scatter(x= df_save['date'], y = df_save[column], name= col_names[i], mode= scatter_mode), row= i+1, col= 1)\n",
    "    i += 1\n",
    "\n",
    "fig.update_layout(height=10000, width=1300, title_text=\"Daten im Dataframe\")\n",
    "fig.show()"
   ]
  },
  {
   "cell_type": "markdown",
   "metadata": {},
   "source": [
    "From Dataframe to csv file"
   ]
  },
  {
   "cell_type": "code",
   "execution_count": null,
   "metadata": {},
   "outputs": [],
   "source": [
    "df_save[\"date\"] = df_save[\"date\"] + timedelta(hours=timeshift)\n",
    "df_save.to_csv(\"X:\\\\KI Praktikum\\\\validate_Data\\\\2023_08_23_filtered_data\\\\Versuch07_09_2023_M8_M127_iso_5s.csv\")"
   ]
  }
 ],
 "metadata": {
  "kernelspec": {
   "display_name": "Python 3",
   "language": "python",
   "name": "python3"
  },
  "language_info": {
   "codemirror_mode": {
    "name": "ipython",
    "version": 3
   },
   "file_extension": ".py",
   "mimetype": "text/x-python",
   "name": "python",
   "nbconvert_exporter": "python",
   "pygments_lexer": "ipython3",
   "version": "3.11.4"
  },
  "orig_nbformat": 4
 },
 "nbformat": 4,
 "nbformat_minor": 2
}
