{
 "cells": [
  {
   "cell_type": "markdown",
   "metadata": {},
   "source": [
    "### Interpolate the output data of a csv file"
   ]
  },
  {
   "cell_type": "markdown",
   "metadata": {},
   "source": [
    "For a provided csv file, the interpolated values of the \"welle_z\" column are computer and saved as \"welle_z_ipo\". If neccessary outliers can be removed."
   ]
  },
  {
   "cell_type": "code",
   "execution_count": null,
   "metadata": {},
   "outputs": [],
   "source": [
    "import numpy as np\n",
    "import pandas as pd\n",
    "\n",
    "from datetime import datetime, timedelta \n",
    "\n",
    "import plotly.graph_objects as go\n",
    "from plotly.subplots import make_subplots\n",
    "import plotly.express as ex\n",
    "import plotly.io as pio"
   ]
  },
  {
   "cell_type": "markdown",
   "metadata": {},
   "source": [
    "Define Paths & Parameters"
   ]
  },
  {
   "cell_type": "code",
   "execution_count": null,
   "metadata": {},
   "outputs": [],
   "source": [
    "filepath = \"X:\\\\KI Praktikum\\\\validate_Data\\\\2023_08_23_filtered_data\\\\Versuch29_08_2023_trocken_iso_5s.csv\" \n",
    "                #\"G:\\\\Innovations@HELLER\\\\DN\\\\KI\\\\Temperaturkompensation\\\\Edgebox\\Versuchsdaten\\\\5s_data\\\\for_interpolation\\\\Versuch11_12_2022_M8_iso.csv\"\n",
    "interpolatedFilePath = \"X:\\\\KI Praktikum\\\\validate_Data\\\\2023_08_23_filtered_data\\\\filtered_interpolated_Versuch28_08_2023_M8_iso_5s.csv\"\n",
    "                #\"X:\\\\KI Praktikum\\\\5s_data_interpolated\\\\Versuch11_12_2022_M8_iso_interpolated.csv\"\n",
    "scatter_mode= 'lines'\n",
    "\n",
    "cleanOutlier = False"
   ]
  },
  {
   "cell_type": "markdown",
   "metadata": {},
   "source": [
    "Read in data from csv and plot the original data"
   ]
  },
  {
   "cell_type": "code",
   "execution_count": null,
   "metadata": {},
   "outputs": [],
   "source": [
    "df = pd.read_csv(filepath)\n",
    "df.head(5)"
   ]
  },
  {
   "cell_type": "code",
   "execution_count": null,
   "metadata": {},
   "outputs": [],
   "source": [
    "df_cols = df.copy()     #[[\"Unnamed: 0\", \"date\", \"t_bett\", \"t_motor\", \"t_spindle\", \"DRZ2\", \"M8\", \"M121\", \"M127\", \"M7\", \"given2model\", \"welle_z\"]]"
   ]
  },
  {
   "cell_type": "code",
   "execution_count": null,
   "metadata": {},
   "outputs": [],
   "source": [
    "print(df_cols.loc[df_cols[\"Unnamed: 0\"] == 19000])"
   ]
  },
  {
   "cell_type": "code",
   "execution_count": null,
   "metadata": {},
   "outputs": [],
   "source": [
    "scatter_mode= 'lines'\n",
    "df_plot = df[[\"Unnamed: 0\", \"date\", \"t_bett\", \"t_motor\", \"t_spindle\", \"DRZ2\", \"M8\", \"M121\", \"M127\", \"M7\", \"given2model\", \"welle_z\"]].copy()\n",
    "\n",
    "nrrows = len(df_plot.columns)\n",
    "fig= make_subplots(rows=nrrows, cols=1, shared_xaxes= True, print_grid= True, vertical_spacing=0.01)\n",
    "col_names = df_plot.columns.values\n",
    "i = 0 \n",
    "\n",
    "for column in df_plot:\n",
    "    fig.add_trace(go.Scatter(x= df_plot['date'], y = df_plot[column], name= col_names[i], mode= scatter_mode), row= i+1, col= 1)\n",
    "    i += 1\n",
    "\n",
    "fig.update_layout(height=1000, width=1300, title_text=\"Daten im Dataframe\")\n",
    "fig.show()"
   ]
  },
  {
   "cell_type": "code",
   "execution_count": null,
   "metadata": {},
   "outputs": [],
   "source": [
    "if cleanOutlier:\n",
    "    # delete suprisingly high value for welle_z at 18:59:29 (index 2671 - 2694)\n",
    "    id = df_cols.loc[(df_cols[\"date\"] >= \"2023-08-29 18:59:00.000\") & (df_cols[\"date\"] <= \"2023-08-29 19:01:00.000\")]\n",
    "    #print(id)\n",
    "    print(df_cols.loc[(df_cols['Unnamed: 0'] >=20518) & (df_cols['Unnamed: 0'] <=20577)])\n",
    "    df_clean = df_cols.copy()\n",
    "    df_clean[\"welle_z\"].iloc[2671:2695] = (df_clean[\"welle_z\"].iloc[2670] +df_clean[\"welle_z\"].iloc[2695])/2\n",
    "    print(df_clean.loc[(df_cols['Unnamed: 0'] >=20518) & (df_clean['Unnamed: 0'] <=20577)])"
   ]
  },
  {
   "cell_type": "code",
   "execution_count": null,
   "metadata": {},
   "outputs": [],
   "source": [
    "if cleanOutlier:\n",
    "    df_clean['date'] = pd.to_datetime(df_clean['date'])\n",
    "\n",
    "    # Based on time and pandas\n",
    "    df_clean['welle_z_ipo'] = df_clean['welle_z']\n",
    "    newVal = df_clean['welle_z_ipo'].iloc[0]\n",
    "    lastVal = df_clean['welle_z_ipo'].iloc[-1]\n",
    "\n",
    "    for index, row in df_clean.iterrows():\n",
    "        if index > 0 and row['welle_z_ipo'] == newVal:\n",
    "            df_clean['welle_z_ipo'].iloc[index] = np.nan\n",
    "        else: \n",
    "            if index > 0:\n",
    "                newVal = row['welle_z_ipo']\n",
    "\n",
    "    df_clean.index = df_clean['date']\n",
    "    df_clean['welle_z_ipo'].interpolate(method='time', inplace = True)\n",
    "    df_clean.index = df_clean['Unnamed: 0']\n",
    "\n",
    "    fig= make_subplots(rows=1, cols=1, shared_xaxes= True, print_grid= True, vertical_spacing=0.02)\n",
    "\n",
    "    fig.add_trace(go.Scatter(x=df_clean['date'], y= df_clean['welle_z'], name= 'welle_z', mode= scatter_mode), row= 1, col= 1)\n",
    "    fig.add_trace(go.Scatter(x=df_clean['date'], y= df_clean['welle_z_ipo'], name= 'welle_z_interpolated', mode= scatter_mode), row= 1, col= 1)\n",
    "    fig.update_yaxes(title_text= 'Abweichungen [mm]', row= 1, col= 1)\n",
    "\n",
    "    fig.update_layout(height=600, width=1300, title_text=\"Welle_z original und interpoliert\")\n",
    "    fig.show()"
   ]
  },
  {
   "cell_type": "markdown",
   "metadata": {},
   "source": [
    "Compute the interpolated values for welle_z and plot the original and interpolated values of welle_z"
   ]
  },
  {
   "cell_type": "code",
   "execution_count": null,
   "metadata": {},
   "outputs": [],
   "source": [
    "if not cleanOutlier:\n",
    "    df_cols['date'] = pd.to_datetime(df_cols['date'])\n"
   ]
  },
  {
   "cell_type": "code",
   "execution_count": null,
   "metadata": {},
   "outputs": [],
   "source": [
    "if not cleanOutlier:\n",
    "    # Based on time and pandas\n",
    "    df_cols['welle_z_ipo'] = df_cols['welle_z']\n",
    "    newVal = df_cols['welle_z_ipo'].iloc[0]\n",
    "    lastVal = df_cols['welle_z_ipo'].iloc[-1]\n",
    "\n",
    "    for index, row in df_cols.iterrows():\n",
    "        if index > 0 and row['welle_z_ipo'] == newVal:\n",
    "            df_cols['welle_z_ipo'].iloc[index] = np.nan\n",
    "        else: \n",
    "            if index > 0:\n",
    "                newVal = row['welle_z_ipo']\n",
    "\n",
    "    df_cols.index = df_cols['date']\n",
    "    df_cols['welle_z_ipo'].interpolate(method='time', inplace = True)\n",
    "    df_cols.index = df_cols['Unnamed: 0']"
   ]
  },
  {
   "cell_type": "code",
   "execution_count": null,
   "metadata": {},
   "outputs": [],
   "source": [
    "if not cleanOutlier:\n",
    "    fig= make_subplots(rows=1, cols=1, shared_xaxes= True, print_grid= True, vertical_spacing=0.02)\n",
    "\n",
    "    fig.add_trace(go.Scatter(x=df_cols['date'], y= df_cols['welle_z'], name= 'welle_z', mode= scatter_mode), row= 1, col= 1)\n",
    "    fig.add_trace(go.Scatter(x=df_cols['date'], y= df_cols['welle_z_ipo'], name= 'welle_z_interpolated', mode= scatter_mode), row= 1, col= 1)\n",
    "    fig.update_yaxes(title_text= 'Abweichungen [mm]', row= 1, col= 1)\n",
    "\n",
    "    fig.update_layout(height=600, width=1300, title_text=\"Welle_z original und interpoliert\")\n",
    "    fig.show()"
   ]
  },
  {
   "cell_type": "markdown",
   "metadata": {},
   "source": [
    "Save interpolated data into defined folder"
   ]
  },
  {
   "cell_type": "code",
   "execution_count": null,
   "metadata": {},
   "outputs": [],
   "source": [
    "if cleanOutlier:\n",
    "    df_clean.to_csv(interpolatedFilePath)\n",
    "else:\n",
    "    df_cols.to_csv(interpolatedFilePath)"
   ]
  }
 ],
 "metadata": {
  "kernelspec": {
   "display_name": "Python 3",
   "language": "python",
   "name": "python3"
  },
  "language_info": {
   "codemirror_mode": {
    "name": "ipython",
    "version": 3
   },
   "file_extension": ".py",
   "mimetype": "text/x-python",
   "name": "python",
   "nbconvert_exporter": "python",
   "pygments_lexer": "ipython3",
   "version": "3.11.4"
  },
  "orig_nbformat": 4
 },
 "nbformat": 4,
 "nbformat_minor": 2
}
