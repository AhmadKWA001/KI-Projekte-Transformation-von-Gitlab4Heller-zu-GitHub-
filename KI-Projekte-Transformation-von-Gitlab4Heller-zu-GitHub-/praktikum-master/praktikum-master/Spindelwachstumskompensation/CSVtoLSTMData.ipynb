{
 "cells": [
  {
   "cell_type": "markdown",
   "metadata": {},
   "source": [
    "### Transform csv files into LSTM data with specifiable window and shift"
   ]
  },
  {
   "cell_type": "markdown",
   "metadata": {},
   "source": [
    "Need to provide:\n",
    "- Path of the training data\n",
    "- Path of the validation data\n",
    "- Path of a pipeline\n",
    "- filenames to save the generated training and validation data to\n",
    "- The different shifts and windows used. These are the same for the training and validation data"
   ]
  },
  {
   "cell_type": "code",
   "execution_count": null,
   "metadata": {},
   "outputs": [],
   "source": [
    "import numpy as np\n",
    "from joblib import load\n",
    "import json"
   ]
  },
  {
   "cell_type": "code",
   "execution_count": null,
   "metadata": {},
   "outputs": [],
   "source": [
    "from readIn import readIn"
   ]
  },
  {
   "cell_type": "code",
   "execution_count": null,
   "metadata": {},
   "outputs": [],
   "source": [
    "trainDataPath = \"X:\\\\KI Praktikum\\\\validate_Data\\\\training_data\"\n",
    "valDataPath = \"X:\\\\KI Praktikum\\\\validate_Data\\\\validation_data\"\n",
    "pathname = \"X:\\\\KI Praktikum\\\\pipeline.p\"\n",
    "filenames_train = [[\"X:\\\\KI Praktikum\\\\validate_Data\\\\training_data\\\\train_s5_w50_x.json\", \"X:\\\\KI Praktikum\\\\validate_Data\\\\training_data\\\\train_s5_w50_y.json\"],\n",
    "                   [\"X:\\\\KI Praktikum\\\\validate_Data\\\\training_data\\\\train_s6_w50_x.json\", \"X:\\\\KI Praktikum\\\\validate_Data\\\\training_data\\\\train_s6_w50_y.json\"],\n",
    "                   [\"X:\\\\KI Praktikum\\\\validate_Data\\\\training_data\\\\train_s7_w50_x.json\", \"X:\\\\KI Praktikum\\\\validate_Data\\\\training_data\\\\train_s7_w50_y.json\"],\n",
    "                   [\"X:\\\\KI Praktikum\\\\validate_Data\\\\training_data\\\\train_s5_w60_x.json\", \"X:\\\\KI Praktikum\\\\validate_Data\\\\training_data\\\\train_s5_w60_y.json\"],\n",
    "                   [\"X:\\\\KI Praktikum\\\\validate_Data\\\\training_data\\\\train_s6_w60_x.json\", \"X:\\\\KI Praktikum\\\\validate_Data\\\\training_data\\\\train_s6_w60_y.json\"],\n",
    "                   [\"X:\\\\KI Praktikum\\\\validate_Data\\\\training_data\\\\train_s7_w60_x.json\", \"X:\\\\KI Praktikum\\\\validate_Data\\\\training_data\\\\train_s7_w60_y.json\"],\n",
    "                   [\"X:\\\\KI Praktikum\\\\validate_Data\\\\training_data\\\\train_s5_w70_x.json\", \"X:\\\\KI Praktikum\\\\validate_Data\\\\training_data\\\\train_s5_w70_y.json\"],\n",
    "                   [\"X:\\\\KI Praktikum\\\\validate_Data\\\\training_data\\\\train_s6_w70_x.json\", \"X:\\\\KI Praktikum\\\\validate_Data\\\\training_data\\\\train_s6_w70_y.json\"],\n",
    "                   [\"X:\\\\KI Praktikum\\\\validate_Data\\\\training_data\\\\train_s7_w70_x.json\", \"X:\\\\KI Praktikum\\\\validate_Data\\\\training_data\\\\train_s7_w70_y.json\"]]\n",
    "filenames_val = [[\"X:\\\\KI Praktikum\\\\validate_Data\\\\validation_data\\\\val_s5_w50_x.json\", \"X:\\\\KI Praktikum\\\\validate_Data\\\\validation_data\\\\val_s5_w50_y.json\"],\n",
    "                   [\"X:\\\\KI Praktikum\\\\validate_Data\\\\validation_data\\\\val_s6_w50_x.json\", \"X:\\\\KI Praktikum\\\\validate_Data\\\\validation_data\\\\val_s6_w50_y.json\"],\n",
    "                   [\"X:\\\\KI Praktikum\\\\validate_Data\\\\validation_data\\\\val_s7_w50_x.json\", \"X:\\\\KI Praktikum\\\\validate_Data\\\\validation_data\\\\val_s7_w50_y.json\"],\n",
    "                   [\"X:\\\\KI Praktikum\\\\validate_Data\\\\validation_data\\\\val_s5_w60_x.json\", \"X:\\\\KI Praktikum\\\\validate_Data\\\\validation_data\\\\val_s5_w60_y.json\"],\n",
    "                   [\"X:\\\\KI Praktikum\\\\validate_Data\\\\validation_data\\\\val_s6_w60_x.json\", \"X:\\\\KI Praktikum\\\\validate_Data\\\\validation_data\\\\val_s6_w60_y.json\"],\n",
    "                   [\"X:\\\\KI Praktikum\\\\validate_Data\\\\validation_data\\\\val_s7_w60_x.json\", \"X:\\\\KI Praktikum\\\\validate_Data\\\\validation_data\\\\val_s7_w60_y.json\"],\n",
    "                   [\"X:\\\\KI Praktikum\\\\validate_Data\\\\validation_data\\\\val_s5_w70_x.json\", \"X:\\\\KI Praktikum\\\\validate_Data\\\\validation_data\\\\val_s5_w70_y.json\"],\n",
    "                   [\"X:\\\\KI Praktikum\\\\validate_Data\\\\validation_data\\\\val_s6_w70_x.json\", \"X:\\\\KI Praktikum\\\\validate_Data\\\\validation_data\\\\val_s6_w70_y.json\"],\n",
    "                   [\"X:\\\\KI Praktikum\\\\validate_Data\\\\validation_data\\\\val_s7_w70_x.json\", \"X:\\\\KI Praktikum\\\\validate_Data\\\\validation_data\\\\val_s7_w70_y.json\"]]\n",
    "shift = [5, 6, 7]\n",
    "window = [50, 60, 70]"
   ]
  },
  {
   "cell_type": "code",
   "execution_count": null,
   "metadata": {},
   "outputs": [],
   "source": [
    "# generateDataSource() -> 3D array von den Daten\n",
    "### window  represents time period by each entry in the buffer\n",
    "### Shift represents the jump from value to next one in the buffer\n",
    "### sampling rate\n",
    "\n",
    "def generateDataSource(signal_input=None, input_columns: list = [], output_length: int = 1, signal_output=None, window=1, shift=1, sample_rate=1):\n",
    "    #subsequence_len= (window -1) *shift + 1\n",
    "    subsequence_len= (window) *shift\n",
    "    Signal_Length = signal_input.shape[0]\n",
    "    num_samples = 1 + int((Signal_Length - subsequence_len) / sample_rate)\n",
    "    x = np.zeros(shape=(num_samples, window, signal_input.shape[1]))\n",
    "    y = np.zeros(shape=(num_samples, output_length, 1))\n",
    "    for i in range(num_samples):\n",
    "        x[i] = np.asarray([signal_input[i*sample_rate + j * shift] for j in range(0,window)])\n",
    "        y[i] = signal_output[i*sample_rate + (window-1) * shift :i*sample_rate+ (window-1) * shift + output_length]\n",
    "    return x, y"
   ]
  },
  {
   "cell_type": "code",
   "execution_count": null,
   "metadata": {},
   "outputs": [],
   "source": [
    "# Using Mustafas function\n",
    "def SaveJsonWindows(filenames, shift, window, x_transform, y_train, x_validation = None, y_validation = None):\n",
    "    i = 0\n",
    "    if x_validation != None:\n",
    "        x_in = np.concatenate((x_transform, x_validation))\n",
    "    else: \n",
    "        x_in = x_transform\n",
    "    if y_validation != None:\n",
    "        y_in = np.concatenate((y_train, y_validation))\n",
    "    else: \n",
    "        y_in = y_train\n",
    "\n",
    "    for w in window:\n",
    "        for s in shift:\n",
    "            x_cv, y_cv = generateDataSource(signal_input = x_in, signal_output=y_in, window = w, shift=s, sample_rate=1)\n",
    "            out_x = open(filenames[i][0], mode=\"x\")\n",
    "            json.dump(x_cv.tolist(), out_x)\n",
    "            out_x.close()\n",
    "            out_y = open(filenames[i][1], mode=\"x\")\n",
    "            json.dump(y_cv.tolist(), out_y)\n",
    "            out_y.close()\n",
    "            i += 1"
   ]
  },
  {
   "cell_type": "code",
   "execution_count": null,
   "metadata": {},
   "outputs": [],
   "source": [
    "def OpenJsontoArr(path):\n",
    "    file = open(path)\n",
    "    x_3d = json.load(file)\n",
    "    file.close()\n",
    "    x_3d = np.asarray(x_3d)\n",
    "    return x_3d"
   ]
  },
  {
   "cell_type": "code",
   "execution_count": null,
   "metadata": {},
   "outputs": [],
   "source": [
    "df_train = readIn(trainDataPath, ipo=False, safeSingleCsv = False)\n",
    "df_val = readIn(valDataPath, ipo=False, safeSingleCsv = False)"
   ]
  },
  {
   "cell_type": "code",
   "execution_count": null,
   "metadata": {},
   "outputs": [],
   "source": [
    "print(df_train.head(5))\n",
    "print(df_val.head(5))"
   ]
  },
  {
   "cell_type": "code",
   "execution_count": null,
   "metadata": {},
   "outputs": [],
   "source": [
    "df_train[\"welle_z_ipo\"] = 1000*df_train[\"welle_z_iterpolated\"]\n",
    "df_val[\"welle_z_ipo\"] = 1000*df_val[\"welle_z_iterpolated\"]\n",
    "df_val = df_val.drop(columns=[\"welle_z_iterpolated\"])\n",
    "df_train = df_train.drop(columns=[\"welle_z_iterpolated\"])"
   ]
  },
  {
   "cell_type": "code",
   "execution_count": null,
   "metadata": {},
   "outputs": [],
   "source": [
    "y_train = df_train[\"welle_z_ipo\"]\n",
    "parameters = [\"t_bett\", \"t_motor\", \"t_spindle\", \"M8\", \"M121\", \"M127\", \"M7\"]\n",
    "x_train = df_train[parameters].to_numpy()\n",
    "\n",
    "y_val = df_val[\"welle_z_ipo\"]\n",
    "x_val = df_val[parameters].to_numpy()"
   ]
  },
  {
   "cell_type": "code",
   "execution_count": null,
   "metadata": {},
   "outputs": [],
   "source": [
    "newpipeline = load(pathname)\n",
    "x_transform = newpipeline.fit_transform(x_train)\n",
    "x_test = newpipeline.transform(x_val)\n",
    "newpipeline.steps[2][1].explained_variance_ratio_"
   ]
  },
  {
   "cell_type": "code",
   "execution_count": null,
   "metadata": {},
   "outputs": [],
   "source": [
    "SaveJsonWindows(filenames=filenames_train, shift=shift, window=window, x_transform=x_transform, y_train=y_train)\n",
    "SaveJsonWindows(filenames=filenames_val, shift=shift, window=window, x_transform=x_test, y_train=y_val)\n"
   ]
  }
 ],
 "metadata": {
  "kernelspec": {
   "display_name": "Python 3",
   "language": "python",
   "name": "python3"
  },
  "language_info": {
   "codemirror_mode": {
    "name": "ipython",
    "version": 3
   },
   "file_extension": ".py",
   "mimetype": "text/x-python",
   "name": "python",
   "nbconvert_exporter": "python",
   "pygments_lexer": "ipython3",
   "version": "3.11.4"
  },
  "orig_nbformat": 4
 },
 "nbformat": 4,
 "nbformat_minor": 2
}
