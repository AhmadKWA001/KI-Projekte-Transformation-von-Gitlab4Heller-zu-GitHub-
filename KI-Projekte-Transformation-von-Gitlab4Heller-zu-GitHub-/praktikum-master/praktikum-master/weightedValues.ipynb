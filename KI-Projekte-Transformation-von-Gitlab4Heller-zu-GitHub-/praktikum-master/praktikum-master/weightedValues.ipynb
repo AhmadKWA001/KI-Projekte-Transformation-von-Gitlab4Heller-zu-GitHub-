{
 "cells": [
  {
   "cell_type": "code",
   "execution_count": null,
   "metadata": {},
   "outputs": [],
   "source": [
    "import numpy as np\n",
    "import pandas as pd\n"
   ]
  },
  {
   "cell_type": "code",
   "execution_count": null,
   "metadata": {},
   "outputs": [],
   "source": [
    "def weightValues(df, weightMin=1, weightMax=2):\n",
    "    a = 0       # berechne Gewichtung in Bereich 0, 1\n",
    "    b = 1       # transformiere dann in den gewünschten Bereich (weightMin bis weightMax)\n",
    "    # c = weightMin      \n",
    "    # d = weightMax\n",
    "    num_val = len(df)\n",
    "    hist, bin_edges = np.histogram(df[:, 1])\n",
    "    weight_arr = np.zeros(df.shape[0])\n",
    "    for index, row in df.iterrows():\n",
    "        for e in range(len(bin_edges)-1):\n",
    "            if row[\"y\"] == max(bin_edges):\n",
    "                weight_arr[index] = 1 - (hist[-1]/num_val)\n",
    "                break\n",
    "            if row[\"y\"] < bin_edges[e+1]:\n",
    "                weight_arr[index] = 1 - (hist[e]/num_val)\n",
    "                break\n",
    "    weight_arr = (weightMax-weightMin)/(b-a)*weight_arr + weightMin -a\n",
    "    df[\"weights\"] = weight_arr.tolist()\n",
    "    return df"
   ]
  },
  {
   "cell_type": "code",
   "execution_count": null,
   "metadata": {},
   "outputs": [],
   "source": [
    "arr = np.array([[0, 0],\n",
    "                [1, 0],\n",
    "                [2, 0],\n",
    "                [3, 0],\n",
    "                [4, 0],\n",
    "                [5, 1],\n",
    "                [6, 0], \n",
    "                [7, 0],\n",
    "                [8, 1],\n",
    "                [9, 2],\n",
    "                [10, 3],\n",
    "                [11, 3],\n",
    "                [12, 2],\n",
    "                [13, 1],\n",
    "                [14, 0],\n",
    "                [15, 0],\n",
    "                [16, 0],\n",
    "                [17, 0],\n",
    "                [18, 0],\n",
    "                [19, 1],\n",
    "                [20, 1],\n",
    "                [21, 2],\n",
    "                [22, 3],\n",
    "                [23, 2],\n",
    "                [24, 1],\n",
    "                [25, 0],\n",
    "                [26, 0],\n",
    "                [27, 0],\n",
    "                [28, 0],\n",
    "                [29, 1],\n",
    "                [30, 0],\n",
    "                [31, 0],\n",
    "                [32, 0],\n",
    "                [33, 1],\n",
    "                [34, 0],\n",
    "                [35, 0], \n",
    "                [36, 0],\n",
    "                [37, 0],\n",
    "                [38, -7],\n",
    "                [39, -6.5]])\n",
    "df = pd.DataFrame(arr)\n",
    "df[\"index\"] = df[0]\n",
    "df[\"y\"] = df[1]\n",
    "df = df.drop(axis = 1, columns = [0, 1])"
   ]
  },
  {
   "cell_type": "code",
   "execution_count": null,
   "metadata": {},
   "outputs": [],
   "source": [
    "#bin_bounds = np.histogram_bin_edges(arr[:, 1])\n",
    "num_val = len(arr)\n",
    "hist, bin_edges = np.histogram(arr[:, 1])\n",
    "print(hist, bin_edges)"
   ]
  },
  {
   "cell_type": "code",
   "execution_count": null,
   "metadata": {},
   "outputs": [],
   "source": [
    "dfweight = weightValues(df)\n",
    "print(dfweight)"
   ]
  }
 ],
 "metadata": {
  "kernelspec": {
   "display_name": "Python 3",
   "language": "python",
   "name": "python3"
  },
  "language_info": {
   "codemirror_mode": {
    "name": "ipython",
    "version": 3
   },
   "file_extension": ".py",
   "mimetype": "text/x-python",
   "name": "python",
   "nbconvert_exporter": "python",
   "pygments_lexer": "ipython3",
   "version": "3.11.4"
  },
  "orig_nbformat": 4
 },
 "nbformat": 4,
 "nbformat_minor": 2
}
