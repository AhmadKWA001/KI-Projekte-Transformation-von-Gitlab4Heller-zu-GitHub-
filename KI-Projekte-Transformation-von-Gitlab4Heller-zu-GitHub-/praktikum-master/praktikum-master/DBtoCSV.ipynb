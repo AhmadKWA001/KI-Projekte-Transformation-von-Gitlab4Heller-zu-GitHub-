{
 "cells": [
  {
   "cell_type": "code",
   "execution_count": null,
   "metadata": {},
   "outputs": [],
   "source": [
    "import pymongo as py\n",
    "from datetime import datetime, timedelta \n",
    "import pandas as pd\n",
    "import numpy as np\n",
    "import plotly"
   ]
  },
  {
   "cell_type": "code",
   "execution_count": null,
   "metadata": {},
   "outputs": [],
   "source": []
  },
  {
   "cell_type": "code",
   "execution_count": null,
   "metadata": {},
   "outputs": [],
   "source": []
  },
  {
   "cell_type": "code",
   "execution_count": null,
   "metadata": {},
   "outputs": [],
   "source": [
    "parameters = [\"date\", \"t_bett\", \"t_motor\", \"t_spindle\", \"DRZ2\", \"M8\", \"M121\", \"M127\", \"M7\", \"given2model\", \"welle_z\"]\n",
    "start_sec = datetime.strptime(\"2022-09-06T11:00:04.000+0000\", \"%Y-%m-%dT%H:%M:%S.%f+0000\")\n",
    "end_sec = datetime.strptime(\"2022-09-07T02:00:59.000+0000\", \"%Y-%m-%dT%H:%M:%S.%f+0000\")\n",
    "timeshift = 2"
   ]
  },
  {
   "cell_type": "code",
   "execution_count": null,
   "metadata": {},
   "outputs": [],
   "source": [
    "#####DB Config\n",
    "\n",
    "host= \"DevEdgeV32\"\n",
    "port=27017\n",
    "collection= \"modelLogs\"\n",
    "\n",
    "## Connect to data base and get the events\n",
    "\n",
    "client = py.MongoClient(host= host, port=port)\n",
    "db = client.h4ai\n",
    "start= datetime.strptime(\"2022-09-06T00:00:31.000+0000\", \"%Y-%m-%dT%H:%M:%S.%f+0000\")\n",
    "end= datetime.strptime (\"2022-09-07T00:00:00.000+0000\", \"%Y-%m-%dT%H:%M:%S.%f+0000\")\n",
    "event_list = db[collection].find({ \"date\" : { '$gte' : start, '$lt' : end} }).sort('date', 1)\n"
   ]
  },
  {
   "cell_type": "code",
   "execution_count": null,
   "metadata": {},
   "outputs": [],
   "source": [
    "# start_sec = datetime.strptime(\"2022-09-06T10:30:31.000+0000\", \"%Y-%m-%dT%H:%M:%S.%f+0000\")\n",
    "# end_sec = datetime.strptime(\"2022-09-06T11:30:31.000+0000\", \"%Y-%m-%dT%H:%M:%S.%f+0000\")\n",
    "# for event in event_list:\n",
    "#     content = event[\"content\"]\n",
    "#     for data in content:\n",
    "#         if data[\"date\"] >= start_sec and data[\"date\"] <= end_sec:\n",
    "#             raw_data = data[\"raw_data\"]\n",
    "            # print(\"Date: \" + str(data[\"date\"]) + \" t_bett: \" + str(raw_data[\"t_bett\"]) + \" t_motor: \" + str(raw_data[\"t_motor\"]) \n",
    "            #       + \" t_spindel: \" + str(raw_data[\"t_spindle\"]) + \" DRZH: \" + str(raw_data[\"DRZ2\"]))\n"
   ]
  },
  {
   "cell_type": "code",
   "execution_count": null,
   "metadata": {},
   "outputs": [],
   "source": [
    "df = pd.DataFrame(columns=parameters)\n",
    "\n",
    "for event in event_list:\n",
    "    content = event[\"content\"]\n",
    "    for data in content:\n",
    "        if data[\"date\"] >= start and data[\"date\"] <= end:\n",
    "            raw_data = data[\"raw_data\"]\n",
    "\n",
    "            dictRow = {'date': data[\"date\"], 't_bett': raw_data[\"t_bett\"], 't_motor': raw_data[\"t_motor\"], 't_spindle': raw_data[\"t_spindle\"], 'DRZ2': raw_data[\"DRZ2\"],\n",
    "                       'M8': raw_data[\"M8\"], 'M121': raw_data[\"M121\"], 'M127': raw_data[\"M127\"], 'M7': raw_data[\"M7\"], 'given2model': data[\"given2model\"], 'welle_z':data[\"welle_z\"]}\n",
    "            df_row = pd.DataFrame([dictRow])\n",
    "            df = pd.concat([df, df_row], axis=0, ignore_index=True)\n",
    "\n",
    "print(df.head(5))"
   ]
  },
  {
   "cell_type": "markdown",
   "metadata": {},
   "source": [
    "Create Plot"
   ]
  },
  {
   "cell_type": "code",
   "execution_count": null,
   "metadata": {},
   "outputs": [],
   "source": [
    "import plotly.graph_objects as go\n",
    "from plotly.subplots import make_subplots\n",
    "import plotly.express as ex\n",
    "import plotly.io as pio\n",
    "\n",
    "scatter_mode= 'lines'\n",
    "\n",
    "#y_axis_names= ['t_bett', 't_motor', 't_spindle', 'DRZ2', 'M8', 'M121', 'M127', 'M7', 'given2model', 'welle_z']\n",
    "fig= make_subplots(rows=2, cols=2, shared_xaxes= True, print_grid= True, vertical_spacing=0.02)\n",
    "\n",
    "fig.add_trace(go.Scatter(x= df['date'], y= df['t_bett'], name= 't_bett', mode= scatter_mode), row= 1, col= 1)\n",
    "fig.add_trace(go.Scatter(x= df['date'], y= df['t_motor'], name= 't_motor', mode= scatter_mode), row= 1, col= 1)\n",
    "fig.add_trace(go.Scatter(x= df['date'], y= df['t_spindle'], name= 't_spindle', mode= scatter_mode), row= 1, col= 1)\n",
    "fig.add_trace(go.Scatter(x= df['date'], y= df['welle_z'], name= 'welle_z', mode= scatter_mode), row= 1, col= 1)\n",
    "fig.update_yaxes(title_text= 'Abweichungen [mm]', row= 1, col= 1)\n",
    "\n",
    "fig.add_trace(go.Scatter(x= df['date'], y= df['DRZ2'], name= 'DRZ2', mode= scatter_mode), row= 1, col= 2)\n",
    "fig.update_yaxes(title_text= 'Drehzahl [1/min]', row= 1, col= 2)\n",
    "\n",
    "fig.add_trace(go.Scatter(x= df['date'], y= df['M8'], name= 'M8', mode= scatter_mode), row= 2, col= 1)\n",
    "fig.add_trace(go.Scatter(x= df['date'], y= df['M121'], name= 'M121', mode= scatter_mode), row= 2, col= 1)\n",
    "fig.add_trace(go.Scatter(x= df['date'], y= df['M127'], name= 'M127', mode= scatter_mode), row= 2, col= 1)\n",
    "fig.add_trace(go.Scatter(x= df['date'], y= df['M7'], name= 'M7', mode= scatter_mode), row= 2, col= 1)\n",
    "fig.update_yaxes(title_text= 'Kühlmittelbits', row= 2, col= 1)\n",
    "\n",
    "\n",
    "fig.update_layout(height=600, width=1300, title_text=\"Daten im Dataframe\")\n",
    "fig.show()"
   ]
  },
  {
   "cell_type": "markdown",
   "metadata": {},
   "source": [
    "Truncate to interesting region"
   ]
  },
  {
   "cell_type": "code",
   "execution_count": null,
   "metadata": {},
   "outputs": [],
   "source": [
    "# Define important region\n",
    "\n",
    "start_save = datetime.strptime(\"2022-09-06T08:07:04.000+0000\", \"%Y-%m-%dT%H:%M:%S.%f+0000\")\n",
    "end_save = datetime.strptime(\"2022-09-06T20:29:59.000+0000\", \"%Y-%m-%dT%H:%M:%S.%f+0000\")"
   ]
  },
  {
   "cell_type": "code",
   "execution_count": null,
   "metadata": {},
   "outputs": [],
   "source": [
    "firstId = df.index[0]\n",
    "lastId = df.index[-1]\n",
    "\n",
    "idStartAll = df.index[df['date']>=start_save].tolist()\n",
    "idStart = idStartAll[0]\n",
    "\n",
    "idEndAll = df.index[df['date']>=end_save].tolist()\n",
    "idEnd = idEndAll[0]\n",
    "\n",
    "df = df[idStart:idEnd].copy()\n",
    "\n",
    "# print(\" firstID: \" + str(idStart) + \" StopId: \" + str(idEnd))\n",
    "# print(df.info())"
   ]
  },
  {
   "cell_type": "code",
   "execution_count": null,
   "metadata": {},
   "outputs": [],
   "source": [
    "scatter_mode= 'lines'\n",
    "\n",
    "#y_axis_names= ['t_bett', 't_motor', 't_spindle', 'DRZ2', 'M8', 'M121', 'M127', 'M7', 'given2model', 'welle_z']\n",
    "fig= make_subplots(rows=2, cols=2, shared_xaxes= True, print_grid= True, vertical_spacing=0.02)\n",
    "#fig= make_subplots(rows=1, cols=1,shared_xaxes= True, print_grid= True, vertical_spacing=0.02, specs=[[{\"secondary_y\": True}]])\n",
    "\n",
    "#for i in range(nrRows):\n",
    "fig.add_trace(go.Scatter(x= df['date'], y= df['t_bett'], name= 't_bett', mode= scatter_mode), row= 1, col= 1)\n",
    "fig.add_trace(go.Scatter(x= df['date'], y= df['t_motor'], name= 't_motor', mode= scatter_mode), row= 1, col= 1)\n",
    "fig.add_trace(go.Scatter(x= df['date'], y= df['t_spindle'], name= 't_spindle', mode= scatter_mode), row= 1, col= 1)\n",
    "fig.add_trace(go.Scatter(x= df['date'], y= df['welle_z'], name= 'welle_z', mode= scatter_mode), row= 1, col= 1)\n",
    "fig.update_yaxes(title_text= 'Abweichungen [mm]', row= 1, col= 1)\n",
    "\n",
    "fig.add_trace(go.Scatter(x= df['date'], y= df['DRZ2'], name= 'DRZ2', mode= scatter_mode), row= 1, col= 2)\n",
    "fig.update_yaxes(title_text= 'Drehzahl [1/min]', row= 1, col= 2)\n",
    "\n",
    "fig.add_trace(go.Scatter(x= df['date'], y= df['M8'], name= 'M8', mode= scatter_mode), row= 2, col= 1)\n",
    "fig.add_trace(go.Scatter(x= df['date'], y= df['M121'], name= 'M121', mode= scatter_mode), row= 2, col= 1)\n",
    "fig.add_trace(go.Scatter(x= df['date'], y= df['M127'], name= 'M127', mode= scatter_mode), row= 2, col= 1)\n",
    "fig.add_trace(go.Scatter(x= df['date'], y= df['M7'], name= 'M7', mode= scatter_mode), row= 2, col= 1)\n",
    "fig.update_yaxes(title_text= 'Kühlmittelbits', row= 2, col= 1)\n",
    "\n",
    "\n",
    "#fig.add_trace(go.Scatter(x= df['date'],y= predictions / 1000, name='Model prediction', mode= scatter_mode), row= len(visualization_columns) -1, col= 1)\n",
    "fig.update_layout(height=600, width=1300, title_text=\"Daten im Dataframe\")\n",
    "fig.show()"
   ]
  },
  {
   "cell_type": "markdown",
   "metadata": {},
   "source": [
    "From Dataframe to csv file"
   ]
  },
  {
   "cell_type": "code",
   "execution_count": null,
   "metadata": {},
   "outputs": [],
   "source": [
    "df[\"date\"] = df[\"date\"] + timedelta(hours=timeshift)\n",
    "df.to_csv(\"X:\\\\KI Praktikum\\\\5s_data_for_interpolation\\\\2022-09-06-cleaned.csv\")\n"
   ]
  }
 ],
 "metadata": {
  "kernelspec": {
   "display_name": "Python 3",
   "language": "python",
   "name": "python3"
  },
  "language_info": {
   "codemirror_mode": {
    "name": "ipython",
    "version": 3
   },
   "file_extension": ".py",
   "mimetype": "text/x-python",
   "name": "python",
   "nbconvert_exporter": "python",
   "pygments_lexer": "ipython3",
   "version": "3.11.4"
  },
  "orig_nbformat": 4
 },
 "nbformat": 4,
 "nbformat_minor": 2
}
