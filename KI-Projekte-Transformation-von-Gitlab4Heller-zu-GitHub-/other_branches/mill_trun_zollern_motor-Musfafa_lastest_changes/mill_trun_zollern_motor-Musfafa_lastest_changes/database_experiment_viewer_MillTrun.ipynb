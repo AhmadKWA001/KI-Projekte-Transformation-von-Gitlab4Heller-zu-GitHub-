{
 "cells": [
  {
   "attachments": {},
   "cell_type": "markdown",
   "metadata": {},
   "source": [
    "View expermints of Mill-Turn-Zollern-Motor from database\n"
   ]
  },
  {
   "cell_type": "markdown",
   "metadata": {},
   "source": [
    "Load Libraries"
   ]
  },
  {
   "cell_type": "code",
   "execution_count": null,
   "metadata": {},
   "outputs": [],
   "source": [
    "#### Load Libraries\n",
    "import numpy as np\n",
    "from joblib import load\n",
    "import glob \n",
    "import  pandas as pd\n",
    "import matplotlib.pyplot as plt\n",
    "import os\n",
    "from pymongo import MongoClient\n",
    "import plotly.express as ex\n",
    "from plotly.subplots import make_subplots\n",
    "import plotly.graph_objects as go\n",
    "from datetime import datetime\n",
    "from datetime import timedelta\n",
    "import plotly.io as pio"
   ]
  },
  {
   "cell_type": "markdown",
   "metadata": {},
   "source": [
    "Set parameters"
   ]
  },
  {
   "cell_type": "code",
   "execution_count": null,
   "metadata": {},
   "outputs": [],
   "source": [
    "workspace= \"G:\\\\Innovations@HELLER\\\\DN\\\\KI\\\\Zollern-FH-MillTrunMotor\\\\Datasets\\\\rough_data\\\\database_with_sensor_synchronized\\\\Synchronization_results\\\\visualization\"\n",
    "###['Drehzahl','Temp_Motor','Temp_Klemmung', 'Temp_Lager']\n",
    "output_variable='prediction'\n",
    "nominated_signal= 'prediction'\n",
    "prediction_variable= 'prediction'\n",
    "time_shift= +1\n",
    "selected_Columns= ['DRZ','Temp_Klemmung', 'Temp_Lager','Temp_Motor','Analytic_sol','ai_hmi_sol', prediction_variable  ]"
   ]
  },
  {
   "cell_type": "markdown",
   "metadata": {},
   "source": [
    "Set time priod needed"
   ]
  },
  {
   "cell_type": "code",
   "execution_count": null,
   "metadata": {},
   "outputs": [],
   "source": [
    "start= datetime.strptime(\"2024-01-18T00:00:00.000+0000\", \"%Y-%m-%dT%H:%M:%S.%f+0000\")\n",
    "end= datetime.strptime (\"2024-01-20T16:00:00.000+0000\", \"%Y-%m-%dT%H:%M:%S.%f+0000\")\n"
   ]
  },
  {
   "cell_type": "code",
   "execution_count": null,
   "metadata": {},
   "outputs": [],
   "source": [
    "host= \"dnedge127v334\"#\"m53763edge\"\n",
    "port=27017\n",
    "collection= \"thermal_data\"\n",
    "all_data= True"
   ]
  },
  {
   "cell_type": "markdown",
   "metadata": {},
   "source": [
    "Get Data from database"
   ]
  },
  {
   "cell_type": "code",
   "execution_count": null,
   "metadata": {},
   "outputs": [],
   "source": [
    "## Read raw and preprocessing data\n",
    "client = MongoClient(host= host, port=port)\n",
    "db = client.h4ai\n",
    "event_list = db[collection].find({ \"date\" : { '$gte' : start, '$lt' : end} }).sort('date', 1)\n",
    "signals= None\n",
    "i=0\n",
    "last_prediction= -500\n",
    "prev_time= None\n",
    "current_time= None\n",
    "stop= False\n",
    "### Go through events in DB\n",
    "for event in event_list:\n",
    "    i+=1\n",
    "    record_list= event['content']\n",
    "    keys= None\n",
    "    ### Go through records in each event\n",
    "    for record in record_list:\n",
    "        ### Get right data between start / end \n",
    "        if record['date']< start or record['date'] > end:\n",
    "            continue\n",
    "        current_time= record['date']+ timedelta(hours= time_shift)\n",
    "        if prev_time is not None  and (current_time -prev_time).total_seconds()> 5.5:\n",
    "            print('Period= ', (current_time -prev_time).total_seconds())\n",
    "            print('prev_time', prev_time)\n",
    "            print('current_time', current_time)\n",
    "            print('#########################################################')\n",
    "        for item in record['raw_data'].keys():\n",
    "            record['raw_data'][item]= [np.double(np.round(record['raw_data'][item],decimals=2))]\n",
    "        record['raw_data']['date']=[current_time]\n",
    "        record['raw_data']['given2model']=[record['given2model']]\n",
    "        record['raw_data']['prediction']= [record['prediction']]\n",
    "        ####################################\n",
    "        #print ('After ',record)\n",
    "        lf_signal_point= pd.DataFrame(record['raw_data'])\n",
    "        if signals is None:\n",
    "            signals= lf_signal_point\n",
    "        else:\n",
    "            signals= signals.append(lf_signal_point,ignore_index= True)\n",
    "        prev_time= current_time\n",
    "signals.reset_index(inplace= True)\n",
    "output=  signals[output_variable]\n",
    "machine_prediction= signals[prediction_variable]"
   ]
  },
  {
   "cell_type": "code",
   "execution_count": null,
   "metadata": {},
   "outputs": [],
   "source": [
    "scatter_mode= 'lines'#'lines'# 'lines+markers'# 'markers'No.1,No.2,No.3,No.4,No.5,No.6,No.7,No.8\n",
    "y_axis_names= selected_Columns\n",
    "#print(preds)\n",
    "fig= make_subplots(rows=5,cols=1,shared_xaxes= True, print_grid= True, vertical_spacing=0.02)\n",
    "##DRZ\n",
    "fig.add_trace(go.Scatter(x= signals['date'], y= signals['DRZ5'], name='given2model', mode= scatter_mode), row= 1, col= 1)\n",
    "fig.update_yaxes(title_text= 'DRZ (RPM)', row= 1, col= 1)\n",
    "##T_KLEMMUNG\n",
    "fig.add_trace(go.Scatter(x= signals['date'], y= signals['T_KLEMMUNG'], name='T_KLEMMUNG', mode= scatter_mode), row= 2, col= 1)\n",
    "fig.update_yaxes(title_text= 'T_KLEMMUNG C°', row= 2, col= 1)\n",
    "##T_LAGER\n",
    "fig.add_trace(go.Scatter(x= signals['date'], y= signals['T_LAGER'], name='T_LAGER', mode= scatter_mode), row= 3, col= 1)\n",
    "fig.update_yaxes(title_text= 'T_LAGER C°', row= 3, col= 1)\n",
    "##'T_MOTOR'\n",
    "fig.add_trace(go.Scatter(x= signals['date'], y= signals['T_MOTOR'], name='T_MOTOR', mode= scatter_mode), row= 4, col= 1)\n",
    "fig.update_yaxes(title_text= 'T_MOTOR C°', row= 4, col= 1)\n",
    "##'prediction_variable'\n",
    "fig.add_trace(go.Scatter(x= signals['date'], y= signals['ai_hmi_sol'], name='magnet_temperature ai_hmi_sol', mode= scatter_mode), row= 5, col= 1)\n",
    "fig.add_trace(go.Scatter(x= signals['date'], y= signals[prediction_variable], name=prediction_variable, mode= scatter_mode), row= 5, col= 1)\n",
    "fig.add_trace(go.Scatter(x= signals['date'], y= signals['Analytic_itc'], name='Analytic_itc', mode= scatter_mode), row= 5, col= 1)\n",
    "fig.update_yaxes(title_text= 'Rotor Temperature C°', row= 5, col= 1)\n",
    "##Restfehler\n",
    "#fig.add_trace(go.Scatter(x= signals['date'], y= signals['No.8']- signals['Analytic_sol'], name=' Error-Analytic', mode= scatter_mode),  row= 6 , col= 1)\n",
    "#fig.add_trace(go.Scatter(x= signals['date'], y= signals['No.8']- signals[prediction_variable], name=' Error-Data-Driven', mode= scatter_mode),  row= 6 , col= 1)\n",
    "    ## Draw the tolerence +-5\n",
    "#fig.add_trace(go.Scatter(x= signals['date'], y= np.full_like(signals['db_prediction_abs_error'],5), name='+5 Obere Grenze', mode= scatter_mode),  row= 10 , col= 1)\n",
    "#fig.add_trace(go.Scatter(x= signals['date'], y= np.full_like(signals['db_prediction_abs_error'],-5), name='- 5 Obere Grenze', mode= scatter_mode),  row= 10 , col= 1)\n",
    "fig.update_yaxes(title_text= 'Error in Rotor Temperature C°', row= 6, col= 1)\n",
    "fig.update_layout(height=800, width=1400, title_text= 'M57002 Machine Data')\n",
    "fig.show()\n",
    "        "
   ]
  },
  {
   "cell_type": "code",
   "execution_count": null,
   "metadata": {},
   "outputs": [],
   "source": [
    "# signals.to_csv('Dauerlauf12_13_10_2023.csv')"
   ]
  }
 ],
 "metadata": {
  "kernelspec": {
   "display_name": "Python 3",
   "language": "python",
   "name": "python3"
  },
  "language_info": {
   "codemirror_mode": {
    "name": "ipython",
    "version": 3
   },
   "file_extension": ".py",
   "mimetype": "text/x-python",
   "name": "python",
   "nbconvert_exporter": "python",
   "pygments_lexer": "ipython3",
   "version": "3.7.7"
  },
  "vscode": {
   "interpreter": {
    "hash": "a58a25343f99ae6e283c189afd7abc602dec6c63d356cacabf499812ae322086"
   }
  }
 },
 "nbformat": 4,
 "nbformat_minor": 2
}
