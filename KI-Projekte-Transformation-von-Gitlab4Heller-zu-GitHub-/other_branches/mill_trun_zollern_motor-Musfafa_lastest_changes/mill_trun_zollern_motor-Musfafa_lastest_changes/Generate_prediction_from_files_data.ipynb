{
 "cells": [
  {
   "attachments": {},
   "cell_type": "markdown",
   "metadata": {},
   "source": [
    "View .CSV file of expermints of Mill-Turn-Zollern-Motor"
   ]
  },
  {
   "attachments": {},
   "cell_type": "markdown",
   "metadata": {},
   "source": [
    "Load Libraries"
   ]
  },
  {
   "cell_type": "code",
   "execution_count": null,
   "metadata": {},
   "outputs": [],
   "source": [
    "#### Load Libraries\n",
    "import numpy as np\n",
    "from joblib import load\n",
    "import glob \n",
    "import  pandas as pd\n",
    "import matplotlib.pyplot as plt\n",
    "import os\n",
    "from pymongo import MongoClient\n",
    "import plotly.express as ex\n",
    "from plotly.subplots import make_subplots\n",
    "import plotly.graph_objects as go\n",
    "from datetime import datetime\n",
    "from datetime import timedelta\n",
    "import plotly.io as pio\n",
    "from tensorflow.keras.models import Model, load_model"
   ]
  },
  {
   "attachments": {},
   "cell_type": "markdown",
   "metadata": {},
   "source": [
    "Set parameters"
   ]
  },
  {
   "cell_type": "code",
   "execution_count": null,
   "metadata": {},
   "outputs": [],
   "source": [
    "version= 'v0.0.10'#'v0.0.8'\n",
    "workspace= \"G:\\\\Innovations@HELLER\\\\DN\\\\KI\\\\Zollern-FH-MillTrunMotor\\\\Datasets\\\\rough_data\\\\\\database_with_sensor_synchronized\\\\Synchronization_results\\\\Versuch_19_20062023_ISO_Sync.csv\"\n",
    "assests_dir= 'G:\\\\Innovations@HELLER\\\\DN\\\\KI\\\\Zollern-FH-MillTrunMotor\\\\Datasets\\\\workspace\\\\assets\\\\'+version+'\\\\'\n",
    "preprocessor_dir=assests_dir\n",
    "preprocessor_name='preprocessor.p'\n",
    "model_dir= assests_dir\n",
    "model_name= 'model.h5'\n",
    "###['Drehzahl','Temp_Motor','Temp_Klemmung', 'Temp_Lager']\n",
    "model_input_Columns= ['I_MOMENT_G', 'T_LAGER', 'T_MOTOR', 'DRZ5']#['T_LAGER', 'T_MOTOR', 'T_KLEMMUNG']#['T_LAGER', 'T_MOTOR', 'T_KLEMMUNG']\n",
    "output_variable= 'prediction'\n",
    "prediction_variable= 'prediction'\n",
    "window= 40#20v7#30v09\n",
    "time_shift= +2\n",
    "response_time= 5\n",
    "time_relevance= 5\n",
    "recording_time= 5\n",
    "num_model_features= len(model_input_Columns)\n",
    "smoothing_window= 10\n",
    "to_smooth_signals='magnet_temperature'\n",
    "target_variable= 'magnet_temperature_smoothed'\n",
    "smoothing_window= 20"
   ]
  },
  {
   "cell_type": "code",
   "execution_count": null,
   "metadata": {},
   "outputs": [],
   "source": [
    "def rounding(signals: np.ndarray):\n",
    "    return np.round(signals,2)"
   ]
  },
  {
   "cell_type": "code",
   "execution_count": null,
   "metadata": {},
   "outputs": [],
   "source": [
    "def get_abs_value(data):\n",
    "    if type(data) is pd.DataFrame:\n",
    "        result= data.to_numpy()\n",
    "    else:    \n",
    "        result= data\n",
    "    result[:,-1]= np.abs(result[:,-1])\n",
    "    return result"
   ]
  },
  {
   "cell_type": "code",
   "execution_count": null,
   "metadata": {},
   "outputs": [],
   "source": [
    "### load models\n",
    "pipeline= load(str(preprocessor_dir+preprocessor_name))\n",
    "print('preprocessor is loaded successfully')\n",
    "model= load_model(str(model_dir + model_name), compile= False)\n",
    "print('Model is loaded successfully')\n",
    "print(model.input_shape)"
   ]
  },
  {
   "attachments": {},
   "cell_type": "markdown",
   "metadata": {},
   "source": [
    "Simulate the prediction by passing values with 5 seconds"
   ]
  },
  {
   "cell_type": "code",
   "execution_count": null,
   "metadata": {},
   "outputs": [],
   "source": [
    "def extract_time_relevance_array(input_array: np.ndarray, output_shape):\n",
    "        input_time = input_array.shape[1]  # in case of 5 Seconds it will be 240 seconds\n",
    "        output_time = output_shape[1]  # in case of 2 Minutes it will be 10\n",
    "        step = int(input_time / output_time)\n",
    "        result_array = np.zeros(output_shape)\n",
    "        for i in range(0, output_time):\n",
    "            #print('place in result: ', output_time - i - 1, ' place in original: ', input_time - i * step - 1)\n",
    "            result_array[0, output_time - i - 1, :] = input_array[0, input_time - i * step - 1, :]\n",
    "        return result_array"
   ]
  },
  {
   "cell_type": "code",
   "execution_count": null,
   "metadata": {},
   "outputs": [],
   "source": [
    "def smoothing_data(input: pd.DataFrame, window= 240, signals=''):\n",
    "    input[str(signals+'_smoothed')]= input[signals].rolling(window= window).mean().shift(-int(window/2)).round(2)\n",
    "    input= input[window:-window]\n",
    "    return input"
   ]
  },
  {
   "cell_type": "code",
   "execution_count": null,
   "metadata": {},
   "outputs": [],
   "source": [
    "signals= pd.read_csv(workspace)\n",
    "signals['date']= pd.to_datetime(signals['date'])\n",
    "signals= smoothing_data(signals, window= smoothing_window, signals=to_smooth_signals)"
   ]
  },
  {
   "cell_type": "code",
   "execution_count": null,
   "metadata": {},
   "outputs": [],
   "source": [
    "#### Simulate the prediction by passing values with 5 seconds ########\n",
    "preds= []\n",
    "input_data= signals.copy()\n",
    "shape=(1,window,num_model_features)\n",
    "output_sec_shape= (1, int(window*np.ceil((time_relevance/recording_time))), num_model_features)\n",
    "print('Requested buffer shape to the model= {}', shape)\n",
    "print('Orginal buffer shape to the model= {}', output_sec_shape)\n",
    "first_run= True\n",
    "inputsignal_list= model_input_Columns\n",
    "last_prediction_time= None\n",
    "out= 0\n",
    "prev_record_time= None\n",
    "for index, data_point in input_data.iterrows():\n",
    "    if prev_record_time is not None and (data_point['date']  - prev_record_time).total_seconds() < recording_time:\n",
    "        print('Escaped!')\n",
    "        #preds.append(out)\n",
    "        signals= signals[signals['date']!= data_point['date']]\n",
    "        continue\n",
    "    else:\n",
    "        prev_record_time= data_point['date']\n",
    "    #print ('index: ', index, ', Date: ', data_point['date'])\n",
    "    new_signal_list = [float(data_point[sig]) for sig in inputsignal_list]\n",
    "    #print ('New_signal_list: ', new_signal_list, ' timestamp: ', data_point['date'])\n",
    "    rough_input_array= np.asarray([new_signal_list])\n",
    "    signals_ = pipeline.transform(rough_input_array)#np.asarray([new_signal_list])#\n",
    "    if first_run:\n",
    "        #print ('index: ', index, ', Date: ', data_point['date'])\n",
    "        #print('time_ diff= ', str((data_point['date'] - last_prediction_time).total_seconds()))\n",
    "        # Auffüllen der Struktur - Bei erstem Start ist nur ein Datensatz vorhanden,\n",
    "        # dieser wird mit np.full in alle kopiert\n",
    "        hf_array= np.float32(np.full(output_sec_shape, signals_[0]))\n",
    "        array= extract_time_relevance_array(hf_array,shape)\n",
    "        #outputs = ort_sess.run(None, {'x': array})\n",
    "        outputs =model.predict(array)\n",
    "        #out = outputs[0][0][0] / 1000\n",
    "        out = outputs[0][0]\n",
    "        #print('Predciction First time. Input Buffer: ', array, 'prediction: ', out)\n",
    "        preds.append(out)\n",
    "        first_run = False\n",
    "        last_prediction_time= data_point['date']\n",
    "        #print('prediction_time: ', data_point['date'])\n",
    "        continue\n",
    "    elif (data_point['date'] - last_prediction_time).total_seconds()< response_time:\n",
    "            #print('No prediction. Just shift')\n",
    "            hf_array [0][:-1] = hf_array[0][1:]\n",
    "            hf_array[0, -1, :] = signals_[0]\n",
    "            preds.append(out)\n",
    "            continue \n",
    "    else:\n",
    "        #print ('index: ', index, ', Date: ', data_point['date'])\n",
    "        #print('time_ diff= ', str((data_point['date'] - last_prediction_time).total_seconds()))\n",
    "        #print(\"....Shifting the 5 seconds buffer and insert the new 5s-value\")\n",
    "        hf_array [0][:-1] = hf_array[0][1:]\n",
    "        hf_array[0, -1, :] = signals_[0]\n",
    "        array= extract_time_relevance_array(hf_array, shape)\n",
    "        array = np.float32(array)\n",
    "        ## Apply predicitions on 2 minutes buffer\n",
    "        outputs =model.predict(array)\n",
    "        #out = outputs[0][0][0] / 1000\n",
    "        out = outputs[0][0]\n",
    "        #print('Prediction Normal state. Input Buffer: ', array, 'prediction: ', out)\n",
    "        preds.append(out)\n",
    "        last_prediction_time= data_point['date']\n",
    "        #print('prediction_time: ', data_point['date'])\n",
    "    #signals['local_preds'][index]= out\n",
    "    #print(signals.iloc[index])\n",
    "    #print('#########################################################################')"
   ]
  },
  {
   "cell_type": "code",
   "execution_count": null,
   "metadata": {},
   "outputs": [],
   "source": [
    "signals['local_preds']= preds\n",
    "local_prediction_error= signals[output_variable] - signals['local_preds']"
   ]
  },
  {
   "attachments": {},
   "cell_type": "markdown",
   "metadata": {},
   "source": [
    "Visualize the results"
   ]
  },
  {
   "cell_type": "code",
   "execution_count": null,
   "metadata": {},
   "outputs": [],
   "source": [
    "scatter_mode= 'lines'#'lines'# 'lines+markers'# 'markers'\n",
    "selected_Columns= ['DRZ','Temp_Klemmung', 'Temp_Lager','Temp_Motor', prediction_variable, 'local_preds']\n",
    "#print(preds)\n",
    "fig= make_subplots(rows=6,cols=1,shared_xaxes= True, print_grid= True, vertical_spacing=0.02)\n",
    "##DRZ\n",
    "fig.add_trace(go.Scatter(x= signals['date'], y= signals['DRZ5'], name='given2model', mode= scatter_mode), row= 1, col= 1)\n",
    "fig.update_yaxes(title_text= 'DRZ (RPM)', row= 1, col= 1)\n",
    "##T_KLEMMUNG\n",
    "fig.add_trace(go.Scatter(x= signals['date'], y= signals['T_KLEMMUNG'], name='T_KLEMMUNG', mode= scatter_mode), row= 2, col= 1)\n",
    "fig.update_yaxes(title_text= 'T_KLEMMUNG C°', row= 2, col= 1)\n",
    "##T_LAGER\n",
    "fig.add_trace(go.Scatter(x= signals['date'], y= signals['T_LAGER'], name='T_LAGER', mode= scatter_mode), row= 3, col= 1)\n",
    "fig.update_yaxes(title_text= 'T_LAGER C°', row= 3, col= 1)\n",
    "##'T_MOTOR'\n",
    "fig.add_trace(go.Scatter(x= signals['date'], y= signals['T_MOTOR'], name='T_MOTOR', mode= scatter_mode), row= 4, col= 1)\n",
    "fig.update_yaxes(title_text= 'T_MOTOR C°', row= 4, col= 1)\n",
    "##'prediction_variable'\n",
    "#fig.add_trace(go.Scatter(x= signals['date'], y= signals[prediction_variable], name=prediction_variable, mode= scatter_mode), row= 5, col= 1)\n",
    "fig.add_trace(go.Scatter(x= signals['date'], y= signals[target_variable], name=target_variable, mode= scatter_mode), row= 5, col= 1)\n",
    "fig.add_trace(go.Scatter(x= signals['date'], y= signals['magnet_temperature'], name='magnet_temperature', mode= scatter_mode), row= 5, col= 1)\n",
    "fig.add_trace(go.Scatter(x= signals['date'], y= signals['local_preds'], name='Datengetreibene Lösung', mode= scatter_mode), row= 5, col= 1)\n",
    "fig.add_trace(go.Scatter(x= signals['date'], y= signals['prediction'], name='Machine_preds', mode= scatter_mode), row= 5, col= 1)\n",
    "fig.add_trace(go.Scatter(x= signals['date'], y= signals['Analytic_sol'], name='Analytic_Lösung', mode= scatter_mode), row= 5, col= 1)\n",
    "fig.update_yaxes(title_text= 'Rotor Temperatur C°', row= 5, col= 1)\n",
    "# ##Restfehler\n",
    "fig.add_trace(go.Scatter(x= signals['date'], y= signals['local_preds'] - signals['magnet_temperature'], name=' Restfehler datengetriebne Vorhersage', mode= scatter_mode),  row= 6 , col= 1)\n",
    "fig.add_trace(go.Scatter(x= signals['date'], y= signals['Analytic_sol'] - signals['magnet_temperature'], name=' Restfehler analytische vorhersage', mode= scatter_mode),  row= 6 , col= 1)\n",
    "# fig.add_trace(go.Scatter(x= signals['date'], y= signals['Analytic_sol'] - df['magnet_temperature'], name=' Restfehler analytische Lösung', mode= scatter_mode),  row= 6 , col= 1)\n",
    "#     ## Draw the tolerence +-5\n",
    "# #fig.add_trace(go.Scatter(x= signals['date'], y= np.full_like(signals['db_prediction_abs_error'],5), name='+5 Obere Grenze', mode= scatter_mode),  row= 10 , col= 1)\n",
    "# #fig.add_trace(go.Scatter(x= signals['date'], y= np.full_like(signals['db_prediction_abs_error'],-5), name='- 5 Obere Grenze', mode= scatter_mode),  row= 10 , col= 1)\n",
    "fig.update_yaxes(title_text= 'Fehler bei Rotor Temperatur C°', row= 6, col= 1)\n",
    "fig.update_layout(height=1200, width=1400, title_text= 'M57002 Machine Data')\n",
    "fig.show()"
   ]
  }
 ],
 "metadata": {
  "kernelspec": {
   "display_name": "Python 3",
   "language": "python",
   "name": "python3"
  },
  "language_info": {
   "codemirror_mode": {
    "name": "ipython",
    "version": 3
   },
   "file_extension": ".py",
   "mimetype": "text/x-python",
   "name": "python",
   "nbconvert_exporter": "python",
   "pygments_lexer": "ipython3",
   "version": "3.8.8"
  },
  "vscode": {
   "interpreter": {
    "hash": "a58a25343f99ae6e283c189afd7abc602dec6c63d356cacabf499812ae322086"
   }
  }
 },
 "nbformat": 4,
 "nbformat_minor": 2
}
