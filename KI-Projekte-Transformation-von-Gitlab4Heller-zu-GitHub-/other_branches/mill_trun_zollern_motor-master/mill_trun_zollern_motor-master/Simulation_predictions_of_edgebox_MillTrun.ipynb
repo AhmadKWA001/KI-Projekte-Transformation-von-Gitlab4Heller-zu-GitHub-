{
 "cells": [
  {
   "attachments": {},
   "cell_type": "markdown",
   "metadata": {},
   "source": [
    "-Simulate the progress of generation of predctions on the machine and make comparasion between the results.\n",
    "- Generate the predictions in Batch Mode and compare them with the correspondings of sequential mode "
   ]
  },
  {
   "cell_type": "markdown",
   "metadata": {},
   "source": [
    "Load Libraries"
   ]
  },
  {
   "cell_type": "code",
   "execution_count": null,
   "metadata": {},
   "outputs": [],
   "source": [
    "#### Load Libraries\n",
    "import numpy as np\n",
    "from joblib import load\n",
    "from keras.models import Model, load_model\n",
    "import glob \n",
    "import  pandas as pd\n",
    "import matplotlib.pyplot as plt\n",
    "from keras.losses import mean_absolute_error as mae, mean_squared_error as mse, mean_absolute_percentage_error as mape\n",
    "import os\n",
    "from pymongo import MongoClient\n",
    "import plotly.express as ex\n",
    "from plotly.subplots import make_subplots\n",
    "import plotly.graph_objects as go\n",
    "from datetime import datetime\n",
    "from datetime import timedelta\n",
    "import plotly.io as pio"
   ]
  },
  {
   "cell_type": "markdown",
   "metadata": {},
   "source": [
    "Initialize Tensorflow"
   ]
  },
  {
   "cell_type": "code",
   "execution_count": null,
   "metadata": {},
   "outputs": [],
   "source": [
    "import tensorflow as tf\n",
    "physical_devices = tf.config.list_physical_devices('GPU')\n",
    "tf.config.experimental.set_memory_growth(physical_devices[0], enable=True)"
   ]
  },
  {
   "cell_type": "markdown",
   "metadata": {},
   "source": [
    "DB Config"
   ]
  },
  {
   "cell_type": "code",
   "execution_count": null,
   "metadata": {},
   "outputs": [],
   "source": [
    "#####DB Config\n",
    "#####DB Config\n",
    "host= \"m53763edge\"\n",
    "port=27017\n",
    "collection= \"thermal_data\"\n",
    "all_data= True\n",
    "get_preprocessed_data= False"
   ]
  },
  {
   "cell_type": "markdown",
   "metadata": {},
   "source": [
    "Set parameters"
   ]
  },
  {
   "cell_type": "code",
   "execution_count": null,
   "metadata": {},
   "outputs": [],
   "source": [
    "version= 'v0.0.7'\n",
    "workspace= \"G:\\\\Innovations@HELLER\\\\DN\\\\KI\\\\Zollern-FH-MillTrunMotor\\\\Datasets\\\\workspace\\\\data\\\\training\"\n",
    "assests_dir= 'G:\\\\Innovations@HELLER\\\\DN\\\\KI\\\\Zollern-FH-MillTrunMotor\\\\Datasets\\\\workspace\\\\assets\\\\'+version+'\\\\'\n",
    "preprocessor_dir=assests_dir\n",
    "preprocessor_name='preprocessor.p'\n",
    "model_dir= assests_dir\n",
    "model_name= 'model.h5'\n",
    "###['Drehzahl','Temp_Motor','Temp_Klemmung', 'Temp_Lager']\n",
    "model_input_Columns=  ['T_LAGER', 'T_MOTOR', 'T_KLEMMUNG']\n",
    "output_variable= 'prediction'\n",
    "prediction_variable= 'prediction'\n",
    "window=20\n",
    "time_shift= +2\n",
    "response_time= 5\n",
    "time_relevance= 5\n",
    "recording_time= 5"
   ]
  },
  {
   "cell_type": "markdown",
   "metadata": {},
   "source": []
  },
  {
   "cell_type": "markdown",
   "metadata": {},
   "source": [
    "Remove t_bett function"
   ]
  },
  {
   "cell_type": "code",
   "execution_count": null,
   "metadata": {},
   "outputs": [],
   "source": [
    "def remove_t_bett(data: np.ndarray):\n",
    "    result= data[:, 1:]\n",
    "    result[:,0]= result[:,0] - data[:,0]\n",
    "    result[:,1]= result[:,1] - data[:,0]\n",
    "    return result"
   ]
  },
  {
   "cell_type": "code",
   "execution_count": null,
   "metadata": {},
   "outputs": [],
   "source": [
    "def rounding(signals: np.ndarray):\n",
    "    return np.round(signals,2)"
   ]
  },
  {
   "cell_type": "code",
   "execution_count": null,
   "metadata": {},
   "outputs": [],
   "source": [
    "# ### Auxiliary function for rounding\n",
    "# def rounding(signals: np.ndarray):\n",
    "#     ##rounding t_motor to nearest integer\n",
    "#     signals[:,1]= np.round(signals[:,1])\n",
    "#     signals= np.round(signals, 2)\n",
    "#     return signals"
   ]
  },
  {
   "cell_type": "markdown",
   "metadata": {},
   "source": [
    "Load Model and Preprocessor"
   ]
  },
  {
   "cell_type": "code",
   "execution_count": null,
   "metadata": {},
   "outputs": [],
   "source": [
    "### load models\n",
    "pipeline= load(str(preprocessor_dir+preprocessor_name))\n",
    "print('preprocessor is loaded successfully')\n",
    "model= load_model(str(model_dir + model_name), compile= False)\n",
    "print('Model is loaded successfully')\n",
    "print (model.summary())"
   ]
  },
  {
   "cell_type": "markdown",
   "metadata": {},
   "source": [
    "Set time priod needed"
   ]
  },
  {
   "cell_type": "code",
   "execution_count": null,
   "metadata": {},
   "outputs": [],
   "source": [
    "start= datetime.strptime(\"2023-06-19T14:00:00.000+0000\", \"%Y-%m-%dT%H:%M:%S.%f+0000\")\n",
    "end= datetime.strptime (\"2023-06-20T14:00:00.000+0000\", \"%Y-%m-%dT%H:%M:%S.%f+0000\")\n",
    "# start= datetime.strptime(\"2023-06-15T14:00:00.000+0000\", \"%Y-%m-%dT%H:%M:%S.%f+0000\")\n",
    "# end= datetime.strptime (\"2023-06-16T13:00:00.000+0000\", \"%Y-%m-%dT%H:%M:%S.%f+0000\")"
   ]
  },
  {
   "cell_type": "markdown",
   "metadata": {},
   "source": [
    "Get Data from database"
   ]
  },
  {
   "cell_type": "code",
   "execution_count": null,
   "metadata": {},
   "outputs": [],
   "source": [
    "## Read raw and preprocessing data\n",
    "client = MongoClient(host= host, port=port)\n",
    "db = client.h4ai\n",
    "event_list = db[collection].find({ \"date\" : { '$gte' : start, '$lt' : end} }).sort('date', 1)\n",
    "signals= None\n",
    "i=0\n",
    "last_prediction= -500\n",
    "prev_time= None\n",
    "current_time= None\n",
    "stop= False\n",
    "### Go through events in DB\n",
    "for event in event_list:\n",
    "    i+=1\n",
    "    record_list= event['content']\n",
    "    keys= None\n",
    "    ### Go through records in each event\n",
    "    for record in record_list:\n",
    "        ### Get right data between start / end \n",
    "        if record['date']< start or record['date'] > end:\n",
    "            continue\n",
    "        current_time= record['date']+ timedelta(hours= time_shift)\n",
    "        if prev_time is not None  and (current_time -prev_time).total_seconds()> 5.5:\n",
    "            print('Period= ', (current_time -prev_time).total_seconds())\n",
    "            print('prev_time', prev_time)\n",
    "            print('current_time', current_time)\n",
    "            print('#########################################################')\n",
    "        for item in record['raw_data'].keys():\n",
    "            record['raw_data'][item]= [np.double(np.round(record['raw_data'][item],decimals=2))]\n",
    "        record['raw_data']['date']=[current_time]\n",
    "        record['raw_data']['given2model']=[record['given2model']]\n",
    "        record['raw_data']['prediction']= [record['prediction']]\n",
    "        ####################################\n",
    "        #print ('After ',record)\n",
    "        lf_signal_point= pd.DataFrame(record['raw_data'])\n",
    "        if signals is None:\n",
    "            signals= lf_signal_point\n",
    "        else:\n",
    "            signals= signals.append(lf_signal_point,ignore_index= True)\n",
    "        prev_time= current_time\n",
    "signals.reset_index(inplace= True)\n",
    "output=  signals[output_variable]\n",
    "machine_prediction= signals[prediction_variable]"
   ]
  },
  {
   "attachments": {},
   "cell_type": "markdown",
   "metadata": {},
   "source": [
    "Visualize Retreived Signals"
   ]
  },
  {
   "cell_type": "code",
   "execution_count": null,
   "metadata": {},
   "outputs": [],
   "source": [
    "scatter_mode= 'lines'#'lines'# 'lines+markers'# 'markers'\n",
    "selected_Columns= ['DRZ','Temp_Klemmung', 'Temp_Lager','Temp_Motor','Analytic_sol', prediction_variable, output_variable, 'db_prediction_abs_error']\n",
    "y_axis_names= selected_Columns\n",
    "#print(preds)\n",
    "fig= make_subplots(rows=5,cols=1,shared_xaxes= True, print_grid= True, vertical_spacing=0.02)\n",
    "##DRZ\n",
    "fig.add_trace(go.Scatter(x= signals['date'], y= signals['DRZ5'], name='DRZ', mode= scatter_mode), row= 1, col= 1)\n",
    "fig.update_yaxes(title_text= 'DRZ (RPM)', row= 1, col= 1)\n",
    "##T_KLEMMUNG\n",
    "fig.add_trace(go.Scatter(x= signals['date'], y= signals['T_KLEMMUNG'], name='T_KLEMMUNG', mode= scatter_mode), row= 2, col= 1)\n",
    "fig.update_yaxes(title_text= 'T_KLEMMUNG C°', row= 2, col= 1)\n",
    "##T_LAGER\n",
    "fig.add_trace(go.Scatter(x= signals['date'], y= signals['T_LAGER'], name='T_LAGER', mode= scatter_mode), row= 3, col= 1)\n",
    "fig.update_yaxes(title_text= 'T_LAGER C°', row= 3, col= 1)\n",
    "##'T_MOTOR'\n",
    "fig.add_trace(go.Scatter(x= signals['date'], y= signals['T_MOTOR'], name='T_MOTOR', mode= scatter_mode), row= 4, col= 1)\n",
    "fig.update_yaxes(title_text= 'T_MOTOR C°', row= 4, col= 1)\n",
    "##'prediction_variable'\n",
    "fig.add_trace(go.Scatter(x= signals['date'], y= signals[prediction_variable], name=prediction_variable, mode= scatter_mode), row= 5, col= 1)\n",
    "fig.add_trace(go.Scatter(x= signals['date'], y= signals['Analytic_sol'], name='Analytic_sol', mode= scatter_mode), row= 5, col= 1)\n",
    "fig.update_yaxes(title_text= 'Rotor Temperatur C°', row= 5, col= 1)\n",
    "fig.update_layout(height=1200, width=1400, title_text= 'M57002 Machine Data')\n",
    "fig.show()"
   ]
  },
  {
   "attachments": {},
   "cell_type": "markdown",
   "metadata": {},
   "source": [
    "Calculate the error after the correction"
   ]
  },
  {
   "cell_type": "code",
   "execution_count": null,
   "metadata": {},
   "outputs": [],
   "source": [
    "# signals['db_prediction_abs_error']= signals[prediction_variable] -signals[output_variable]"
   ]
  },
  {
   "cell_type": "code",
   "execution_count": null,
   "metadata": {},
   "outputs": [],
   "source": [
    "signals.columns"
   ]
  },
  {
   "attachments": {},
   "cell_type": "markdown",
   "metadata": {},
   "source": [
    "Read Magent Temperature File"
   ]
  },
  {
   "cell_type": "code",
   "execution_count": null,
   "metadata": {},
   "outputs": [],
   "source": [
    "file_path= \"G:\\\\Innovations@HELLER\\\\DN\\\\KI\\\\Zollern-FH-MillTrunMotor\\\\Datasets\\\\rough_data\\\\Magnet_temperature\\\\2023_06_19_Magnet_Temperature_ISO_230.csv\"\n",
    "df= pd.read_csv(filepath_or_buffer=file_path,infer_datetime_format= True, parse_dates= True)\n",
    "df['date']= pd.to_datetime(df['date'])+ pd.DateOffset(hours=1)"
   ]
  },
  {
   "cell_type": "markdown",
   "metadata": {},
   "source": [
    "Visualize the retreived data"
   ]
  },
  {
   "cell_type": "code",
   "execution_count": null,
   "metadata": {},
   "outputs": [],
   "source": [
    "scatter_mode= 'lines'#'lines'# 'lines+markers'# 'markers'\n",
    "selected_Columns= ['DRZ','Temp_Klemmung', 'Temp_Lager','Temp_Motor','Analytic_sol', prediction_variable, output_variable, 'db_prediction_abs_error']\n",
    "y_axis_names= selected_Columns\n",
    "#print(preds)\n",
    "fig= make_subplots(rows=5,cols=1,shared_xaxes= True, print_grid= True, vertical_spacing=0.02)\n",
    "##DRZ\n",
    "fig.add_trace(go.Scatter(x= signals['date'], y= signals['DRZ5'], name='given2model', mode= scatter_mode), row= 1, col= 1)\n",
    "fig.update_yaxes(title_text= 'DRZ (RPM)', row= 1, col= 1)\n",
    "##T_KLEMMUNG\n",
    "fig.add_trace(go.Scatter(x= signals['date'], y= signals['T_KLEMMUNG'], name='T_KLEMMUNG', mode= scatter_mode), row= 2, col= 1)\n",
    "fig.update_yaxes(title_text= 'T_KLEMMUNG C°', row= 2, col= 1)\n",
    "##T_LAGER\n",
    "fig.add_trace(go.Scatter(x= signals['date'], y= signals['T_LAGER'], name='T_LAGER', mode= scatter_mode), row= 3, col= 1)\n",
    "fig.update_yaxes(title_text= 'T_LAGER C°', row= 3, col= 1)\n",
    "##'T_MOTOR'\n",
    "fig.add_trace(go.Scatter(x= signals['date'], y= signals['T_MOTOR'], name='T_MOTOR', mode= scatter_mode), row= 4, col= 1)\n",
    "fig.update_yaxes(title_text= 'T_MOTOR C°', row= 4, col= 1)\n",
    "##'prediction_variable'\n",
    "fig.add_trace(go.Scatter(x= df['date'], y= df['magnet_temperature'], name='magnet_temperature', mode= scatter_mode), row= 5, col= 1)\n",
    "fig.add_trace(go.Scatter(x= signals['date'], y= signals[prediction_variable], name=prediction_variable, mode= scatter_mode), row= 5, col= 1)\n",
    "fig.add_trace(go.Scatter(x= signals['date'], y= signals['Analytic_sol'], name='Analytic_sol', mode= scatter_mode), row= 5, col= 1)\n",
    "fig.update_yaxes(title_text= 'Rotor Temperatur C°', row= 5, col= 1)\n",
    "#Restfehler\n",
    "#fig.add_trace(go.Scatter(x= signals['date'], y= signals['db_prediction_abs_error'], name=' Restfehler', mode= scatter_mode),  row= 6 , col= 1)\n",
    "    ## Draw the tolerence +-5\n",
    "#fig.add_trace(go.Scatter(x= signals['date'], y= np.full_like(signals['db_prediction_abs_error'],5), name='+5 Obere Grenze', mode= scatter_mode),  row= 10 , col= 1)\n",
    "#fig.add_trace(go.Scatter(x= signals['date'], y= np.full_like(signals['db_prediction_abs_error'],-5), name='- 5 Obere Grenze', mode= scatter_mode),  row= 10 , col= 1)\n",
    "#fig.update_yaxes(title_text= 'Fehler bei Rotor Temperatur C°', row= 6, col= 1)\n",
    "fig.update_layout(height=1200, width=1400, title_text= 'M57002 Machine Data')\n",
    "fig.show()"
   ]
  },
  {
   "cell_type": "code",
   "execution_count": null,
   "metadata": {},
   "outputs": [],
   "source": [
    "scatter_mode= 'lines'#'lines'# 'lines+markers'# 'markers'\n",
    "selected_Columns= ['DRZ','Temp_Klemmung', 'Temp_Lager','Temp_Motor','Analytic_sol', prediction_variable, output_variable, 'db_prediction_abs_error']\n",
    "y_axis_names= selected_Columns\n",
    "#print(preds)\n",
    "fig= make_subplots(rows=1,cols=1,shared_xaxes= True, print_grid= True, vertical_spacing=0.02)\n",
    "fig.add_trace(go.Scatter(x= df['date'], y= df['magnet_temperature'], name='magnet_temperature', mode= scatter_mode), row= 1, col= 1)\n",
    "fig.add_trace(go.Scatter(x= signals['date'], y= signals[prediction_variable], name=\"Data-Driven-Prediction\", mode= scatter_mode), row= 1, col= 1)\n",
    "fig.add_trace(go.Scatter(x= signals['date'], y= signals['Analytic_sol'], name='Analytic_sol', mode= scatter_mode), row= 1, col= 1)\n",
    "fig.update_yaxes(title_text= 'Rotor Temperatur C°', row= 1, col= 1)\n",
    "##Restfehler\n",
    "#fig.add_trace(go.Scatter(x= signals['date'], y= signals['db_prediction_abs_error'], name=' Restfehler', mode= scatter_mode),  row= 6 , col= 1)\n",
    "    ## Draw the tolerence +-5\n",
    "#fig.add_trace(go.Scatter(x= signals['date'], y= np.full_like(signals['db_prediction_abs_error'],5), name='+5 Obere Grenze', mode= scatter_mode),  row= 10 , col= 1)\n",
    "#fig.add_trace(go.Scatter(x= signals['date'], y= np.full_like(signals['db_prediction_abs_error'],-5), name='- 5 Obere Grenze', mode= scatter_mode),  row= 10 , col= 1)\n",
    "#fig.update_yaxes(title_text= 'Fehler bei Rotor Temperatur C°', row= 6, col= 1)\n",
    "##'given2model'\n",
    "fig.update_layout(height=1200, width=1400, title_text= 'M57002 Machine Data')\n",
    "fig.show()"
   ]
  },
  {
   "cell_type": "code",
   "execution_count": null,
   "metadata": {},
   "outputs": [],
   "source": [
    "# file_path= \"G:\\\\Innovations@HELLER\\\\DN\\\\KI\\\\Zollern-FH-MillTrunMotor\\\\Datasets\\\\rough_data\\\\Rotor_temperatur.csv\"\n",
    "# def dateparse (time_str):    \n",
    "#     return pd.to_datetime(time_str)\n",
    "# df= pd.read_csv(filepath_or_buffer=file_path,infer_datetime_format= True, parse_dates= True)\n",
    "# print(df.info())\n",
    "# df['date']= pd.to_datetime(df['date'])+ pd.DateOffset(hours=1)\n",
    "# print(df.info())\n",
    "# scatter_mode= 'lines'#'lines'# 'lines+markers'# 'markers'\n",
    "# fig= make_subplots(rows=1,cols=1,shared_xaxes= True, print_grid= True, vertical_spacing=0.02)\n",
    "# ## Magnet_temperature  \n",
    "# fig.add_trace(go.Scatter(x= df['date'], y= df['magnet_temperature'], name='magnet_temperature', mode= scatter_mode), row= 1, col= 1)\n",
    "# fig.update_yaxes(title_text= 'magnet_temperature (C°)', row= 1, col= 1)\n",
    "# fig.update_layout(height=1200, width=1400, title_text= 'Rotortemperatur')\n",
    "# fig.show()"
   ]
  },
  {
   "cell_type": "markdown",
   "metadata": {},
   "source": [
    "Initialize model input"
   ]
  },
  {
   "cell_type": "code",
   "execution_count": null,
   "metadata": {},
   "outputs": [],
   "source": [
    "rough_signals= signals[model_input_Columns].to_numpy()"
   ]
  },
  {
   "cell_type": "markdown",
   "metadata": {},
   "source": [
    "Simulate the prediction by passing values with 5 seconds"
   ]
  },
  {
   "cell_type": "code",
   "execution_count": null,
   "metadata": {},
   "outputs": [],
   "source": [
    "def extract_time_relevance_array(input_array: np.ndarray, output_shape):\n",
    "        input_time = input_array.shape[1]  # in case of 5 Seconds it will be 240 seconds\n",
    "        output_time = output_shape[1]  # in case of 2 Minutes it will be 10\n",
    "        step = int(input_time / output_time)\n",
    "        result_array = np.zeros(output_shape)\n",
    "        for i in range(0, output_time):\n",
    "            #print('place in result: ', output_time - i - 1, ' place in original: ', input_time - i * step - 1)\n",
    "            result_array[0, output_time - i - 1, :] = input_array[0, input_time - i * step - 1, :]\n",
    "        return result_array"
   ]
  },
  {
   "cell_type": "code",
   "execution_count": null,
   "metadata": {},
   "outputs": [],
   "source": [
    "#### Simulate the prediction by passing values with 5 seconds ########\n",
    "num_model_features= 3\n",
    "preds= []\n",
    "input_data= signals.copy()\n",
    "shape=(1,window,num_model_features)\n",
    "output_sec_shape= (1, int(window*np.ceil((time_relevance/recording_time))), num_model_features)\n",
    "print('Requested buffer shape to the model= {}', shape)\n",
    "print('Orginal buffer shape to the model= {}', output_sec_shape)\n",
    "first_run= True\n",
    "inputsignal_list= model_input_Columns\n",
    "last_prediction_time= None\n",
    "out= 0\n",
    "prev_record_time= None\n",
    "for index, data_point in input_data.iterrows():\n",
    "    if prev_record_time is not None and (data_point['date']  - prev_record_time).total_seconds() < recording_time:\n",
    "        print('Escaped!')\n",
    "        #preds.append(out)\n",
    "        signals= signals[signals['date']!= data_point['date']]\n",
    "        continue\n",
    "    else:\n",
    "        prev_record_time= data_point['date']\n",
    "    #print ('index: ', index, ', Date: ', data_point['date'])\n",
    "    new_signal_list = [float(data_point[sig]) for sig in inputsignal_list]\n",
    "    #print ('New_signal_list: ', new_signal_list, ' timestamp: ', data_point['date'])\n",
    "    rough_input_array= np.asarray([new_signal_list])\n",
    "    signals_ = pipeline.transform(rough_input_array)#np.asarray([new_signal_list])#\n",
    "    if first_run:\n",
    "        #print ('index: ', index, ', Date: ', data_point['date'])\n",
    "        #print('time_ diff= ', str((data_point['date'] - last_prediction_time).total_seconds()))\n",
    "        # Auffüllen der Struktur - Bei erstem Start ist nur ein Datensatz vorhanden,\n",
    "        # dieser wird mit np.full in alle kopiert\n",
    "        hf_array= np.float32(np.full(output_sec_shape, signals_[0]))\n",
    "        array= extract_time_relevance_array(hf_array,shape)\n",
    "        #outputs = ort_sess.run(None, {'x': array})\n",
    "        outputs =model.predict(array)\n",
    "        #out = outputs[0][0][0] / 1000\n",
    "        out = outputs[0][0]\n",
    "        #print('Predciction First time. Input Buffer: ', array, 'prediction: ', out)\n",
    "        preds.append(out)\n",
    "        first_run = False\n",
    "        last_prediction_time= data_point['date']\n",
    "        #print('prediction_time: ', data_point['date'])\n",
    "        continue\n",
    "    elif (data_point['date'] - last_prediction_time).total_seconds()< response_time:\n",
    "            #print('No prediction. Just shift')\n",
    "            hf_array [0][:-1] = hf_array[0][1:]\n",
    "            hf_array[0, -1, :] = signals_[0]\n",
    "            preds.append(out)\n",
    "            continue \n",
    "    else:\n",
    "        #print ('index: ', index, ', Date: ', data_point['date'])\n",
    "        #print('time_ diff= ', str((data_point['date'] - last_prediction_time).total_seconds()))\n",
    "        #print(\"....Shifting the 5 seconds buffer and insert the new 5s-value\")\n",
    "        hf_array [0][:-1] = hf_array[0][1:]\n",
    "        hf_array[0, -1, :] = signals_[0]\n",
    "        array= extract_time_relevance_array(hf_array, shape)\n",
    "        array = np.float32(array)\n",
    "        ## Apply predicitions on 2 minutes buffer\n",
    "        outputs =model.predict(array)\n",
    "        #out = outputs[0][0][0] / 1000\n",
    "        out = outputs[0][0]\n",
    "        #print('Prediction Normal state. Input Buffer: ', array, 'prediction: ', out)\n",
    "        preds.append(out)\n",
    "        last_prediction_time= data_point['date']\n",
    "        #print('prediction_time: ', data_point['date'])\n",
    "    #signals['local_preds'][index]= out\n",
    "    #print(signals.iloc[index])\n",
    "    #print('#########################################################################')"
   ]
  },
  {
   "cell_type": "markdown",
   "metadata": {},
   "source": [
    "Assign local prediction to the main dataframe"
   ]
  },
  {
   "cell_type": "code",
   "execution_count": null,
   "metadata": {},
   "outputs": [],
   "source": [
    "signals['local_preds']= preds\n",
    "local_prediction_error= signals[output_variable] - signals['local_preds']"
   ]
  },
  {
   "cell_type": "code",
   "execution_count": null,
   "metadata": {},
   "outputs": [],
   "source": [
    "org_signals= signals.copy()"
   ]
  },
  {
   "cell_type": "markdown",
   "metadata": {},
   "source": [
    "Visualize the results"
   ]
  },
  {
   "cell_type": "code",
   "execution_count": null,
   "metadata": {},
   "outputs": [],
   "source": [
    "scatter_mode= 'lines'#'lines'# 'lines+markers'# 'markers'\n",
    "selected_Columns= ['DRZ','Temp_Klemmung', 'Temp_Lager','Temp_Motor', prediction_variable, 'local_preds']\n",
    "y_axis_names= selected_Columns\n",
    "#print(preds)\n",
    "fig= make_subplots(rows=5,cols=1,shared_xaxes= True, print_grid= True, vertical_spacing=0.02)\n",
    "##DRZ\n",
    "fig.add_trace(go.Scatter(x= signals['date'], y= signals['DRZ5'], name='given2model', mode= scatter_mode), row= 1, col= 1)\n",
    "fig.update_yaxes(title_text= 'DRZ (RPM)', row= 1, col= 1)\n",
    "##T_KLEMMUNG\n",
    "fig.add_trace(go.Scatter(x= signals['date'], y= signals['T_KLEMMUNG'], name='T_KLEMMUNG', mode= scatter_mode), row= 2, col= 1)\n",
    "fig.update_yaxes(title_text= 'T_KLEMMUNG C°', row= 2, col= 1)\n",
    "##T_LAGER\n",
    "fig.add_trace(go.Scatter(x= signals['date'], y= signals['T_LAGER'], name='T_LAGER', mode= scatter_mode), row= 3, col= 1)\n",
    "fig.update_yaxes(title_text= 'T_LAGER C°', row= 3, col= 1)\n",
    "##'T_MOTOR'\n",
    "fig.add_trace(go.Scatter(x= signals['date'], y= signals['T_MOTOR'], name='T_MOTOR', mode= scatter_mode), row= 4, col= 1)\n",
    "fig.update_yaxes(title_text= 'T_MOTOR C°', row= 4, col= 1)\n",
    "##'prediction_variable'\n",
    "#fig.add_trace(go.Scatter(x= signals['date'], y= signals[prediction_variable], name=prediction_variable, mode= scatter_mode), row= 5, col= 1)\n",
    "fig.add_trace(go.Scatter(x= df['date'], y= df['magnet_temperature'], name='magnet_temperature', mode= scatter_mode), row= 5, col= 1)\n",
    "fig.add_trace(go.Scatter(x= signals['date'], y= signals['local_preds'], name='local_preds', mode= scatter_mode), row= 5, col= 1)\n",
    "fig.add_trace(go.Scatter(x= signals['date'], y= signals['prediction'], name='Machine_preds', mode= scatter_mode), row= 5, col= 1)\n",
    "fig.add_trace(go.Scatter(x= signals['date'], y= signals['Analytic_sol'], name='Analytic_sol', mode= scatter_mode), row= 5, col= 1)\n",
    "fig.update_yaxes(title_text= 'Rotor Temperatur C°', row= 5, col= 1)\n",
    "# ##Restfehler\n",
    "# fig.add_trace(go.Scatter(x= signals['date'], y= signals['local_preds'] - df['magnet_temperature'], name=' Restfehler lokaler Vorhersage', mode= scatter_mode),  row= 6 , col= 1)\n",
    "# fig.add_trace(go.Scatter(x= signals['date'], y= signals['prediction'] - df['magnet_temperature'], name=' Restfehler Maschinenvorhersage', mode= scatter_mode),  row= 6 , col= 1)\n",
    "# fig.add_trace(go.Scatter(x= signals['date'], y= signals['Analytic_sol'] - df['magnet_temperature'], name=' Restfehler analytische Lösung', mode= scatter_mode),  row= 6 , col= 1)\n",
    "#     ## Draw the tolerence +-5\n",
    "# #fig.add_trace(go.Scatter(x= signals['date'], y= np.full_like(signals['db_prediction_abs_error'],5), name='+5 Obere Grenze', mode= scatter_mode),  row= 10 , col= 1)\n",
    "# #fig.add_trace(go.Scatter(x= signals['date'], y= np.full_like(signals['db_prediction_abs_error'],-5), name='- 5 Obere Grenze', mode= scatter_mode),  row= 10 , col= 1)\n",
    "# fig.update_yaxes(title_text= 'Fehler bei Rotor Temperatur C°', row= 6, col= 1)\n",
    "fig.update_layout(height=1200, width=1400, title_text= 'M57002 Machine Data')\n",
    "fig.show()"
   ]
  },
  {
   "cell_type": "code",
   "execution_count": null,
   "metadata": {},
   "outputs": [],
   "source": [
    "### window  represents time period by each entry in the buffer\n",
    "### Shift represents the jump from value to next one in the buffer\n",
    "### sampling rate \n",
    "def generateDataSource(signal_input=None, input_columns: list = [], output_length: int = 1, signal_output=None, window=1, shift=1, sample_rate=1):\n",
    "    #subsequence_len= (window -1) *shift + 1\n",
    "    subsequence_len= (window) *shift\n",
    "    Signal_Length = signal_input.shape[0]\n",
    "    num_samples = 1 + int((Signal_Length - subsequence_len) / sample_rate)\n",
    "    x = np.zeros(shape=(num_samples, window, signal_input.shape[1]))\n",
    "    y = np.zeros(shape=(num_samples, output_length, 1))\n",
    "    for i in range(num_samples):\n",
    "        x[i] = np.asarray([signal_input[i*sample_rate + j * shift] for j in range(0,window)])\n",
    "        y[i] = signal_output[i*sample_rate + (window-1) * shift :i*sample_rate+ (window-1) * shift + output_length]\n",
    "\n",
    "    return x, y"
   ]
  },
  {
   "cell_type": "code",
   "execution_count": null,
   "metadata": {},
   "outputs": [],
   "source": [
    "shift=1\n",
    "sample_rate=1\n",
    "df_file = signals\n",
    "rough_data= df_file[model_input_Columns]\n",
    "target= df_file['local_preds']\n",
    "transformed_data= pipeline.transform(rough_data)\n",
    "partitions, target = generateDataSource(signal_input=transformed_data, input_columns=model_input_Columns, output_length=1, signal_output=target, window=window, shift=shift, sample_rate=sample_rate)\n",
    "pred= model.predict(partitions)\n",
    "fig = make_subplots(rows=2, cols=1, shared_xaxes=True, print_grid=True,  vertical_spacing=0.02)\n",
    "fig.add_trace(go.Line(y=target.flatten(), name='local_preds'), row=1, col=1)\n",
    "fig.add_trace(go.Line(y=pred.flatten(), name='Magent_temp_Pred'), row=1, col=1)\n",
    "fig.update_yaxes(title_text='Magnet Temp (C°)', row=1, col=1)\n",
    "fig.add_trace(go.Line(y=target.flatten() - pred.flatten(), name='Prediction Error (True -Predicted)'), row=2, col=1)\n",
    "fig.update_yaxes(title_text='Prediction Error (C°)', row=2, col=1)\n",
    "fig.update_xaxes(title_text='Zeit 1 = 2 Sek', row=2, col=1)\n",
    "fig.update_layout(height=900, width=900, title_text='Vorhersage der Magnet-Temp {file}'.format(file = 'local'))\n",
    "fig.show()\n",
    "#pio.write_image(fig, str(assests_dir+'{file}.jpg'.format(file= file)), format='jpg')"
   ]
  },
  {
   "cell_type": "code",
   "execution_count": null,
   "metadata": {},
   "outputs": [],
   "source": [
    "# images_path='//Heller.biz/hnt/Steuerungstechnik/Innovations@HELLER/DN/KI/Temperaturkompensation/2021_Spindelwachstumskompensation_KI_HSU_SC63/Messungen DC100 H5000 M57002/csvs/smoothed/AI_Model/Backup/Z_Welle/v2.7.0/five_seconds/'\n",
    "# ## Comparasion between two sources:\n",
    "# from turtle import color\n",
    "# scatter_mode= 'lines'#'lines'# 'lines+markers'# 'markers'\n",
    "# selected_Columns= ['t_bett','t_motor', 't_spindle' ,'M8', 'M121', 'M127', 'M7','given2model', prediction_variable]\n",
    "# y_axis_names= selected_Columns\n",
    "# #print(preds)\n",
    "# fig= make_subplots(rows=len(selected_Columns)+1,cols=1,shared_xaxes= True, print_grid= True, subplot_titles= selected_Columns, vertical_spacing=0.02)\n",
    "# for i in range(len(selected_Columns)):\n",
    "#     fig.add_trace(go.Scatter(x= signals['date'], y= signals[selected_Columns[i]], name=selected_Columns[i], mode= scatter_mode), row= i+1, col= 1,)\n",
    "#     fig.update_yaxes(title_text= y_axis_names[i], row= i+1, col= 1)\n",
    "# ##Draw the prediciton and the real values of displacement on Welle\n",
    "# fig.add_trace(go.Scatter(x= signals['date'],y= signals[output_variable], name=output_variable, mode= scatter_mode),  row= len(selected_Columns) , col= 1)\n",
    "# fig.add_trace(go.Scatter(x= signals['date'], y=  signals['local_preds'], name='Local predictions', mode= scatter_mode),  row= len(selected_Columns) , col= 1)\n",
    "# fig.update_yaxes(title_text= output_variable, row= len(selected_Columns), col= 1)\n",
    "# fig.add_trace(go.Scatter(x= signals['date'], y=   1000*local_prediction_error, name='New Model prediction Error', mode= scatter_mode),  row= len(selected_Columns)+1 , col= 1)\n",
    "# ## Draw the tolerence +-5\n",
    "# fig.add_trace(go.Scatter(x= signals['date'], y= np.full_like(local_prediction_error,5), name='+5 Max Error', mode= scatter_mode),  row= len(selected_Columns)+1 , col= 1)\n",
    "# fig.add_trace(go.Scatter(x= signals['date'], y= np.full_like(local_prediction_error,-5), name='-5 Min Error', mode= scatter_mode),  row= len(selected_Columns)+1 , col= 1)\n",
    "\n",
    "# #fig.add_trace(go.Scatter(x= signals['date'], y=   1000*( np.abs(signals[output_variable] - signals[prediction_variable])), name='Old Model prediction Error', mode= scatter_mode),  row= len(selected_Columns)+1 , col= 1)\n",
    "# fig.update_yaxes(title_text= 'Error (Micro-meter)', row= len(selected_Columns)+1, col= 1)\n",
    "# fig.update_layout(height=1200, width=1400, title_text= 'Prediction Results')\n",
    "# #pio.write_image(fig, str(images_path +'versuch_20_09_iso.png'), format='png')\n",
    "#fig.show()\n"
   ]
  }
 ],
 "metadata": {
  "kernelspec": {
   "display_name": "Python 3",
   "language": "python",
   "name": "python3"
  },
  "language_info": {
   "codemirror_mode": {
    "name": "ipython",
    "version": 3
   },
   "file_extension": ".py",
   "mimetype": "text/x-python",
   "name": "python",
   "nbconvert_exporter": "python",
   "pygments_lexer": "ipython3",
   "version": "3.7.7"
  },
  "vscode": {
   "interpreter": {
    "hash": "a58a25343f99ae6e283c189afd7abc602dec6c63d356cacabf499812ae322086"
   }
  }
 },
 "nbformat": 4,
 "nbformat_minor": 2
}
