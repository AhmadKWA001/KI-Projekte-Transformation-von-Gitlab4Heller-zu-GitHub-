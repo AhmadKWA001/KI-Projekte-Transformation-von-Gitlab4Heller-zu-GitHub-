{
 "cells": [
  {
   "attachments": {},
   "cell_type": "markdown",
   "metadata": {},
   "source": [
    "View .CSV file of expermints of Mill-Turn-Zollern-Motor"
   ]
  },
  {
   "cell_type": "markdown",
   "metadata": {},
   "source": [
    "Load Libraries"
   ]
  },
  {
   "cell_type": "code",
   "execution_count": null,
   "metadata": {},
   "outputs": [],
   "source": [
    "#### Load Libraries\n",
    "import numpy as np\n",
    "from joblib import load\n",
    "import glob \n",
    "import  pandas as pd\n",
    "import matplotlib.pyplot as plt\n",
    "import os\n",
    "from pymongo import MongoClient\n",
    "import plotly.express as ex\n",
    "from plotly.subplots import make_subplots\n",
    "import plotly.graph_objects as go\n",
    "from datetime import datetime\n",
    "from datetime import timedelta\n",
    "import plotly.io as pio"
   ]
  },
  {
   "cell_type": "markdown",
   "metadata": {},
   "source": [
    "Set parameters"
   ]
  },
  {
   "cell_type": "code",
   "execution_count": null,
   "metadata": {},
   "outputs": [],
   "source": [
    "workspace= \"G:\\\\Innovations@HELLER\\\\DN\\\\KI\\\\Zollern-FH-MillTrunMotor\\\\Datasets\\\\rough_data\\\\database_with_sensor\\\\\\Synchronization_results\\\\\"\n",
    "###['Drehzahl','Temp_Motor','Temp_Klemmung', 'Temp_Lager']\n",
    "prediction_variable= 'prediction'\n",
    "time_shift= +2"
   ]
  },
  {
   "cell_type": "markdown",
   "metadata": {},
   "source": [
    "Read Files and View the curves"
   ]
  },
  {
   "cell_type": "markdown",
   "metadata": {},
   "source": []
  },
  {
   "cell_type": "code",
   "execution_count": null,
   "metadata": {},
   "outputs": [],
   "source": [
    "scatter_mode= 'lines'#'lines'# 'lines+markers'# 'markers'\n",
    "selected_Columns= ['DRZ','Temp_Klemmung', 'Temp_Lager','Temp_Motor','Analytic_sol', prediction_variable,  'db_prediction_abs_error']\n",
    "y_axis_names= selected_Columns\n",
    "os.chdir(workspace)\n",
    "for file in glob.glob('*.csv'):\n",
    "    signals = pd.read_csv(file)\n",
    "    #signals['magnet_temperature']= signals['magnet_temperature'].shift(-9)\n",
    "    print ('File: ', file)\n",
    "    #print(preds)\n",
    "    fig= make_subplots(rows=6,cols=1,shared_xaxes= True, print_grid= True, vertical_spacing=0.02)\n",
    "    ##DRZ\n",
    "    fig.add_trace(go.Scatter(x= signals['date'], y= signals['DRZ5'], name='given2model', mode= scatter_mode), row= 1, col= 1)\n",
    "    fig.update_yaxes(title_text= 'DRZ (RPM)', row= 1, col= 1)\n",
    "    ##T_KLEMMUNG\n",
    "    fig.add_trace(go.Scatter(x= signals['date'], y= signals['T_KLEMMUNG'], name='T_KLEMMUNG', mode= scatter_mode), row= 2, col= 1)\n",
    "    fig.update_yaxes(title_text= 'T_KLEMMUNG C°', row= 2, col= 1)\n",
    "    ##T_LAGER\n",
    "    fig.add_trace(go.Scatter(x= signals['date'], y= signals['T_LAGER'], name='T_LAGER', mode= scatter_mode), row= 3, col= 1)\n",
    "    fig.update_yaxes(title_text= 'T_LAGER C°', row= 3, col= 1)\n",
    "    ##'T_MOTOR'\n",
    "    fig.add_trace(go.Scatter(x= signals['date'], y= signals['T_MOTOR'], name='T_MOTOR', mode= scatter_mode), row= 4, col= 1)\n",
    "    fig.update_yaxes(title_text= 'T_MOTOR C°', row= 4, col= 1)\n",
    "    ##'prediction_variable'\n",
    "    fig.add_trace(go.Scatter(x= signals['date'], y= signals['magnet_temperature'], name='magnet_temperature', mode= scatter_mode), row= 5, col= 1)\n",
    "    fig.add_trace(go.Scatter(x= signals['date'], y= signals[prediction_variable], name=prediction_variable, mode= scatter_mode), row= 5, col= 1)\n",
    "    fig.add_trace(go.Scatter(x= signals['date'], y= signals['Analytic_sol'], name='Analytic_sol', mode= scatter_mode), row= 5, col= 1)\n",
    "    fig.update_yaxes(title_text= 'Rotor Temperature C°', row= 5, col= 1)\n",
    "    ##Restfehler\n",
    "    fig.add_trace(go.Scatter(x= signals['date'], y= signals['magnet_temperature']- signals['Analytic_sol'], name=' Error-Analytic', mode= scatter_mode),  row= 6 , col= 1)\n",
    "    fig.add_trace(go.Scatter(x= signals['date'], y= signals['magnet_temperature']- signals[prediction_variable], name=' Error-Data-Driven', mode= scatter_mode),  row= 6 , col= 1)\n",
    "        ## Draw the tolerence +-5\n",
    "    #fig.add_trace(go.Scatter(x= signals['date'], y= np.full_like(signals['db_prediction_abs_error'],5), name='+5 Obere Grenze', mode= scatter_mode),  row= 10 , col= 1)\n",
    "    #fig.add_trace(go.Scatter(x= signals['date'], y= np.full_like(signals['db_prediction_abs_error'],-5), name='- 5 Obere Grenze', mode= scatter_mode),  row= 10 , col= 1)\n",
    "    fig.update_yaxes(title_text= 'Error in Rotor Temperature C°', row= 6, col= 1)\n",
    "    fig.update_layout(height=1200, width=1400, title_text= 'M57002 Machine Data')\n",
    "    fig.show()\n",
    "        "
   ]
  }
 ],
 "metadata": {
  "kernelspec": {
   "display_name": "Python 3",
   "language": "python",
   "name": "python3"
  },
  "language_info": {
   "codemirror_mode": {
    "name": "ipython",
    "version": 3
   },
   "file_extension": ".py",
   "mimetype": "text/x-python",
   "name": "python",
   "nbconvert_exporter": "python",
   "pygments_lexer": "ipython3",
   "version": "3.7.7"
  },
  "vscode": {
   "interpreter": {
    "hash": "a58a25343f99ae6e283c189afd7abc602dec6c63d356cacabf499812ae322086"
   }
  }
 },
 "nbformat": 4,
 "nbformat_minor": 2
}
