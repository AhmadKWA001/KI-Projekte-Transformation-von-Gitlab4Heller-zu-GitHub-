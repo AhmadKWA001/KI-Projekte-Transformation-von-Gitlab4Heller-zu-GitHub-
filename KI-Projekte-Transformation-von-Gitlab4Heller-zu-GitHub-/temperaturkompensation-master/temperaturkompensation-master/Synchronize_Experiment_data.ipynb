{
 "cells": [
  {
   "cell_type": "code",
   "execution_count": null,
   "metadata": {},
   "outputs": [],
   "source": [
    "import plotly.express as ex\n",
    "from plotly.subplots import make_subplots\n",
    "import plotly.graph_objects as go\n",
    "from pathlib import Path\n",
    "import pandas as pd\n",
    "import numpy as np\n",
    "from pymongo import MongoClient\n",
    "from datetime import datetime, timedelta\n",
    "import duckdb as ddb\n",
    "import itertools as it"
   ]
  },
  {
   "cell_type": "code",
   "execution_count": null,
   "metadata": {},
   "outputs": [],
   "source": [
    "experiment_path='G:\\\\Innovations@HELLER\\\\DN\\\\KI\\\\Temperaturkompensation\\\\Spindlewachstumsversuch\\\\220429_03\\\\'"
   ]
  },
  {
   "cell_type": "code",
   "execution_count": null,
   "metadata": {},
   "outputs": [],
   "source": [
    "###Database connection configuratuions\n",
    "host= \"localhost\"\n",
    "port=27017\n",
    "hf_selected_columns= ['ENC1_POS|8','is_speed',  'is_acceleration', 'POWER|8',  'CURRENT|8',  'ENC2_POS|3']"
   ]
  },
  {
   "cell_type": "code",
   "execution_count": null,
   "metadata": {},
   "outputs": [],
   "source": [
    "###1-Load HF-Data from Database and combine them in one data frame as follows: CMD_SPEED|8  POWER|8  CURRENT|8  ENC1_POS|8  ENC2_POS|3\n",
    "client = MongoClient(host= host, port=port)\n",
    "db = client.h4s\n",
    "event_list = db.ipmmeasurements.find()\n",
    "hf_signals=None\n",
    "hf_date=None\n",
    "resolution= 1\n",
    "for event in event_list:\n",
    "    hf_date= event['date']\n",
    "    resolution= event['resolution']\n",
    "    signal= pd.DataFrame(event['content'])\n",
    "    if hf_signals is None:\n",
    "        hf_signals= signal\n",
    "    else:\n",
    "        hf_signals=hf_signals.join(signal)\n",
    "# Generate date field for all data records based on the constant sampling rate\n",
    "size=hf_signals.shape[0]    \n",
    "dates= [ hf_date + timedelta(seconds= i * resolution) for i in range(size)]\n",
    "hf_signals['date']= dates\n"
   ]
  },
  {
   "cell_type": "code",
   "execution_count": null,
   "metadata": {},
   "outputs": [],
   "source": [
    "### Add new derived signals (Speed, accelaration)\n",
    "hf_signals['is_speed']= np.gradient(hf_signals['ENC1_POS|8'])/(120/10000)\n",
    "hf_signals['is_acceleration']= np.gradient(hf_signals['is_speed'])\n",
    "#hf_signals['CMD_SPEED|8']=  hf_signals['CMD_SPEED|8']/6\n",
    "hf_signals['ENC2_POS|3']= hf_signals['ENC2_POS|3'].apply(np.round,args=(2,))"
   ]
  },
  {
   "cell_type": "code",
   "execution_count": null,
   "metadata": {},
   "outputs": [],
   "source": [
    "####Visualization of signals:\n",
    "selected_columns= hf_selected_columns\n",
    "y_axis_names= ['ENC1_POS|8 (degee)     ', 'is_speed (degree/s)   ', 'is_acceleration(degree/s^2)   ',  'POWER|8 (W)',  'CURRENT|8 (A)',  'ENC2_POS|3 (mm)']\n",
    "fig= make_subplots(rows=len(selected_columns),cols=1,shared_xaxes= True, print_grid= True, subplot_titles= selected_columns, vertical_spacing=0.02)\n",
    "for i in range(len(selected_columns)):\n",
    "    fig.add_trace(go.Line(y= hf_signals[selected_columns[i]]), row= i+1, col= 1)\n",
    "    fig.update_yaxes(title_text= y_axis_names[i], row= i+1, col= 1)\n",
    "fig.update_layout(height=1200, width=1200, title_text=\"HF-Data\")\n",
    "fig.show()"
   ]
  },
  {
   "cell_type": "code",
   "execution_count": null,
   "metadata": {},
   "outputs": [],
   "source": [
    "###Set synchronization point of HF-Data\n",
    "sync_point_hf= 0\n",
    "hf_signals= hf_signals[sync_point_hf:]"
   ]
  },
  {
   "cell_type": "code",
   "execution_count": null,
   "metadata": {},
   "outputs": [],
   "source": [
    "# Read Laser Data\n",
    "p = Path(experiment_path)\n",
    "file_list = list(p.glob('*.csv'))\n",
    "laser_df= pd.DataFrame()\n",
    "for file in file_list:\n",
    "    print('Current File: ', file)\n",
    "    laser_df= pd.read_csv(file, sep=\";\",skiprows=range(0,7), names=['date_time','distance','nothing'], skipinitialspace= True)\n",
    "print(laser_df.shape)"
   ]
  },
  {
   "cell_type": "code",
   "execution_count": null,
   "metadata": {},
   "outputs": [],
   "source": [
    "# Filter laser data and calcuate median distance for visualization\n",
    "#laser_df['distance'].mask(laser_df['distance'] < 0, 0.010, inplace= True)\n",
    "laser_df['median_distance']= laser_df['distance'].rolling(20).median()"
   ]
  },
  {
   "cell_type": "code",
   "execution_count": null,
   "metadata": {},
   "outputs": [],
   "source": [
    "laser_df"
   ]
  },
  {
   "cell_type": "code",
   "execution_count": null,
   "metadata": {},
   "outputs": [],
   "source": [
    "######Set synchronization point of laser-Data and get the relevant segment\n",
    "sync_point_laser= 14723+ 10000\n",
    "f= 10000\n",
    "seconds= 20\n",
    "segment= laser_df[sync_point_laser: -50000]\n",
    "segment.reset_index(inplace= True) \n",
    "segment.drop(columns= [ 'nothing', 'index'],inplace=True)#'date_time',"
   ]
  },
  {
   "cell_type": "code",
   "execution_count": null,
   "metadata": {},
   "outputs": [],
   "source": [
    "segment['displacement']= (segment['median_distance'][0] - segment['median_distance'])#*10000\n",
    "#result_df['displacement']= result_df['displacement'].mask(result_df['displacement']<0, 0)\n",
    "segment['rolling_mean_displacement']= segment['displacement'].rolling(200).mean()"
   ]
  },
  {
   "cell_type": "code",
   "execution_count": null,
   "metadata": {},
   "outputs": [],
   "source": [
    "#segment= laser_df\n",
    "selected_columns= ['displacement']#['rolling_mean_displacement']\n",
    "y_axis_names= selected_columns# ['ENC1_POS|8 (degee)     ', 'CMD_SPEED|8 (degree/s)    ','is_speed (degree/s)   ', 'is_acceleration(degree/s^2)   ',  'POWER|8 (W)',  'CURRENT|8 (A)',  'ENC2_POS|3 (mm)','t_spindle', 'DRZ', 't_motor','supply_temp', 't_bett', 'distance']\n",
    "fig= make_subplots(rows=len(selected_columns),cols=1,shared_xaxes= True, print_grid= True, subplot_titles= selected_columns, vertical_spacing=0.02)\n",
    "for i in range(len(selected_columns)):\n",
    "    fig.add_trace(go.Line(y= 1000 * segment[selected_columns[i]]), row= i+1, col= 1)\n",
    "    fig.update_yaxes(title_text= str(y_axis_names[i] + 'Micro-Meter'), row= i+1, col= 1)\n",
    "fig.update_layout(height=600, width=1200, title_text=\"Laser-Data_ F= 4000 Hz\")\n",
    "fig.show()"
   ]
  },
  {
   "cell_type": "code",
   "execution_count": null,
   "metadata": {},
   "outputs": [],
   "source": [
    "def calc_fft(signal_data, n, sampling_rate):\n",
    "    signal_data_std= signal_data #- np.mean(signal_data)\n",
    "    data_fft= fft(np.asarray(signal_data_std))\n",
    "    num_samples= len(signal_data)\n",
    "    power = np.abs(data_fft[:len(data_fft)])\n",
    "    freq_axis= fftfreq(n, sampling_rate)\n",
    "    return freq_axis, power"
   ]
  },
  {
   "cell_type": "code",
   "execution_count": null,
   "metadata": {},
   "outputs": [],
   "source": [
    "# ### End-based synchronization\n",
    "# a= 516819\n",
    "# b= 600100\n",
    "# shift= b-a\n",
    "# segment= segment[shift:]\n",
    "# segment.reset_index(inplace= True)\n"
   ]
  },
  {
   "cell_type": "code",
   "execution_count": null,
   "metadata": {},
   "outputs": [],
   "source": [
    "##Check the cutting point\n",
    "#segment= laser_df['median_distance'][0:100000]"
   ]
  },
  {
   "cell_type": "code",
   "execution_count": null,
   "metadata": {},
   "outputs": [],
   "source": [
    "# fig= ex.line(segment,y='median_distance')\n",
    "# fig.update_layout(height=1200, width=1200, title_text=\"Laser-Data\")\n",
    "# fig.show()"
   ]
  },
  {
   "cell_type": "code",
   "execution_count": null,
   "metadata": {},
   "outputs": [],
   "source": [
    "# fig= ex.line(segment,y='rolling_std')\n",
    "# fig.update_layout(height=1200, width=1200, title_text=\"Laser-Data\")\n",
    "# fig.show()"
   ]
  },
  {
   "cell_type": "code",
   "execution_count": null,
   "metadata": {},
   "outputs": [],
   "source": [
    "#rule= ('property', value)\n",
    "def cut_signal(df: pd.DataFrame, rule:tuple):\n",
    "    property= rule[0]\n",
    "    value= rule[1]\n",
    "    result= None\n",
    "    for index,row in df.iterrows():\n",
    "        if float(row[property]) > value:\n",
    "            print('index= ', index, ', value= ',row[property])\n",
    "            result=df.iloc[index:]\n",
    "            break\n",
    "    result.reset_index(inplace= True)\n",
    "    return result"
   ]
  },
  {
   "cell_type": "code",
   "execution_count": null,
   "metadata": {},
   "outputs": [],
   "source": [
    "#rule= {'df1':('is_speed',0), 'df2':('DRZ',0)}\n",
    "def synchronize(df1:pd.DataFrame, df2: pd.DataFrame, rule: dict=None, resolution= 0.002):\n",
    "    hf_df= df1\n",
    "    lf_df= df2\n",
    "    print('hf_df.shape: ',hf_df.shape)\n",
    "    print('lf_df.shape: ', lf_df.shape)\n",
    "    if rule is not None:\n",
    "        hf_df= cut_signal(df1, rule['df1'])\n",
    "        lf_df= cut_signal(df2, rule['df2'])\n",
    "    date= lf_df.iloc[0]['date']\n",
    "    size=hf_df.shape[0]    \n",
    "    dates= [ date + timedelta(seconds= i * resolution) for i in range(size)]\n",
    "    hf_df['date']= dates\n",
    "    hf_df_result= pd.DataFrame()\n",
    "    for index, row in lf_df.iterrows():\n",
    "        lf_date= row['date']\n",
    "        nearest_record= hf_df[hf_df['date']<=lf_date].sort_values('date', ascending= False, inplace= False).iloc[[0]]\n",
    "        hf_df_result= pd.concat([hf_df_result, nearest_record], axis=0, ignore_index= True)\n",
    "        #print(hf_df.shape)\n",
    "        #print('############################')\n",
    "    result= pd.concat([hf_df_result,lf_df],  axis=1)\n",
    "    result.drop(columns=['index'], inplace= True)\n",
    "    result.reset_index(inplace= True)\n",
    "    print(result.shape)\n",
    "    return result\n"
   ]
  },
  {
   "cell_type": "code",
   "execution_count": null,
   "metadata": {},
   "outputs": [],
   "source": [
    "#rule= {'df1':('is_speed',0), 'df2':('DRZ',0)}\n",
    "def synchronize2(df1:pd.DataFrame, df2: pd.DataFrame, rule: dict=None, hf_resolution= 0.00001, lf_resolution= 0.002):\n",
    "    hf_df= df1.reset_index(inplace= False)\n",
    "    lf_df= df2.reset_index(inplace= False)\n",
    "    print('hf_df.shape: ',hf_df.shape)\n",
    "    print('lf_df.shape: ', lf_df.shape)\n",
    "    conversion_rate= int(lf_resolution/hf_resolution)\n",
    "    hf_df = hf_df.groupby(np.arange(len(hf_df))//conversion_rate).median()\n",
    "    len_lf_df= len(lf_df)\n",
    "    len_hf_df= len(hf_df)\n",
    "    if (len_hf_df> len_lf_df):\n",
    "        hf_df= hf_df[:len_lf_df]\n",
    "    elif (len_lf_df > len_hf_df ):\n",
    "        lf_df= lf_df[:len_hf_df]    \n",
    "    print(hf_df.info())\n",
    "    print(lf_df.info())\n",
    "    result= pd.concat([hf_df,lf_df],  axis=1)\n",
    "    result.drop(columns=['index'], inplace= True)\n",
    "    result.reset_index(inplace= True)\n",
    "    print(result.info())\n",
    "    return result"
   ]
  },
  {
   "cell_type": "code",
   "execution_count": null,
   "metadata": {},
   "outputs": [],
   "source": [
    "##Synchronize HF and laser data HF based on Z axis, laser based on the point of ramp up\n",
    "hf_laser_sync= synchronize2(segment['distance'],hf_signals, hf_resolution= 0.00025, lf_resolution= 0.002)"
   ]
  },
  {
   "cell_type": "code",
   "execution_count": null,
   "metadata": {},
   "outputs": [],
   "source": [
    "# End-based synchronization (just for experiment 5)\n",
    "# a= 516819\n",
    "# b= 600100\n",
    "# shift= b-a\n",
    "# distance= hf_laser_sync['distance'].copy()\n",
    "# distance= distance.shift(periods= -shift, axis= 0, fill_value= 0)\n",
    "# print(distance.shape)\n",
    "# hf_laser_sync['distance']= distance\n",
    "# hf_laser_sync= hf_laser_sync.iloc[: hf_laser_sync.shape[0]-shift]"
   ]
  },
  {
   "cell_type": "code",
   "execution_count": null,
   "metadata": {},
   "outputs": [],
   "source": [
    "####Visualization of Hf- Laser synchronization results\n",
    "selected_columns= ['ENC1_POS|8','is_speed',  'is_acceleration', 'POWER|8',  'CURRENT|8',  'ENC2_POS|3', 'distance']\n",
    "y_axis_names= ['ENC1_POS|8 (degee)     ', 'CMD_SPEED|8 (degree/s)    ','is_speed (degree/s)   ', 'is_acceleration(degree/s^2)   ',  'POWER|8 (W)',  'CURRENT|8 (A)',  'ENC2_POS|3 (mm)', 'distance']\n",
    "fig= make_subplots(rows=len(selected_columns),cols=1,shared_xaxes= True, print_grid= True, subplot_titles= selected_columns, vertical_spacing=0.02)\n",
    "for i in range(len(selected_columns)):\n",
    "    fig.add_trace(go.Line(y= hf_laser_sync[selected_columns[i]]), row= i+1, col= 1)\n",
    "    fig.update_yaxes(title_text= y_axis_names[i], row= i+1, col= 1)\n",
    "fig.update_layout(height=1200, width=1200, title_text=\"HF-Data\")\n",
    "fig.show()"
   ]
  },
  {
   "cell_type": "code",
   "execution_count": null,
   "metadata": {},
   "outputs": [],
   "source": [
    "# #### Read LF data ##old data structure\n",
    "# # lf_path= 'G:\\\\Innovations@HELLER\\\\DN\\\\KI\\\\Temperaturkompensation\\\\Spindlewachstumsversuch\\\\220414_02\\\\lf_data.json'\n",
    "# event_list = db.lf_data.find().sort('date', 1)\n",
    "# lf_signals= None\n",
    "# for event in event_list:\n",
    "#     keys= event['content']['raw_data'].keys()\n",
    "#     for item in keys:\n",
    "#         event['content']['raw_data'][item]= [event['content']['raw_data'][item]]\n",
    "#     event['content']['raw_data']['date']= event['date']\n",
    "#     event['content']['raw_data']['DRZ'][0]= float(event['content']['raw_data']['DRZ'][0])\n",
    "#     lf_signal= pd.DataFrame(event['content']['raw_data'])\n",
    "#     if lf_signals is None:\n",
    "#         lf_signals= lf_signal\n",
    "#     else:\n",
    "#         lf_signals= lf_signals.append(lf_signal,ignore_index= True)\n",
    "# lf_signals['t_motor']= lf_signals['t_motor'].apply(np.float32)\n",
    "# print (lf_signals.head(3))\n"
   ]
  },
  {
   "cell_type": "code",
   "execution_count": null,
   "metadata": {},
   "outputs": [],
   "source": [
    "#### Read LF data ##New data structure\n",
    "event_list = db.lf_data.find().sort('date', 1)\n",
    "lf_signals= None\n",
    "for event in event_list:\n",
    "    record_list= event['content']\n",
    "    keys= None\n",
    "    for record in record_list:\n",
    "        keys= record['raw_data'].keys()\n",
    "        for item in keys:\n",
    "            record['raw_data'][item]= [record['raw_data'][item]]\n",
    "        record['raw_data']['date']=[record['date']]\n",
    "        record['raw_data']['DRZ'][0]= float(record['raw_data']['DRZ'][0])\n",
    "        lf_signal_point= pd.DataFrame(record['raw_data'])\n",
    "        if lf_signals is None:\n",
    "            lf_signals= lf_signal_point\n",
    "        else:\n",
    "            lf_signals= lf_signals.append(lf_signal_point,ignore_index= True)\n",
    "lf_signals['t_motor']= lf_signals['t_motor'].apply(np.float32)\n",
    "lf_signals.reset_index(inplace= True)\n",
    "print (lf_signals.info())"
   ]
  },
  {
   "cell_type": "code",
   "execution_count": null,
   "metadata": {},
   "outputs": [],
   "source": [
    "#### Read LF data ## with predictions\n",
    "event_list = db.lf_data.find().sort('date', 1)\n",
    "lf_signals= None\n",
    "for event in event_list:\n",
    "    record_list= event['content']\n",
    "    keys= None\n",
    "    for record in record_list:\n",
    "        keys= record['raw_data'].keys()\n",
    "        for item in keys:\n",
    "            record['raw_data'][item]= [record['raw_data'][item]]\n",
    "        record['raw_data']['date']=[record['date']]\n",
    "        record['raw_data']['DRZ'][0]= float(record['raw_data']['DRZ'][0])\n",
    "        record['raw_data']['prediction']=[record['prediction']]\n",
    "        lf_signal_point= pd.DataFrame(record['raw_data'])\n",
    "        if lf_signals is None:\n",
    "            lf_signals= lf_signal_point\n",
    "        else:\n",
    "            lf_signals= lf_signals.append(lf_signal_point,ignore_index= True)\n",
    "lf_signals['t_motor']= lf_signals['t_motor'].apply(np.float32)\n",
    "lf_signals.reset_index(inplace= True)\n",
    "print (lf_signals.info())"
   ]
  },
  {
   "cell_type": "code",
   "execution_count": null,
   "metadata": {},
   "outputs": [],
   "source": [
    "## Visualization of lf-data with predicted results\n",
    "selected_columns= ['t_spindle', 'DRZ', 't_motor','t_welle', 'prediction']\n",
    "y_axis_names= selected_columns# ['ENC1_POS|8 (degee)     ', 'CMD_SPEED|8 (degree/s)    ','is_speed (degree/s)   ', 'is_acceleration(degree/s^2)   ',  'POWER|8 (W)',  'CURRENT|8 (A)',  'ENC2_POS|3 (mm)','t_spindle', 'DRZ', 't_motor','supply_temp', 't_bett', 'distance']\n",
    "fig= make_subplots(rows=len(selected_columns),cols=1,shared_xaxes= True, print_grid= True, subplot_titles= selected_columns, vertical_spacing=0.02)\n",
    "for i in range(len(selected_columns)):\n",
    "    fig.add_trace(go.Line(y= lf_signals[selected_columns[i]]), row= i+1, col= 1)\n",
    "    fig.update_yaxes(title_text= y_axis_names[i], row= i+1, col= 1)\n",
    "fig.update_layout(height=1800, width=1200, title_text=\"LF-Data\")\n",
    "fig.show()"
   ]
  },
  {
   "cell_type": "code",
   "execution_count": null,
   "metadata": {},
   "outputs": [],
   "source": [
    "sync_point_lf= 0#2585\n",
    "lf_path= str(experiment_path+'sync_result\\\\sync_220429_03.csv')\n",
    "lf_df= pd.read_csv(lf_path)\n",
    "lf_df['prediction']= lf_signals['prediction'][sync_point_lf:]\n",
    "lf_df['displacement']= (lf_df['distance'][0] - lf_df['distance'])#*10000\n",
    "#result_df['displacement']= result_df['displacement'].mask(result_df['displacement']<0, 0)\n",
    "lf_df['rolling_mean_displacement']= lf_df['displacement'].rolling(20).mean()"
   ]
  },
  {
   "cell_type": "code",
   "execution_count": null,
   "metadata": {},
   "outputs": [],
   "source": [
    "selected_columns= ['t_spindle', 'DRZ', 't_motor','t_welle', 'displacement', 'rolling_mean_displacement','distance']\n",
    "y_axis_names= selected_columns# ['ENC1_POS|8 (degee)     ', 'CMD_SPEED|8 (degree/s)    ','is_speed (degree/s)   ', 'is_acceleration(degree/s^2)   ',  'POWER|8 (W)',  'CURRENT|8 (A)',  'ENC2_POS|3 (mm)','t_spindle', 'DRZ', 't_motor','supply_temp', 't_bett', 'distance']\n",
    "fig= make_subplots(rows=len(selected_columns),cols=1,shared_xaxes= True, print_grid= True, subplot_titles= selected_columns, vertical_spacing=0.02)\n",
    "for i in range(len(selected_columns)):\n",
    "    fig.add_trace(go.Line(y= lf_df[selected_columns[i]]), row= i+1, col= 1)\n",
    "    fig.update_yaxes(title_text= y_axis_names[i], row= i+1, col= 1)\n",
    "fig.update_layout(height=1800, width=1200, title_text=\"LF-Data\")\n",
    "fig.show()"
   ]
  },
  {
   "cell_type": "code",
   "execution_count": null,
   "metadata": {},
   "outputs": [],
   "source": [
    "result_df= synchronize(df1=hf_laser_sync, df2= lf_signals, rule= {'df1':('index',569), 'df2':('index',326)})"
   ]
  },
  {
   "cell_type": "code",
   "execution_count": null,
   "metadata": {},
   "outputs": [],
   "source": [
    "# print(result_df.info())\n",
    "# selected_columns= ['ENC1_POS|8','CMD_SPEED|8','is_speed',  'is_acceleration', 'POWER|8',  'CURRENT|8',  'ENC2_POS|3','t_spindle', 'DRZ', 't_motor','supply_temp', 't_bett', 'distance']\n",
    "# y_axis_names= selected_columns# ['ENC1_POS|8 (degee)     ', 'CMD_SPEED|8 (degree/s)    ','is_speed (degree/s)   ', 'is_acceleration(degree/s^2)   ',  'POWER|8 (W)',  'CURRENT|8 (A)',  'ENC2_POS|3 (mm)','t_spindle', 'DRZ', 't_motor','supply_temp', 't_bett', 'distance']\n",
    "# fig= make_subplots(rows=len(selected_columns),cols=1,shared_xaxes= True, print_grid= True, subplot_titles= selected_columns, vertical_spacing=0.02)\n",
    "# for i in range(len(selected_columns)):\n",
    "#     fig.add_trace(go.Line(y= result_df[selected_columns[i]]), row= i+1, col= 1)\n",
    "#     fig.update_yaxes(title_text= y_axis_names[i], row= i+1, col= 1)\n",
    "# fig.update_layout(height=1200, width=1200, title_text=\"LF-Data\")\n",
    "# fig.show()"
   ]
  },
  {
   "cell_type": "code",
   "execution_count": null,
   "metadata": {},
   "outputs": [],
   "source": [
    "def calculate_temperature(df: pd.DataFrame, l= 1, alpha=1):\n",
    "    result= []\n",
    "    l1= l\n",
    "    l2=l1\n",
    "    for i in range(df.shape[0]):\n",
    "        l2= df.iloc[i]/1000\n",
    "        delta_l= l2 - l1\n",
    "        delta_t= delta_l/(alpha * l1)\n",
    "        l1= l2\n",
    "        result.append(delta_t)\n",
    "    return result\n",
    "    "
   ]
  },
  {
   "cell_type": "code",
   "execution_count": null,
   "metadata": {},
   "outputs": [],
   "source": [
    "def calculate_displacement(df: pd.DataFrame, t= 1, alpha=1):\n",
    "    result= []\n",
    "    l1=1\n",
    "    t1= t\n",
    "    t2=t1\n",
    "    for i in range(df.shape[0]):\n",
    "        t2= df.iloc[i]\n",
    "        delta_t= t2 - t1\n",
    "        delta_l= l1*alpha* delta_t\n",
    "        t1= t2\n",
    "        result.append(delta_l)\n",
    "    return result"
   ]
  },
  {
   "cell_type": "code",
   "execution_count": null,
   "metadata": {},
   "outputs": [],
   "source": [
    "result_df['displacement']= (result_df['distance'][0] - result_df['distance'])#*10000\n",
    "#result_df['displacement']= result_df['displacement'].mask(result_df['displacement']<0, 0)\n",
    "result_df['rolling_mean_displacement']= result_df['displacement'].rolling(20).mean()\n",
    "result_df['delta_t']= calculate_temperature(result_df['rolling_mean_displacement'], alpha= 12)\n",
    "result_df['delta_t']= result_df['delta_t'].fillna(0)\n",
    "#result_df['rolling_mean_displacement']= result_df['displacement'].rolling(100).mean()#['rolling_mean_displacement']#\n",
    "res= [item for item in it.accumulate(result_df['delta_t'].to_list())]\n",
    "#print('result= ', res)\n",
    "result_df['delta_t_acc']= res\n",
    "###### Calculate displacement\n",
    "result_df['displacement']= result_df['displacement']\n",
    "result_df['displacement']= result_df['displacement'].mask(result_df['displacement']<0, 0)\n",
    "result_df['rolling_mean_displacement']= result_df['displacement'].rolling(20).mean()\n",
    "displacement= calculate_displacement(result_df['t_welle'], alpha= 12)\n",
    "displacement= [item/1000 for item in it.accumulate(displacement)]\n",
    "result_df['calcuated_displacement']= displacement"
   ]
  },
  {
   "cell_type": "code",
   "execution_count": null,
   "metadata": {},
   "outputs": [],
   "source": [
    "#selected_columns= ['ENC1_POS|8','is_speed',  'is_acceleration', 'POWER|8',  'CURRENT|8',  'ENC2_POS|3']\n",
    "#selected_columns= ['ENC1_POS|8','is_speed',  'is_acceleration', 'POWER|8',  'CURRENT|8',  'ENC2_POS|3','t_spindle', 'DRZ', 't_motor','supply_temp', 't_bett', 't_welle','distance', 'displacement', 'rolling_mean_displacement']\n",
    "selected_columns= ['ENC1_POS|8','is_speed','is_acceleration','POWER|8',  'CURRENT|8', 't_spindle', 'DRZ', 't_motor','t_welle','delta_t_acc', 'displacement', 'rolling_mean_displacement', 'calcuated_displacement']\n",
    "y_axis_names= selected_columns# ['ENC1_POS|8 (degee)     ', 'CMD_SPEED|8 (degree/s)    ','is_speed (degree/s)   ', 'is_acceleration(degree/s^2)   ',  'POWER|8 (W)',  'CURRENT|8 (A)',  'ENC2_POS|3 (mm)','t_spindle', 'DRZ', 't_motor','supply_temp', 't_bett', 'distance']\n",
    "fig= make_subplots(rows=len(selected_columns),cols=1,shared_xaxes= True, print_grid= True, subplot_titles= selected_columns, vertical_spacing=0.02)\n",
    "for i in range(len(selected_columns)):\n",
    "    fig.add_trace(go.Line(y= result_df[selected_columns[i]]), row= i+1, col= 1)\n",
    "    fig.update_yaxes(title_text= y_axis_names[i], row= i+1, col= 1)\n",
    "fig.update_layout(height=1800, width=1200, title_text=\"LF-Data\")\n",
    "fig.show()\n",
    "#fig.write_image(str(experiment_path + 'sync_result\\\\sync_results.png'))"
   ]
  },
  {
   "cell_type": "code",
   "execution_count": null,
   "metadata": {},
   "outputs": [],
   "source": [
    "#[781:858]\n",
    "#[1106:1183]\n",
    "#[1265:1342]\n",
    "series= result_df['displacement'][1106:1183]\n",
    "rolling= series.rolling(10).mean()\n"
   ]
  },
  {
   "cell_type": "code",
   "execution_count": null,
   "metadata": {},
   "outputs": [],
   "source": [
    "fig= make_subplots(rows= 2 ,cols=1,shared_xaxes= True, print_grid= True, subplot_titles= selected_columns, vertical_spacing=0.02)\n",
    "fig.add_trace(go.Line(y= series), row= 1, col= 1)\n",
    "fig.update_yaxes(title_text='orginal', row= 1, col= 1)\n",
    "fig.add_trace(go.Line(y= rolling), row= 2, col= 1)\n",
    "fig.update_yaxes(title_text='rolling', row= 2, col= 1)\n",
    "fig.update_layout(height=1800, width=1200, title_text=\"LF-Data\")\n",
    "fig.show()"
   ]
  },
  {
   "cell_type": "code",
   "execution_count": null,
   "metadata": {},
   "outputs": [],
   "source": [
    "#### calculate the effect of centrifugal Force\n",
    "up= 10000.0\n",
    "down= 0.0\n",
    "down_index= -1\n",
    "up_index= -1\n",
    "window= 5\n",
    "result_list= []\n",
    "for index, row in result_df.iterrows():\n",
    "    drhz= np.round(row['DRZ'], -3)\n",
    "    #print(drhz)\n",
    "    if drhz == up:\n",
    "        up_index= index\n",
    "        down_index= -1\n",
    "    if drhz == down:\n",
    "        down_index= index\n",
    "        if up_index != -1:\n",
    "            print('up_index= ', up_index, ', down_index= ', down_index)\n",
    "            cf_effect= result_df['displacement'][down_index: down_index + window].median()\n",
    "            result_list.append({'up_index': up_index,'down_index': down_index,'cf_effect': cf_effect})\n",
    "        up_index= -1\n",
    "print(result_list)\n",
    "\n",
    "\n"
   ]
  },
  {
   "cell_type": "code",
   "execution_count": null,
   "metadata": {},
   "outputs": [],
   "source": [
    "# selected_columns= ['date','ENC1_POS|8','is_speed',  'is_acceleration', 'POWER|8',  'CURRENT|8',  'ENC2_POS|3','t_spindle', 'DRZ', 't_motor','supply_temp', 't_bett','t_welle', 'distance']\n",
    "# lf_path= str(experiment_path+'sync_result\\\\sync_220429_05.csv')\n",
    "# result_df[selected_columns].to_csv(lf_path)"
   ]
  }
 ],
 "metadata": {
  "kernelspec": {
   "display_name": "Python 3.8.8 ('base')",
   "language": "python",
   "name": "python3"
  },
  "language_info": {
   "codemirror_mode": {
    "name": "ipython",
    "version": 3
   },
   "file_extension": ".py",
   "mimetype": "text/x-python",
   "name": "python",
   "nbconvert_exporter": "python",
   "pygments_lexer": "ipython3",
   "version": "3.8.8"
  },
  "vscode": {
   "interpreter": {
    "hash": "98516c4905fb8467ece250085a11958ff6a81ba629b2fa3655ee37336959c16d"
   }
  }
 },
 "nbformat": 4,
 "nbformat_minor": 2
}
