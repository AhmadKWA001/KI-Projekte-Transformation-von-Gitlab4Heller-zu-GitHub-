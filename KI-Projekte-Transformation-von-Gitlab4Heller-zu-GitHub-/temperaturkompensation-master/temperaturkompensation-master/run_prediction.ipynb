{
 "cells": [
  {
   "cell_type": "code",
   "execution_count": null,
   "metadata": {},
   "outputs": [],
   "source": [
    "#### Load Libraries\n",
    "import numpy as np\n",
    "from joblib import load\n",
    "from keras.models import Model, load_model\n",
    "import glob \n",
    "import  pandas as pd\n",
    "import matplotlib.pyplot as plt\n",
    "from keras.losses import mean_absolute_error as mae, mean_squared_error as mse, mean_absolute_percentage_error as mape\n",
    "import os\n",
    "import plotly.express as ex\n",
    "from plotly.subplots import make_subplots\n",
    "import plotly.graph_objects as go"
   ]
  },
  {
   "cell_type": "code",
   "execution_count": null,
   "metadata": {},
   "outputs": [],
   "source": [
    "### set parameters\n",
    "data_path= 'G:/Innovations@HELLER/DN/KI/Temperaturkompensation/New_Experiments/assets/data/'\n",
    "preprocessor_dir='G:/Innovations@HELLER/DN/KI/Temperaturkompensation/New_Experiments/assets/preprocessor/'\n",
    "preprocessor_name='preprocessor.p'\n",
    "model_dir='G:/Innovations@HELLER/DN/KI/Temperaturkompensation/New_Experiments/assets/model/'\n",
    "model_name= 'model.h5'\n",
    "selected_Columns= ['t_spindle', 't_motor','supply_temp']\n",
    "window= 10"
   ]
  },
  {
   "cell_type": "code",
   "execution_count": null,
   "metadata": {},
   "outputs": [],
   "source": [
    "def generateDataSource(signal_input=None, input_columns: list = [], output_length: int = 1, signal_output=None, window=1, shift=1):\n",
    "    Signal_Length = signal_input.shape[0]\n",
    "    num_samples = int((Signal_Length - window + 1) / shift)\n",
    "    x = np.zeros(shape=(num_samples, window, signal_input.shape[1]))\n",
    "    y = np.zeros(shape=(num_samples, output_length, 1))\n",
    "    for i in range(num_samples):\n",
    "        x[i] = signal_input[i * shift: i * shift + window]\n",
    "        y[i] = signal_output[i * shift + window -\n",
    "                             1: i * shift + window - 1 + output_length]\n",
    "    return x, y"
   ]
  },
  {
   "cell_type": "code",
   "execution_count": null,
   "metadata": {},
   "outputs": [],
   "source": [
    "# Implement special preprocessing steps\n",
    "# 1 calculate new Feature\n",
    "# 2 make rounding\n",
    "\n",
    "\n",
    "from sklearn.preprocessing import FunctionTransformer\n",
    "\n",
    "\n",
    "def special_preprocess(data: np.ndarray):\n",
    "    delta_t_spindel_bett = data[:, 1] - data[:, 0]\n",
    "    delta_t_spindel_bett = delta_t_spindel_bett.reshape((-1, 1))\n",
    "    result = np.concatenate((data[:, 2:5], delta_t_spindel_bett), axis=1)\n",
    "    return result\n",
    "\n",
    "\n",
    "def rounding(signals: np.ndarray):\n",
    "    return np.round(signals, 2)\n",
    "\n",
    "\n",
    "def remove_t_bett(data: np.ndarray):\n",
    "    result = data[:, 1:]\n",
    "    result[:, 0] = result[:, 0] - data[:, 0]\n",
    "    result[:, 1] = result[:, 1] - data[:, 0]\n",
    "    return result"
   ]
  },
  {
   "cell_type": "code",
   "execution_count": null,
   "metadata": {},
   "outputs": [],
   "source": [
    "### load models\n",
    "pipeline= load(str(preprocessor_dir+preprocessor_name))\n",
    "print('preprocessor is loaded successfully')\n",
    "model= load_model(str(model_dir + model_name), compile= False)\n",
    "print('Model is loaded successfully')"
   ]
  },
  {
   "cell_type": "code",
   "execution_count": null,
   "metadata": {},
   "outputs": [],
   "source": [
    "def filter_centerfugal_force_effect(df: pd.DataFrame):\n",
    "    factor= 6.58*(10**(-7))\n",
    "    result=  factor * df['DRZ'].abs()#np.round(df['DRZ'].abs(),-3)\n",
    "    return result\n"
   ]
  },
  {
   "cell_type": "code",
   "execution_count": null,
   "metadata": {},
   "outputs": [],
   "source": [
    "selected_Columns= ['t_bett','t_motor','t_spindle','given2model']#'date','t_bett','t_motor','t_spindle','given2model','welle_z','used4spline','spline_interp'"
   ]
  },
  {
   "cell_type": "code",
   "execution_count": null,
   "metadata": {},
   "outputs": [],
   "source": [
    "### Load Data\n",
    "data_path= 'G:\\\\Innovations@HELLER\\\\DN\\\\KI\\\\AutoLern\\\\Temperaturkompensation_Datensaetze\\\\'\n",
    "scatter_mode= 'lines'\n",
    "training_columns= ['t_bett','t_motor', 't_spindle','M8', 'M121', 'M127', 'M7']\n",
    "os.chdir(data_path)\n",
    "for file in glob.glob('*.csv'):\n",
    "    df= pd.read_csv(file)\n",
    "    training_df= df[selected_Columns]\n",
    "    training_df['M8']=0\n",
    "    training_df['M121']=0\n",
    "    training_df['M127']=0\n",
    "    training_df['M7']=0\n",
    "    signals= training_df[training_columns]\n",
    "    signals= signals.to_numpy()\n",
    "    input= pipeline.transform(signals)\n",
    "    output= df['welle_z']\n",
    "    partitions, target= generateDataSource(signal_input= input, input_columns= selected_Columns, output_length= 1,signal_output= output, window= window, shift= 1)\n",
    "    target= np.reshape(target,-1)\n",
    "    predictions= model.predict(partitions)\n",
    "    predictions= np.reshape(predictions,-1)\n",
    "    print(predictions.shape)\n",
    "    print (' mae= ', np.mean(mae(target,predictions)))\n",
    "    ######\n",
    "    visualization_columns= ['t_bett','t_motor','t_spindle','welle_z','spline_interp']\n",
    "    df= df[window-1:]\n",
    "    print(df.shape)\n",
    "    df['welle_z']= df['welle_z'].shift(-4)\n",
    "    print(df.shape)\n",
    "    y_axis_names= visualization_columns# ['ENC1_POS|8 (degee)     ', 'CMD_SPEED|8 (degree/s)    ','is_speed (degree/s)   ', 'is_acceleration(degree/s^2)   ',  'POWER|8 (W)',  'CURRENT|8 (A)',  'ENC2_POS|3 (mm)','t_spindle', 'DRZ', 't_motor','supply_temp', 't_bett', 'distance']\n",
    "    fig= make_subplots(rows=len(visualization_columns)-1,cols=1,shared_xaxes= True, print_grid= True, subplot_titles= visualization_columns, vertical_spacing=0.02)\n",
    "    for i in range(len(visualization_columns)):\n",
    "        if i == len(visualization_columns) -1:\n",
    "            fig.add_trace(go.Scatter(x= df['date'],y= df[visualization_columns[i]], name=visualization_columns[i], mode= scatter_mode), row= i, col= 1)\n",
    "            fig.update_yaxes(title_text= y_axis_names[i], row= i, col= 1)\n",
    "        else:\n",
    "            fig.add_trace(go.Scatter(x= df['date'],y= df[visualization_columns[i]], name=visualization_columns[i], mode= scatter_mode), row= i+1, col= 1)\n",
    "            fig.update_yaxes(title_text= y_axis_names[i], row= i+1, col= 1)\n",
    "    fig.add_trace(go.Scatter(x= df['date'],y= predictions / 1000, name='Model prediction', mode= scatter_mode), row= len(visualization_columns) -1, col= 1) \n",
    "    fig.update_layout(height=1800, width=1200, title_text=\"5 Sekunden-Daten\")\n",
    "    fig.show()\n",
    "    "
   ]
  },
  {
   "cell_type": "code",
   "execution_count": null,
   "metadata": {},
   "outputs": [],
   "source": [
    "### Load Data\n",
    "os.chdir(data_path)\n",
    "for file in glob.glob('*.csv'):\n",
    "    df= pd.read_csv(file)\n",
    "    \n",
    "    input_df= df['distance'].copy()\n",
    "    input_df= input_df.shift(periods= -1, axis= 0, fill_value= 0)\n",
    "    df['distance']= input_df\n",
    "    df= df.iloc[:2000]\n",
    "    print('current File: ', file)\n",
    "    #distance= df['distance']\n",
    "    df['correction']= filter_centerfugal_force_effect(df)\n",
    "    df['new_distance']= df['distance'] + df['correction']# df['distance']#\n",
    "    df['displacement']= df['new_distance'][0] - df['new_distance']\n",
    "\n",
    "    selected_columns= ['t_spindle', 't_motor','t_welle', 'DRZ', 'distance','correction','new_distance','displacement']\n",
    "    y_axis_names= selected_columns# ['ENC1_POS|8 (degee)     ', 'CMD_SPEED|8 (degree/s)    ','is_speed (degree/s)   ', 'is_acceleration(degree/s^2)   ',  'POWER|8 (W)',  'CURRENT|8 (A)',  'ENC2_POS|3 (mm)','t_spindle', 'DRZ', 't_motor','supply_temp', 't_bett', 'distance']\n",
    "    fig= make_subplots(rows=len(selected_columns),cols=1,shared_xaxes= True, print_grid= True, subplot_titles= selected_columns, vertical_spacing=0.02)\n",
    "    for i in range(len(selected_columns)):\n",
    "        fig.add_trace(go.Line(y= df[selected_columns[i]]), row= i+1, col= 1)\n",
    "        fig.update_yaxes(title_text= y_axis_names[i], row= i+1, col= 1)\n",
    "    fig.update_layout(height=1800, width=1200, title_text=\"LF-Data\")\n",
    "    fig.show()\n",
    "\n",
    "    signals= df[selected_Columns]\n",
    "    signals= signals.to_numpy()\n",
    "    input= pipeline.transform(signals)\n",
    "    output= df['displacement']\n",
    "    partitions, target= generateDataSource(signal_input= input, input_columns= selected_Columns, output_length= 1,signal_output= output, window= window, shift= 1)\n",
    "    target= np.reshape(target,-1)\n",
    "    predictions= model.predict(partitions)\n",
    "    predictions= np.reshape(predictions,-1)\n",
    "    print (' mae= ', np.mean(mae(target,predictions)))\n",
    "    # fig, ax= plt.subplots(figsize=(15,15))\n",
    "    # plt.title(str('Results of LSTM Algorithm on File '+ file))\n",
    "    # plt.xlabel('N')\n",
    "    # plt.ylabel('Kompensation (mm)')\n",
    "    # plt.grid()\n",
    "    # plt.plot(target, label= 'Orginal z_tcp_ok (Soll_Werte)', color='green')\n",
    "    # plt.plot(predictions, label= 'z_tcp_ok (Prognose)', color='red')\n",
    "    # #plt.plot(komp, label= 'kompensation (Ist_Werte)', color='blue')\n",
    "    # plt.legend()\n",
    "    # plt.show()\n",
    "    ## Visualization of lf-data with predicted results\n",
    "    result_df= pd.DataFrame({'displacement': target, 'prediction': predictions})\n",
    "    fig= ex.line(result_df,y=['displacement', 'prediction'])\n",
    "    #fig.update_layout(height=1200, width=1200, title_text=\"Laser-Data\")\n",
    "    fig.show()\n",
    "        "
   ]
  },
  {
   "cell_type": "code",
   "execution_count": null,
   "metadata": {},
   "outputs": [],
   "source": [
    "    fig= ex.line(y=abs(result_df['displacement'] - result_df['prediction']))\n",
    "    #fig.update_layout(height=1200, width=1200, title_text=\"Laser-Data\")\n",
    "    fig.show()\n",
    "        "
   ]
  },
  {
   "cell_type": "code",
   "execution_count": null,
   "metadata": {},
   "outputs": [],
   "source": [
    "### Calculate predictions"
   ]
  },
  {
   "cell_type": "code",
   "execution_count": null,
   "metadata": {},
   "outputs": [],
   "source": [
    "### visualize Results"
   ]
  }
 ],
 "metadata": {
  "kernelspec": {
   "display_name": "Python 3.7.7 64-bit",
   "language": "python",
   "name": "python3"
  },
  "language_info": {
   "codemirror_mode": {
    "name": "ipython",
    "version": 3
   },
   "file_extension": ".py",
   "mimetype": "text/x-python",
   "name": "python",
   "nbconvert_exporter": "python",
   "pygments_lexer": "ipython3",
   "version": "3.7.7"
  },
  "vscode": {
   "interpreter": {
    "hash": "a58a25343f99ae6e283c189afd7abc602dec6c63d356cacabf499812ae322086"
   }
  }
 },
 "nbformat": 4,
 "nbformat_minor": 2
}
