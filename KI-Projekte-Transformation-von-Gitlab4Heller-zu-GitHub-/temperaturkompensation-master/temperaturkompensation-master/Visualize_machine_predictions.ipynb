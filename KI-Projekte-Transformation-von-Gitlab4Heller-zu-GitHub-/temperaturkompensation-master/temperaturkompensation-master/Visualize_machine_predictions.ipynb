{
 "cells": [
  {
   "cell_type": "code",
   "execution_count": null,
   "metadata": {},
   "outputs": [],
   "source": [
    "#### Load Libraries\n",
    "import numpy as np\n",
    "from joblib import load\n",
    "from keras.models import Model, load_model\n",
    "import glob \n",
    "import  pandas as pd\n",
    "import matplotlib.pyplot as plt\n",
    "from keras.losses import mean_absolute_error as mae, mean_squared_error as mse, mean_absolute_percentage_error as mape\n",
    "import os\n",
    "from pymongo import MongoClient\n",
    "import plotly.express as ex\n",
    "from plotly.subplots import make_subplots\n",
    "import plotly.graph_objects as go\n",
    "from datetime import datetime\n",
    "from datetime import timedelta"
   ]
  },
  {
   "cell_type": "code",
   "execution_count": null,
   "metadata": {},
   "outputs": [],
   "source": [
    "import tensorflow as tf\n",
    "physical_devices = tf.config.list_physical_devices('GPU')\n",
    "tf.config.experimental.set_memory_growth(physical_devices[0], enable=True)"
   ]
  },
  {
   "cell_type": "code",
   "execution_count": null,
   "metadata": {},
   "outputs": [],
   "source": [
    "#####DB Config\n",
    "host= \"DevEdgeV32\"\n",
    "port=27017"
   ]
  },
  {
   "cell_type": "code",
   "execution_count": null,
   "metadata": {},
   "outputs": [],
   "source": [
    "### set parameters\n",
    "preprocessor_dir='G:/Innovations@HELLER/DN/KI/Temperaturkompensation/New_Experiments/assets/preprocessor/'\n",
    "preprocessor_name='preprocessor.p'\n",
    "model_dir='G:/Innovations@HELLER/DN/KI/Temperaturkompensation/New_Experiments/assets/model/'\n",
    "model_name= 'model.h5'\n",
    "selected_Columns=  ['t_bett','t_motor', 't_spindle','M8', 'M121', 'M127', 'M7']# So must be the input of the model\n",
    "output_variable= 'welle_z'\n",
    "prediction_variable= 'prediction'\n",
    "window=10\n",
    "shift= 1\n",
    "time_shift= +1\n",
    "all_data= True"
   ]
  },
  {
   "cell_type": "code",
   "execution_count": null,
   "metadata": {},
   "outputs": [],
   "source": [
    "start= datetime.strptime(\"2022-12-09T00:00:00.000+0000\", \"%Y-%m-%dT%H:%M:%S.%f+0000\")\n",
    "end= datetime.strptime(\"2022-12-12T12:00:00.000+0000\", \"%Y-%m-%dT%H:%M:%S.%f+0000\") "
   ]
  },
  {
   "cell_type": "markdown",
   "metadata": {},
   "source": [
    "Read Data From the machine"
   ]
  },
  {
   "cell_type": "code",
   "execution_count": null,
   "metadata": {},
   "outputs": [],
   "source": [
    "## Show the input of the model from db\n",
    "client = MongoClient(host= host, port=port)\n",
    "db = client.h4ai\n",
    "event_list = db.modelLogs.find({ \"date\" : { '$gte' : start, '$lt' : end} }).sort('date', 1)\n",
    "signals= None\n",
    "i=0\n",
    "last_prediction= -500\n",
    "### Go through events in DB\n",
    "for event in event_list:\n",
    "    i+=1\n",
    "    record_list= event['content']\n",
    "    keys= None\n",
    "    ### Go through records in each event\n",
    "    for record in record_list:\n",
    "        if record['date']< start or record['date'] > end:\n",
    "            continue\n",
    "        if not all_data and not record['given2model']:\n",
    "            continue\n",
    "            # if 'given2model' not in record:\n",
    "            #     if record[prediction_variable] == last_prediction:\n",
    "            #         record['given2model']= False\n",
    "            #     else:\n",
    "            #         last_prediction= record[prediction_variable]\n",
    "            #         record['given2model']= True\n",
    "        if 'given2model' in record:\n",
    "           record['raw_data']['given2model'] =record['given2model']\n",
    "        keys= record['raw_data'].keys()\n",
    "        for item in keys:\n",
    "            record['raw_data'][item]= [record['raw_data'][item]]\n",
    "        #print ('before',record)\n",
    "        record['raw_data']['date']=[record['date'] + timedelta(hours= time_shift)]\n",
    "        record['raw_data'][output_variable]=[record[output_variable]]\n",
    "        record['raw_data'][prediction_variable]=[record[prediction_variable]]\n",
    "        record['raw_data']['DRZ2'][0]= float(record['raw_data']['DRZ2'][0])\n",
    "        # record['raw_data']['M8']= 0#(0 if record['raw_data']['DRZ'][0]<300 else 1)\n",
    "        # record['raw_data']['M121']= 0#(0 if record['raw_data']['DRZ'][0]<300 else 1)\n",
    "        # record['raw_data']['M127']= 0#(0 if record['raw_data']['DRZ'][0]<300 else 1)\n",
    "        # record['raw_data']['M7']= 0#(0 if record['raw_data']['DRZ'][0]<300 else 1)\n",
    "        # record['raw_data']['t_spindle'][0]= np.round(record['raw_data']['t_spindle'][0] - record['raw_data']['t_bett'][0], decimals=2)\n",
    "        # record['raw_data']['t_motor']= np.round(float(record['raw_data']['t_motor'][0]) - record['raw_data']['t_bett'][0], decimals= 2)\n",
    "        record['raw_data']['t_spindle'][0]= np.round(record['raw_data']['t_spindle'][0], decimals=2)\n",
    "        record['raw_data']['t_motor']= np.round(float(record['raw_data']['t_motor'][0]), decimals= 2)\n",
    "        #print ('After ',record)\n",
    "        lf_signal_point= pd.DataFrame(record['raw_data'])\n",
    "        if signals is None:\n",
    "            signals= lf_signal_point\n",
    "        else:\n",
    "            signals= signals.append(lf_signal_point,ignore_index= True)\n",
    "signals['t_motor']= signals['t_motor'].apply(np.float32)\n",
    "# signals[prediction_variable]= signals[prediction_variable].shift(+1)\n",
    "# signals= signals[1:]\n",
    "#signals = remove_peeks(signals, output_variable, 4)\n",
    "#signals.rename(columns={'t_spindle': 't_spindel', 'DRZ': 'drhz'}, inplace= True)"
   ]
  },
  {
   "cell_type": "markdown",
   "metadata": {},
   "source": [
    "Filtering Data"
   ]
  },
  {
   "cell_type": "code",
   "execution_count": null,
   "metadata": {},
   "outputs": [],
   "source": [
    "signals[output_variable].mask(1000*signals[output_variable]>60, 0, inplace= True)"
   ]
  },
  {
   "cell_type": "code",
   "execution_count": null,
   "metadata": {},
   "outputs": [],
   "source": [
    "scatter_mode= 'lines'#'lines'# 'lines+markers'# 'markers'\n",
    "#print(preds)\n",
    "prediction_error= 1000*(signals[output_variable] - signals[prediction_variable])\n",
    "fig= make_subplots(rows=11,cols=1,shared_xaxes= True, print_grid= True, vertical_spacing=0.02)\n",
    "\n",
    "##t_bett\n",
    "fig.add_trace(go.Scatter(x= signals['date'], y= signals['t_bett'], name='t_bett', mode= scatter_mode), row= 1, col= 1)\n",
    "fig.update_yaxes(title_text= 't_bett C°', row= 1, col= 1)\n",
    "##t_motor\n",
    "fig.add_trace(go.Scatter(x= signals['date'], y= signals['t_motor'], name='t_motor', mode= scatter_mode), row= 2, col= 1)\n",
    "fig.update_yaxes(title_text= 't_motor C°', row= 2, col= 1)\n",
    "##t_spindel\n",
    "fig.add_trace(go.Scatter(x= signals['date'], y= signals['t_spindle'], name='t_spindel', mode= scatter_mode), row= 3, col= 1)\n",
    "fig.update_yaxes(title_text= 't_spindel C°', row= 3, col= 1)\n",
    "###M8\n",
    "fig.add_trace(go.Line(x= signals['date'], y=signals['M8'], name='M8'), row= 4, col=1)\n",
    "fig.update_yaxes(title_text='M8', row= 4, col=1)\n",
    "###M121\n",
    "fig.add_trace(go.Line(x= signals['date'], y=signals['M121'], name='M121'), row= 5, col=1)\n",
    "fig.update_yaxes(title_text='M121', row= 5, col=1)\n",
    "###M127\n",
    "fig.add_trace(go.Line(x= signals['date'], y=signals['M127'], name='M127'), row= 6, col=1)\n",
    "fig.update_yaxes(title_text='M127', row= 6, col=1)\n",
    "###M7\n",
    "fig.add_trace(go.Line(x= signals['date'], y=signals['M7'], name='M7'), row= 7, col=1)\n",
    "fig.update_yaxes(title_text='M7', row= 7, col=1)\n",
    "##DRZ2\n",
    "fig.add_trace(go.Scatter(x= signals['date'], y= signals['DRZ2'], name='DRZ2', mode= scatter_mode), row= 8, col= 1)\n",
    "fig.update_yaxes(title_text= 'DRZ2', row= 8, col= 1)\n",
    "##'given2model'\n",
    "fig.add_trace(go.Scatter(x= signals['date'], y= signals['given2model'], name='given2model', mode= scatter_mode), row= 9, col= 1)\n",
    "fig.update_yaxes(title_text= 'given2model 0/1', row= 9, col= 1)\n",
    "##Verlagerung\n",
    "fig.add_trace(go.Scatter(x= signals['date'], y= 1000 * signals[output_variable], name='Gemesene Verlagerung (Welle)', mode= scatter_mode), row= 10, col= 1)\n",
    "fig.add_trace(go.Scatter(x= signals['date'], y= 1000 * signals[prediction_variable], name='KI-basierte Verlagerung (Welle)', mode= scatter_mode), row= 10, col= 1)\n",
    "fig.update_yaxes(title_text= 'Verlagerung Micro-Meter', row= 10, col= 1)\n",
    "##Restfehler\n",
    "fig.add_trace(go.Scatter(x= signals['date'], y= prediction_error, name=' Restfehler', mode= scatter_mode),  row= 11 , col= 1)\n",
    "## Draw the tolerence +-5\n",
    "fig.add_trace(go.Scatter(x= signals['date'], y= np.full_like(prediction_error,5), name='+5 Obere Grenze', mode= scatter_mode),  row= 11 , col= 1)\n",
    "fig.add_trace(go.Scatter(x= signals['date'], y= np.full_like(prediction_error,-5), name='- 5 Obere Grenze', mode= scatter_mode),  row= 11 , col= 1)\n",
    "fig.update_yaxes(title_text= output_variable, row= 11, col= 1)\n",
    "fig.update_layout(height=1200, width=1200, title_text= 'M57002 Machine Data')\n",
    "fig.show()"
   ]
  }
 ],
 "metadata": {
  "kernelspec": {
   "display_name": "Python 3.8.8 ('base')",
   "language": "python",
   "name": "python3"
  },
  "language_info": {
   "codemirror_mode": {
    "name": "ipython",
    "version": 3
   },
   "file_extension": ".py",
   "mimetype": "text/x-python",
   "name": "python",
   "nbconvert_exporter": "python",
   "pygments_lexer": "ipython3",
   "version": "3.8.8 (default, Apr 13 2021, 15:08:03) [MSC v.1916 64 bit (AMD64)]"
  },
  "vscode": {
   "interpreter": {
    "hash": "98516c4905fb8467ece250085a11958ff6a81ba629b2fa3655ee37336959c16d"
   }
  }
 },
 "nbformat": 4,
 "nbformat_minor": 2
}
