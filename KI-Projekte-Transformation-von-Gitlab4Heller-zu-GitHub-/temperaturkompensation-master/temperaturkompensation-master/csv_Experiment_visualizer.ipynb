{
 "cells": [
  {
   "attachments": {},
   "cell_type": "markdown",
   "metadata": {},
   "source": [
    "This Script is to visualize the csv files of exeperiments "
   ]
  },
  {
   "cell_type": "code",
   "execution_count": null,
   "metadata": {},
   "outputs": [],
   "source": [
    "#### Load Libraries\n",
    "import numpy as np\n",
    "from joblib import load\n",
    "from keras.models import Model, load_model\n",
    "import glob \n",
    "import  pandas as pd\n",
    "import matplotlib.pyplot as plt\n",
    "from keras.losses import mean_absolute_error as mae, mean_squared_error as mse, mean_absolute_percentage_error as mape\n",
    "import os\n",
    "from pymongo import MongoClient\n",
    "import plotly.express as ex\n",
    "from plotly.subplots import make_subplots\n",
    "import plotly.graph_objects as go\n",
    "from datetime import datetime\n",
    "from datetime import timedelta\n",
    "import plotly.io as pio"
   ]
  },
  {
   "cell_type": "code",
   "execution_count": null,
   "metadata": {},
   "outputs": [],
   "source": [
    "file_path= 'G:\\\\Innovations@HELLER\\\\DN\\\\KI\\\\Temperaturkompensation\\\\Edgebox\\\\Versuchsdaten\\\\5s_data\\\\to_interpolate\\\\Versuch18_11_2022_M8_iso_shifted.csv'\n",
    "output_variable= 'welle_z'\n",
    "prediction_variable= 'prediction'\n",
    "csv_selected_columns= ['date','t_bett','t_motor', 't_spindle','DRZ2','M8', 'M121', 'M127', 'M7','given2model', output_variable]\n",
    "all_data= True"
   ]
  },
  {
   "cell_type": "code",
   "execution_count": null,
   "metadata": {},
   "outputs": [],
   "source": [
    "signals= pd.read_csv(file_path)"
   ]
  },
  {
   "cell_type": "code",
   "execution_count": null,
   "metadata": {},
   "outputs": [],
   "source": [
    "#source_dir = 'G:/Innovations@HELLER/DN/KI/Temperaturkompensation/2021_Spindelwachstumskompensation_KI_HSU_SC63/Messungen DC100 H5000 M57002/row_files/combines/smoothed/With_cooling_feature_for_Model_training_5s/'\n",
    "source_dir= 'C:\\\\Users\\\\alm003\\\\Jupyter_Files\\\\temperaturkompensation\\\\datasets\\\\'\n"
   ]
  },
  {
   "cell_type": "code",
   "execution_count": null,
   "metadata": {},
   "outputs": [],
   "source": [
    "working_dir = source_dir\n",
    "os.chdir(working_dir)#(working_dir+'validate_Data\\\\')\n",
    "training_data = None\n",
    "targets = None\n",
    "for file in glob.glob('*.csv'):\n",
    "    if file == 'combined.csv':\n",
    "        continue\n",
    "    print('Current File: ', file)\n",
    "    signals = pd.read_csv(file)\n",
    "    scatter_mode= 'lines'#'lines'# 'lines+markers'# 'markers'\n",
    "    selected_Columns= ['t_bett','t_motor', 't_spindle' ,'M8', 'M121', 'M127', 'M7', output_variable]\n",
    "    y_axis_names= selected_Columns\n",
    "    #print(preds)\n",
    "    fig= make_subplots(rows=9,cols=1,shared_xaxes= True, print_grid= True, vertical_spacing=0.02)\n",
    "    ##DRZ2\n",
    "    fig.add_trace(go.Scatter(x= signals['Unnamed: 0'], y= signals['t_bett'], name='DRZ2', mode= scatter_mode), row= 1, col= 1)\n",
    "    fig.update_yaxes(title_text= 'DRZ (RPM)', row= 1, col= 1)\n",
    "    ##t_bett\n",
    "    fig.add_trace(go.Scatter(x= signals['Unnamed: 0'], y= signals['t_bett'], name='t_bett', mode= scatter_mode), row= 2, col= 1)\n",
    "    fig.update_yaxes(title_text= 't_bett C°', row= 2, col= 1)\n",
    "    ##t_motor\n",
    "    fig.add_trace(go.Scatter(x= signals['Unnamed: 0'], y= signals['t_motor'], name='t_motor', mode= scatter_mode), row= 3, col= 1)\n",
    "    fig.update_yaxes(title_text= 't_motor C°', row= 3, col= 1)\n",
    "    ##t_spindel\n",
    "    fig.add_trace(go.Scatter(x= signals['Unnamed: 0'], y= signals['t_spindle'], name='t_spindel', mode= scatter_mode), row= 4, col= 1)\n",
    "    fig.update_yaxes(title_text= 't_spindel C°', row= 4, col= 1)\n",
    "    ##'M8'\n",
    "    fig.add_trace(go.Scatter(x= signals['Unnamed: 0'], y= signals['M8'], name='M8', mode= scatter_mode), row= 5, col= 1)\n",
    "    fig.update_yaxes(title_text= 'M8 0/1', row= 5, col= 1)\n",
    "    ##'M121'\n",
    "    fig.add_trace(go.Scatter(x= signals['Unnamed: 0'], y= signals['M121'], name='M121', mode= scatter_mode), row= 6, col= 1)\n",
    "    fig.update_yaxes(title_text= 'M121 0/1', row= 6, col= 1)\n",
    "    ##'M127'\n",
    "    fig.add_trace(go.Scatter(x= signals['Unnamed: 0'], y= signals['M127'], name='M127', mode= scatter_mode), row= 7, col= 1)\n",
    "    fig.update_yaxes(title_text= 'M127 0/1', row= 7, col= 1)\n",
    "    ##'M7'\n",
    "    fig.add_trace(go.Scatter(x= signals['Unnamed: 0'], y= signals['M7'], name='M7', mode= scatter_mode), row= 8, col= 1)\n",
    "    fig.update_yaxes(title_text= 'M7 0/1', row= 8, col= 1)\n",
    "    ##Verlagerung\n",
    "    fig.add_trace(go.Scatter(x= signals['Unnamed: 0'], y= 1000 * signals[output_variable], name='Gemesene Verlagerung (Welle)', mode= scatter_mode), row= 9, col= 1)\n",
    "    fig.add_trace(go.Scatter(x= signals['Unnamed: 0'], y= 1000 * signals['interpolated_welle_z'], name='Gemesene Verlagerung (Welle)', mode= scatter_mode), row= 9, col= 1)\n",
    "    fig.update_yaxes(title_text= 'Verlagerung Micro-Meter', row= 9, col= 1)\n",
    "fig.update_layout(height=1200, width=1400, title_text= file)\n",
    "fig.show()\n",
    "    #print(df.head(10))"
   ]
  },
  {
   "cell_type": "code",
   "execution_count": null,
   "metadata": {},
   "outputs": [],
   "source": [
    "scatter_mode= 'lines'#'lines'# 'lines+markers'# 'markers'\n",
    "selected_Columns= ['t_bett','t_motor', 't_spindle' ,'M8', 'M121', 'M127', 'M7', output_variable]\n",
    "y_axis_names= selected_Columns\n",
    "#print(preds)\n",
    "fig= make_subplots(rows=10,cols=1,shared_xaxes= True, print_grid= True, vertical_spacing=0.02)\n",
    "##DRZ2\n",
    "# fig.add_trace(go.Scatter(x= signals['date'], y= signals['DRZ2'], name='DRZ2', mode= scatter_mode), row= 1, col= 1)\n",
    "# fig.update_yaxes(title_text= 'DRZ (RPM)', row= 1, col= 1)\n",
    "##t_bett\n",
    "fig.add_trace(go.Scatter(x= signals['date'], y= signals['t_bett'], name='t_bett', mode= scatter_mode), row= 2, col= 1)\n",
    "fig.update_yaxes(title_text= 't_bett C°', row= 2, col= 1)\n",
    "##t_motor\n",
    "fig.add_trace(go.Scatter(x= signals['date'], y= signals['t_motor'], name='t_motor', mode= scatter_mode), row= 3, col= 1)\n",
    "fig.update_yaxes(title_text= 't_motor C°', row= 3, col= 1)\n",
    "##t_spindel\n",
    "fig.add_trace(go.Scatter(x= signals['date'], y= signals['t_spindle'], name='t_spindel', mode= scatter_mode), row= 4, col= 1)\n",
    "fig.update_yaxes(title_text= 't_spindel C°', row= 4, col= 1)\n",
    "##'M8'\n",
    "fig.add_trace(go.Scatter(x= signals['date'], y= signals['M8'], name='M8', mode= scatter_mode), row= 5, col= 1)\n",
    "fig.update_yaxes(title_text= 'M8 0/1', row= 5, col= 1)\n",
    "##'M121'\n",
    "fig.add_trace(go.Scatter(x= signals['date'], y= signals['M121'], name='M121', mode= scatter_mode), row= 6, col= 1)\n",
    "fig.update_yaxes(title_text= 'M121 0/1', row= 6, col= 1)\n",
    "##'M127'\n",
    "fig.add_trace(go.Scatter(x= signals['date'], y= signals['M127'], name='M127', mode= scatter_mode), row= 7, col= 1)\n",
    "fig.update_yaxes(title_text= 'M127 0/1', row= 7, col= 1)\n",
    "##'M7'\n",
    "fig.add_trace(go.Scatter(x= signals['date'], y= signals['M7'], name='M7', mode= scatter_mode), row= 8, col= 1)\n",
    "fig.update_yaxes(title_text= 'M7 0/1', row= 8, col= 1)\n",
    "##Verlagerung\n",
    "fig.add_trace(go.Scatter(x= signals['date'], y= 1000 * signals[output_variable], name='Gemesene Verlagerung (Welle)', mode= scatter_mode), row= 9, col= 1)\n",
    "fig.update_yaxes(title_text= 'Verlagerung Micro-Meter', row= 9, col= 1)\n",
    "fig.update_layout(height=1200, width=1400, title_text= 'M57002 Machine Data')\n",
    "fig.show()"
   ]
  }
 ],
 "metadata": {
  "kernelspec": {
   "display_name": "base",
   "language": "python",
   "name": "python3"
  },
  "language_info": {
   "codemirror_mode": {
    "name": "ipython",
    "version": 3
   },
   "file_extension": ".py",
   "mimetype": "text/x-python",
   "name": "python",
   "nbconvert_exporter": "python",
   "pygments_lexer": "ipython3",
   "version": "3.8.8"
  },
  "vscode": {
   "interpreter": {
    "hash": "98516c4905fb8467ece250085a11958ff6a81ba629b2fa3655ee37336959c16d"
   }
  }
 },
 "nbformat": 4,
 "nbformat_minor": 2
}
