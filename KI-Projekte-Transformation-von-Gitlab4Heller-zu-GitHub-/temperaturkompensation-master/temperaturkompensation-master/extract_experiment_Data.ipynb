{
 "cells": [
  {
   "cell_type": "markdown",
   "metadata": {},
   "source": [
    "Ein Skript zur Extrahierung der Versuchsdaten aus der Datenbank der Edge-Box"
   ]
  },
  {
   "cell_type": "code",
   "execution_count": null,
   "metadata": {},
   "outputs": [],
   "source": [
    "#### Load Libraries\n",
    "import numpy as np\n",
    "from joblib import load\n",
    "from keras.models import Model, load_model\n",
    "import glob \n",
    "import  pandas as pd\n",
    "import matplotlib.pyplot as plt\n",
    "from keras.losses import mean_absolute_error as mae, mean_squared_error as mse, mean_absolute_percentage_error as mape\n",
    "import os\n",
    "from pymongo import MongoClient\n",
    "import plotly.express as ex\n",
    "from plotly.subplots import make_subplots\n",
    "import plotly.graph_objects as go\n",
    "from datetime import datetime\n",
    "from datetime import timedelta\n",
    "import plotly.io as pio\n",
    "from time import sleep"
   ]
  },
  {
   "cell_type": "markdown",
   "metadata": {},
   "source": [
    "DB Config"
   ]
  },
  {
   "cell_type": "code",
   "execution_count": null,
   "metadata": {},
   "outputs": [],
   "source": [
    "#####DB Config\n",
    "host= \"DevEdgeV32\"\n",
    "port=27017"
   ]
  },
  {
   "cell_type": "markdown",
   "metadata": {},
   "source": [
    "Set parameters"
   ]
  },
  {
   "cell_type": "code",
   "execution_count": null,
   "metadata": {},
   "outputs": [],
   "source": [
    "save_path= 'G:\\\\Innovations@HELLER\\\\DN\\\\KI\\\\Temperaturkompensation\\\\Edgebox\\\\Versuchsdaten\\\\5s_data\\\\'#neue_Spindel\\\\'\n",
    "output_variable= 'welle_z'\n",
    "prediction_variable= 'prediction'\n",
    "csv_selected_columns= ['date','t_bett','t_motor', 't_spindle','DRZ2','M8', 'M121', 'M127', 'M7','given2model', output_variable, prediction_variable]\n",
    "all_data= True\n",
    "get_preprocessed_data= False"
   ]
  },
  {
   "cell_type": "markdown",
   "metadata": {},
   "source": [
    "Set time priod needed"
   ]
  },
  {
   "cell_type": "code",
   "execution_count": null,
   "metadata": {},
   "outputs": [],
   "source": [
    "# start= datetime.strptime(\"2022-09-20T22:00:00.000+0000\", \"%Y-%m-%dT%H:%M:%S.%f+0000\")# Trocken iso\n",
    "# end= datetime.strptime (\"2023-02-01T08:00:00.000+0000\", \"%Y-%m-%dT%H:%M:%S.%f+0000\")\n",
    "#start= datetime.strptime(\"2023-01-20T00:00:00.000+0000\", \"%Y-%m-%dT%H:%M:%S.%f+0000\") # Trocken Fräsen\n",
    "#end= datetime.strptime (\"2023-01-24T00:00:00.000+0000\", \"%Y-%m-%dT%H:%M:%S.%f+0000\")\n",
    "# start= datetime.strptime(\"2023-01-23T10:00:00.000+0000\", \"%Y-%m-%dT%H:%M:%S.%f+0000\") # nass Fräsen\n",
    "# end= datetime.strptime (\"2023-01-23T17:00:00.000+0000\", \"%Y-%m-%dT%H:%M:%S.%f+0000\")\n",
    "start= datetime.strptime(\"2023-03-01T11:00:00.000+0000\", \"%Y-%m-%dT%H:%M:%S.%f+0000\")\n",
    "end= datetime.strptime (\"2023-03-01T17:59:59.000+0000\", \"%Y-%m-%dT%H:%M:%S.%f+0000\")"
   ]
  },
  {
   "cell_type": "markdown",
   "metadata": {},
   "source": [
    "Get Data from database"
   ]
  },
  {
   "cell_type": "code",
   "execution_count": null,
   "metadata": {},
   "outputs": [],
   "source": [
    "## Read raw and preprocessing data\n",
    "client = MongoClient(host= host, port=port)\n",
    "db = client.h4ai\n",
    "event_list = db.modelLogs.find({ \"date\" : { '$gte' : start, '$lt' : end} }).sort('date', 1)\n",
    "signals= None\n",
    "i=0\n",
    "last_prediction= -500\n",
    "prev_time= None\n",
    "current_time= None\n",
    "stop= False\n",
    "### Go through events in DB\n",
    "for event in event_list:\n",
    "    i+=1\n",
    "    record_list= event['content']\n",
    "    keys= None\n",
    "    ### Go through records in each event\n",
    "    for record in record_list:\n",
    "        ### Get right data between start / end \n",
    "        if record['date']< start or record['date'] > end:\n",
    "            continue\n",
    "        current_time= record['date']#datetime.strptime(record['date'], \"%Y-%m-%d %H:%M:%S.%f\")\n",
    "        # if prev_time is None:\n",
    "        #     prev_time= current_time\n",
    "        # # elif (current_time - prev_time).total_seconds()>10:\n",
    "        # #     #print('prev_time: {time}'.format(time= prev_time))\n",
    "        # #     #print(print('current_time: {time}'.format(time= current_time)))\n",
    "        # #     stop= True\n",
    "        # #     break\n",
    "        # # else:\n",
    "        # #     prev_time= current_time\n",
    "        # # if stop:\n",
    "        # #     break\n",
    "    ##### Get only data points to be predicted\n",
    "        if not all_data:\n",
    "            if 'given2model' in record:\n",
    "                if not record['given2model']:\n",
    "                    continue\n",
    "            elif record[prediction_variable] == last_prediction:\n",
    "                continue\n",
    "            else:\n",
    "                last_prediction= record[prediction_variable]\n",
    "        #####\n",
    "        if 'given2model' in record:\n",
    "           record['raw_data']['given2model'] =record['given2model']\n",
    "        keys= record['raw_data'].keys()\n",
    "        for item in keys:\n",
    "            record['raw_data'][item]= [record['raw_data'][item]]\n",
    "        #print ('before',record)\n",
    "        record['raw_data']['date']=[record['date'] + timedelta(hours= +1)]\n",
    "        record['raw_data'][output_variable]=[record[output_variable]]\n",
    "        record['raw_data'][prediction_variable]=[record[prediction_variable]]\n",
    "        record['raw_data']['DRZ2']= float(record['DRZ2'])\n",
    "        #record['raw_data']['DRZ2'][0]= float(record['raw_data']['DRZ2'][0])\n",
    "        record['raw_data']['t_spindle'][0]= np.round(record['raw_data']['t_spindle'][0], decimals=2)\n",
    "        record['raw_data']['t_motor']= np.round(float(record['raw_data']['t_motor'][0]), decimals= 2)\n",
    "        # record['raw_data']['welle_std_comp']=[record['std_comp']]\n",
    "        # record['raw_data']['schlitten_comp']=[record['schlitten_comp']]\n",
    "        # record['raw_data']['hals_comp']=[record['hals_comp']]\n",
    "        # record['raw_data']['drz_comp']=[record['drz_comp']]\n",
    "        # record['raw_data']['tcp_z']= [record['tcp_z']]\n",
    "        #####Add preprocessed Data##########\n",
    "        if get_preprocessed_data:\n",
    "            record['raw_data']['0']= record['preprocessed_data'][0]\n",
    "            record['raw_data']['1']= record['preprocessed_data'][1]\n",
    "            record['raw_data']['2']= record['preprocessed_data'][2]\n",
    "            record['raw_data']['3']= record['preprocessed_data'][3]\n",
    "            record['raw_data']['4']= record['preprocessed_data'][4]\n",
    "            record['raw_data']['5']= record['preprocessed_data'][5]\n",
    "        ####################################\n",
    "        #print ('After ',record)\n",
    "        lf_signal_point= pd.DataFrame(record['raw_data'])\n",
    "        if signals is None:\n",
    "            signals= lf_signal_point\n",
    "        else:\n",
    "            signals= signals.append(lf_signal_point,ignore_index= True)\n",
    "signals.reset_index(inplace= True)\n",
    "####Apply enterpolation###\n",
    "upsampled_variable= str('interpolated_'+output_variable)\n",
    "signals[upsampled_variable]= signals[output_variable]\n",
    "current_welle_z= 1000000\n",
    "for index, row in signals.iterrows():\n",
    "    if row[upsampled_variable]!= current_welle_z: ### A New value is available\n",
    "        current_welle_z= row[upsampled_variable]\n",
    "    else:\n",
    "        signals.at[index,upsampled_variable]= np.NaN\n",
    "signals[upsampled_variable].interpolate(method='linear', order=3, axis= 0,inplace= True)\n",
    "output=  signals[output_variable]\n"
   ]
  },
  {
   "cell_type": "code",
   "execution_count": null,
   "metadata": {},
   "outputs": [],
   "source": [
    "signals.columns"
   ]
  },
  {
   "attachments": {},
   "cell_type": "markdown",
   "metadata": {},
   "source": [
    "Visualization of the predictions and labels and Error borders (Needed from Andreas)"
   ]
  },
  {
   "cell_type": "code",
   "execution_count": null,
   "metadata": {},
   "outputs": [],
   "source": [
    "# scatter_mode= 'lines'#'lines'# 'lines+markers'# 'markers'\n",
    "# # selected_Columns= ['t_bett','t_motor', 't_spindle' ,'M8', 'M121', 'M127', 'M7', prediction_variable, output_variable, 'db_prediction_abs_error']\n",
    "# # y_axis_names= selected_Columns\n",
    "# #print(preds)\n",
    "# fig= make_subplots(rows=1,cols=1,shared_xaxes= True, print_grid= True, vertical_spacing=0.02)\n",
    "# ##Verlagerung\n",
    "# fig.add_trace(go.Scatter(x= signals['date'], y= 1000 * signals[output_variable], name='Gemessene Verlagerung (Welle)', mode= scatter_mode), row= 1, col= 1)\n",
    "# fig.add_trace(go.Scatter(x= signals['date'], y= 1000 * signals[prediction_variable], name='KI-basierte Verlagerung (Welle)', mode= scatter_mode), row= 1, col= 1)\n",
    "\n",
    "# ##Restfehler\n",
    "# fig.add_trace(go.Scatter(x= signals['date'], y= 1000 * signals[output_variable] - 1000 * signals[prediction_variable], name=' Restfehler', mode= scatter_mode),  row= 1 , col= 1)\n",
    "# ## Draw the tolerence +-5\n",
    "# fig.add_trace(go.Scatter(x= signals['date'], y= np.full_like(signals[output_variable],5), name='+5 Obere Grenze', mode= scatter_mode),  row= 1 , col= 1)\n",
    "# fig.add_trace(go.Scatter(x= signals['date'], y= np.full_like(signals[output_variable],-5), name='- 5 Obere Grenze', mode= scatter_mode),  row= 1 , col= 1)\n",
    "# fig.update_yaxes(title_text= 'Verlagerung Micro-Meter', row= 1, col= 1)\n",
    "# fig.update_layout(height=1200, width=1400, title_text= 'M57002 Machine Data, Versuch am 2023-01-11T20:00:00 ISO 230-3 Trocken')"
   ]
  },
  {
   "cell_type": "markdown",
   "metadata": {},
   "source": [
    "Correct the delay of the Welle_z"
   ]
  },
  {
   "cell_type": "code",
   "execution_count": null,
   "metadata": {},
   "outputs": [],
   "source": [
    "### Special for data gathered with new app\n",
    "#signals[output_variable]= signals[output_variable].shift(-1)\n"
   ]
  },
  {
   "cell_type": "code",
   "execution_count": null,
   "metadata": {},
   "outputs": [],
   "source": [
    "# length= len(signals)\n",
    "# start= -1\n",
    "# end= -1\n",
    "# phases=[]\n",
    "# for index, row in signals.iterrows():\n",
    "#     if start<0:\n",
    "#         start= index\n",
    "#         continue\n",
    "#     if row['given2model'] or index == length - 1:\n",
    "#         end= index-1\n",
    "#         new_phase= (start, end)\n",
    "#         phases.append(new_phase)\n",
    "#         start= index\n",
    "        \n",
    "# for phase in phases:\n",
    "#     start_idx= phase[0]\n",
    "#     end_idx= phase[1]\n",
    "#     #print(phase)\n",
    "#     #print('in= ', start_idx,':', end_idx + 1, ', from= ', end_idx+1)\n",
    "#     signals['welle_z'][start_idx: end_idx + 1]= signals['welle_z'][end_idx+1]"
   ]
  },
  {
   "attachments": {},
   "cell_type": "markdown",
   "metadata": {},
   "source": [
    "Correct the shift of z_welle"
   ]
  },
  {
   "cell_type": "code",
   "execution_count": null,
   "metadata": {},
   "outputs": [],
   "source": [
    "#signals[output_variable].mask(signals[output_variable]>10,signals[prediction_variable], inplace=True)"
   ]
  },
  {
   "cell_type": "code",
   "execution_count": null,
   "metadata": {},
   "outputs": [],
   "source": [
    "# shift_value= signals[output_variable][0]\n",
    "# signals[output_variable] -= shift_value"
   ]
  },
  {
   "cell_type": "code",
   "execution_count": null,
   "metadata": {},
   "outputs": [],
   "source": [
    "# signals['db_prediction_abs_error']= signals[prediction_variable] -signals[output_variable]\n",
    "# signals['db_prediction_abs_error']= 1000 * signals['db_prediction_abs_error']"
   ]
  },
  {
   "cell_type": "code",
   "execution_count": null,
   "metadata": {},
   "outputs": [],
   "source": [
    "#window= 24\n",
    "#signals['t_motor']= signals['t_motor'].rolling(window=window).mean()\n",
    "#signals['t_spindle']= signals['t_spindle'].rolling(window= window).mean()\n",
    "#signals[prediction_variable]= signals[prediction_variable].rolling(window= window).mean()\n",
    "#signals= signals[window+1:]"
   ]
  },
  {
   "cell_type": "code",
   "execution_count": null,
   "metadata": {},
   "outputs": [],
   "source": [
    "# scatter_mode= 'lines'#'lines'# 'lines+markers'# 'markers'\n",
    "# # selected_Columns= ['t_bett','t_motor', 't_spindle' ,'M8', 'M121', 'M127', 'M7', prediction_variable, output_variable, 'db_prediction_abs_error']\n",
    "# # y_axis_names= selected_Columns\n",
    "# #print(preds)\n",
    "# fig= make_subplots(rows=8,cols=1,shared_xaxes= True, print_grid= True, vertical_spacing=0.02)\n",
    "# ##DRZ2\n",
    "# fig.add_trace(go.Scatter(x= signals['date'], y= signals['DRZ2'], name='DRZ2', mode= scatter_mode), row= 1, col= 1)\n",
    "# fig.update_yaxes(title_text= 'DRZ (RPM)', row= 1, col= 1)\n",
    "# ##t_motor\n",
    "# fig.add_trace(go.Scatter(x= signals['date'], y= signals['t_motor'], name='t_motor', mode= scatter_mode), row= 2, col= 1)\n",
    "# fig.update_yaxes(title_text= 't_motor C°', row= 2, col= 1)\n",
    "# ##t_spindel\n",
    "# fig.add_trace(go.Scatter(x= signals['date'], y= signals['t_spindle'], name='t_spindel', mode= scatter_mode), row= 3, col= 1)\n",
    "# fig.update_yaxes(title_text= 't_spindel C°', row= 3, col= 1)\n",
    "# ##'hals'\n",
    "# fig.add_trace(go.Scatter(x= signals['date'], y= -1000*signals['hals_comp'], name='hals_comp', mode= scatter_mode), row= 4, col= 1)\n",
    "# fig.update_yaxes(title_text= 'hals_comp MM', row= 4, col= 1)\n",
    "# ##'Schlitten'\n",
    "# fig.add_trace(go.Scatter(x= signals['date'], y= -1000*signals['schlitten_comp'], name='schlitten_comp', mode= scatter_mode), row= 5, col= 1)\n",
    "# fig.update_yaxes(title_text= 'schlitten_comp MM', row= 5, col= 1)\n",
    "# ##Verlagerung\n",
    "# # fig.add_trace(go.Scatter(x= signals['date'], y= 1000 * signals['compensation'], name='standard Verlagerung (Welle)', mode= scatter_mode), row= 9, col= 1)\n",
    "# fig.add_trace(go.Scatter(x= signals['date'], y= 1000 * signals[prediction_variable], name='KI-basierte Verlagerung (Welle)', mode= scatter_mode), row= 6, col= 1)\n",
    "# fig.update_yaxes(title_text= 'Verlagerung MM', row= 6, col= 1)\n",
    "# ##drz_comp\n",
    "# fig.add_trace(go.Scatter(x= signals['date'], y= - 1000 * signals['drz_comp'], name='drz_comp', mode= scatter_mode), row= 7, col= 1)\n",
    "# fig.update_yaxes(title_text= 'Verlagerung DRZ MM', row= 7, col= 1)\n",
    "# ##tcp_z\n",
    "# fig.add_trace(go.Scatter(x= signals['date'], y= -1000 * (signals['drz_comp']+ signals['hals_comp'] +signals['schlitten_comp']-signals[prediction_variable]), name='KI_Verlagerung', mode= scatter_mode), row= 8, col= 1)\n",
    "# fig.add_trace(go.Scatter(x= signals['date'], y= 1000 * signals['tcp_z'], name='tcp_z Verlagerung', mode= scatter_mode), row= 8, col= 1)\n",
    "# fig.update_yaxes(title_text= 'tcp_z Verlagerung MM', row= 8, col= 1)\n",
    "# fig.update_layout(height=1200, width=1400, title_text= 'M57002 Machine Data')\n",
    "#fig.show()"
   ]
  },
  {
   "cell_type": "code",
   "execution_count": null,
   "metadata": {},
   "outputs": [],
   "source": [
    "scatter_mode= 'lines'#'lines'# 'lines+markers'# 'markers'\n",
    "# selected_Columns= ['t_bett','t_motor', 't_spindle' ,'M8', 'M121', 'M127', 'M7', prediction_variable, output_variable, 'db_prediction_abs_error']\n",
    "# y_axis_names= selected_Columns\n",
    "#print(preds)\n",
    "fig= make_subplots(rows=10,cols=1,shared_xaxes= True, print_grid= True, vertical_spacing=0.02)\n",
    "#DRZ2\n",
    "fig.add_trace(go.Scatter(x= signals['date'], y= signals['DRZ2'], name='DRZ2', mode= scatter_mode), row= 1, col= 1)\n",
    "fig.update_yaxes(title_text= 'DRZ (RPM)', row= 1, col= 1)\n",
    "##t_bett\n",
    "fig.add_trace(go.Scatter(x= signals['date'], y= signals['t_bett'], name='t_bett', mode= scatter_mode), row= 2, col= 1)\n",
    "fig.update_yaxes(title_text= 't_bett C°', row= 2, col= 1)\n",
    "##t_motor\n",
    "fig.add_trace(go.Scatter(x= signals['date'], y= signals['t_motor'], name='t_motor', mode= scatter_mode), row= 3, col= 1)\n",
    "fig.update_yaxes(title_text= 't_motor C°', row= 3, col= 1)\n",
    "##t_spindel\n",
    "fig.add_trace(go.Scatter(x= signals['date'], y= signals['t_spindle'], name='t_spindel', mode= scatter_mode), row= 4, col= 1)\n",
    "fig.update_yaxes(title_text= 't_spindel C°', row= 4, col= 1)\n",
    "##'M8'\n",
    "fig.add_trace(go.Scatter(x= signals['date'], y= signals['M8'], name='M8', mode= scatter_mode), row= 5, col= 1)\n",
    "fig.update_yaxes(title_text= 'M8 0/1', row= 5, col= 1)\n",
    "##'M121'\n",
    "fig.add_trace(go.Scatter(x= signals['date'], y= signals['M121'], name='M121', mode= scatter_mode), row= 6, col= 1)\n",
    "fig.update_yaxes(title_text= 'M121 0/1', row= 6, col= 1)\n",
    "##'M127'\n",
    "fig.add_trace(go.Scatter(x= signals['date'], y= signals['M127'], name='M127', mode= scatter_mode), row= 7, col= 1)\n",
    "fig.update_yaxes(title_text= 'M127 0/1', row= 7, col= 1)\n",
    "##'M7'\n",
    "fig.add_trace(go.Scatter(x= signals['date'], y= signals['M7'], name='M7', mode= scatter_mode), row= 8, col= 1)\n",
    "fig.update_yaxes(title_text= 'M7 0/1', row= 8, col= 1)\n",
    "##Verlagerung\n",
    "fig.add_trace(go.Scatter(x= signals['date'], y= 1000 * signals[upsampled_variable], name='interpolierte Messtasterwerte (Welle)', mode= scatter_mode), row= 9, col= 1)\n",
    "fig.add_trace(go.Scatter(x= signals['date'], y= 1000 * signals[output_variable], name='Messtasterwerte (Welle)', mode= scatter_mode), row= 9, col= 1)\n",
    "fig.add_trace(go.Scatter(x= signals['date'], y= 1000 * signals[prediction_variable], name='KI-basierte Verlagerung (Welle)', mode= scatter_mode), row= 9, col= 1)\n",
    "fig.update_yaxes(title_text= 'Verlagerung Micro-Meter', row= 9, col= 1)\n",
    "##Restfehler\n",
    "fig.add_trace(go.Scatter(x= signals['date'], y= 1000 * signals[upsampled_variable] - 1000 * signals[prediction_variable], name=' Restfehler', mode= scatter_mode),  row= 10 , col= 1)\n",
    "## Draw the tolerence +-5\n",
    "fig.add_trace(go.Scatter(x= signals['date'], y= np.full_like(signals[output_variable],5), name='+5 Obere Grenze', mode= scatter_mode),  row= 10 , col= 1)\n",
    "fig.add_trace(go.Scatter(x= signals['date'], y= np.full_like(signals[output_variable],-5), name='- 5 Obere Grenze', mode= scatter_mode),  row= 10 , col= 1)\n",
    "fig.update_yaxes(title_text= output_variable, row= 10, col= 1)\n",
    "fig.update_layout(height=1200, width=1400, title_text= 'M57002 Machine Data')\n",
    "fig.show()"
   ]
  },
  {
   "cell_type": "code",
   "execution_count": null,
   "metadata": {},
   "outputs": [],
   "source": [
    "signals.to_csv('Fraesversuchtrocken_iso_01032023.csv')"
   ]
  },
  {
   "attachments": {},
   "cell_type": "markdown",
   "metadata": {},
   "source": [
    "Static Visualization"
   ]
  },
  {
   "cell_type": "code",
   "execution_count": null,
   "metadata": {},
   "outputs": [],
   "source": [
    "scatter_mode= 'lines'#'lines'# 'lines+markers'# 'markers'\n",
    "# selected_Columns= ['t_bett','t_motor', 't_spindle' ,'M8', 'M121', 'M127', 'M7', prediction_variable, output_variable, 'db_prediction_abs_error']\n",
    "# y_axis_names= selected_Columns\n",
    "#print(preds)\n",
    "fig= make_subplots(rows=10,cols=1,shared_xaxes= True, print_grid= True, vertical_spacing=0.02)\n",
    "##DRZ2\n",
    "#fig.add_trace(go.Scatter(x= signals['date'], y= signals['DRZ2'], name='DRZ2', mode= scatter_mode), row= 1, col= 1)\n",
    "#fig.update_yaxes(title_text= 'DRZ (RPM)', row= 1, col= 1)\n",
    "##t_bett\n",
    "fig.add_trace(go.Scatter(x= signals['date'], y= signals['t_bett'], name='t_bett', mode= scatter_mode), row= 2, col= 1)\n",
    "fig.update_yaxes(title_text= 't_bett C°', row= 2, col= 1)\n",
    "##t_motor\n",
    "fig.add_trace(go.Scatter(x= signals['date'], y= signals['t_motor'], name='t_motor', mode= scatter_mode), row= 3, col= 1)\n",
    "fig.update_yaxes(title_text= 't_motor C°', row= 3, col= 1)\n",
    "##t_spindel\n",
    "fig.add_trace(go.Scatter(x= signals['date'], y= signals['t_spindle'], name='t_spindel', mode= scatter_mode), row= 4, col= 1)\n",
    "fig.update_yaxes(title_text= 't_spindel C°', row= 4, col= 1)\n",
    "##'M8'\n",
    "fig.add_trace(go.Scatter(x= signals['date'], y= signals['M8'], name='M8', mode= scatter_mode), row= 5, col= 1)\n",
    "fig.update_yaxes(title_text= 'M8 0/1', row= 5, col= 1)\n",
    "##'M121'\n",
    "fig.add_trace(go.Scatter(x= signals['date'], y= signals['M121'], name='M121', mode= scatter_mode), row= 6, col= 1)\n",
    "fig.update_yaxes(title_text= 'M121 0/1', row= 6, col= 1)\n",
    "##'M127'\n",
    "fig.add_trace(go.Scatter(x= signals['date'], y= signals['M127'], name='M127', mode= scatter_mode), row= 7, col= 1)\n",
    "fig.update_yaxes(title_text= 'M127 0/1', row= 7, col= 1)\n",
    "##'M7'\n",
    "fig.add_trace(go.Scatter(x= signals['date'], y= signals['M7'], name='M7', mode= scatter_mode), row= 8, col= 1)\n",
    "fig.update_yaxes(title_text= 'M7 0/1', row= 8, col= 1)\n",
    "##Verlagerung\n",
    "fig.add_trace(go.Scatter(x= signals['date'], y= 1000 * signals[upsampled_variable], name='interpolierte Messtasterwerte (Welle)', mode= scatter_mode), row= 9, col= 1)\n",
    "fig.add_trace(go.Scatter(x= signals['date'], y= 1000 * signals[output_variable], name='Messtasterwerte (Welle)', mode= scatter_mode), row= 9, col= 1)\n",
    "fig.add_trace(go.Scatter(x= signals['date'], y= 1000 * signals[prediction_variable], name='KI-basierte Verlagerung (Welle)', mode= scatter_mode), row= 9, col= 1)\n",
    "fig.update_yaxes(title_text= 'Verlagerung Micro-Meter', row= 9, col= 1)\n",
    "##Restfehler\n",
    "fig.add_trace(go.Scatter(x= signals['date'], y= 1000 * signals[upsampled_variable] - 1000 * signals[prediction_variable], name=' Restfehler', mode= scatter_mode),  row= 10 , col= 1)\n",
    "## Draw the tolerence +-5\n",
    "fig.add_trace(go.Scatter(x= signals['date'], y= np.full_like(signals[output_variable],5), name='+5 Obere Grenze', mode= scatter_mode),  row= 10 , col= 1)\n",
    "fig.add_trace(go.Scatter(x= signals['date'], y= np.full_like(signals[output_variable],-5), name='- 5 Obere Grenze', mode= scatter_mode),  row= 10 , col= 1)\n",
    "fig.update_yaxes(title_text= output_variable, row= 10, col= 1)\n",
    "fig.update_layout(height=1200, width=1400, title_text= 'M57002 Machine Data')\n",
    "fig.show()"
   ]
  },
  {
   "cell_type": "code",
   "execution_count": null,
   "metadata": {},
   "outputs": [],
   "source": [
    "scatter_mode= 'lines'#'lines'# 'lines+markers'# 'markers'\n",
    "# selected_Columns= ['t_bett','t_motor', 't_spindle' ,'M8', 'M121', 'M127', 'M7', prediction_variable, output_variable, 'db_prediction_abs_error']\n",
    "# y_axis_names= selected_Columns\n",
    "#print(preds)\n",
    "fig= make_subplots(rows=10,cols=1,shared_xaxes= True, print_grid= True, vertical_spacing=0.02)\n",
    "##DRZ2\n",
    "#fig.add_trace(go.Scatter(x= signals['date'], y= signals['DRZ2'], name='DRZ2', mode= scatter_mode), row= 1, col= 1)\n",
    "#fig.update_yaxes(title_text= 'DRZ (RPM)', row= 1, col= 1)\n",
    "##t_bett\n",
    "fig.add_trace(go.Scatter(x= signals['date'], y= signals['t_bett'], name='t_bett', mode= scatter_mode), row= 2, col= 1)\n",
    "fig.update_yaxes(title_text= 't_bett C°', row= 2, col= 1)\n",
    "##t_motor\n",
    "fig.add_trace(go.Scatter(x= signals['date'], y= signals['t_motor'], name='t_motor', mode= scatter_mode), row= 3, col= 1)\n",
    "fig.update_yaxes(title_text= 't_motor C°', row= 3, col= 1)\n",
    "##t_spindel\n",
    "fig.add_trace(go.Scatter(x= signals['date'], y= signals['t_spindle'], name='t_spindel', mode= scatter_mode), row= 4, col= 1)\n",
    "fig.update_yaxes(title_text= 't_spindel C°', row= 4, col= 1)\n",
    "##'M8'\n",
    "fig.add_trace(go.Scatter(x= signals['date'], y= signals['M8'], name='M8', mode= scatter_mode), row= 5, col= 1)\n",
    "fig.update_yaxes(title_text= 'M8 0/1', row= 5, col= 1)\n",
    "##'M121'\n",
    "fig.add_trace(go.Scatter(x= signals['date'], y= signals['M121'], name='M121', mode= scatter_mode), row= 6, col= 1)\n",
    "fig.update_yaxes(title_text= 'M121 0/1', row= 6, col= 1)\n",
    "##'M127'\n",
    "fig.add_trace(go.Scatter(x= signals['date'], y= signals['M127'], name='M127', mode= scatter_mode), row= 7, col= 1)\n",
    "fig.update_yaxes(title_text= 'M127 0/1', row= 7, col= 1)\n",
    "##'M7'\n",
    "fig.add_trace(go.Scatter(x= signals['date'], y= signals['M7'], name='M7', mode= scatter_mode), row= 8, col= 1)\n",
    "fig.update_yaxes(title_text= 'M7 0/1', row= 8, col= 1)\n",
    "##Verlagerung\n",
    "fig.add_trace(go.Scatter(x= signals['date'], y= 1000 * signals[upsampled_variable], name='interpolierte Messtasterwerte (Welle)', mode= scatter_mode), row= 9, col= 1)\n",
    "fig.add_trace(go.Scatter(x= signals['date'], y= 1000 * signals[output_variable], name='Messtasterwerte (Welle)', mode= scatter_mode), row= 9, col= 1)\n",
    "fig.add_trace(go.Scatter(x= signals['date'], y= 1000 * signals[prediction_variable], name='KI-basierte Verlagerung (Welle)', mode= scatter_mode), row= 9, col= 1)\n",
    "fig.update_yaxes(title_text= 'Verlagerung Micro-Meter', row= 9, col= 1)\n",
    "##Restfehler\n",
    "fig.add_trace(go.Scatter(x= signals['date'], y= 1000 * signals[upsampled_variable] - 1000 * signals[prediction_variable], name=' Restfehler', mode= scatter_mode),  row= 10 , col= 1)\n",
    "## Draw the tolerence +-5\n",
    "fig.add_trace(go.Scatter(x= signals['date'], y= np.full_like(signals[output_variable],5), name='+5 Obere Grenze', mode= scatter_mode),  row= 10 , col= 1)\n",
    "fig.add_trace(go.Scatter(x= signals['date'], y= np.full_like(signals[output_variable],-5), name='- 5 Obere Grenze', mode= scatter_mode),  row= 10 , col= 1)\n",
    "fig.update_yaxes(title_text= output_variable, row= 10, col= 1)\n",
    "fig.update_layout(height=1200, width=1400, title_text= 'M57002 Machine Data')\n",
    "fig.show()"
   ]
  },
  {
   "attachments": {},
   "cell_type": "markdown",
   "metadata": {},
   "source": [
    "Interactive visualization"
   ]
  },
  {
   "cell_type": "code",
   "execution_count": null,
   "metadata": {},
   "outputs": [],
   "source": [
    "# scatter_mode= 'lines'#'lines'# 'lines+markers'# 'markers'\n",
    "# fig_subplot= make_subplots(rows=10,cols=1,shared_xaxes= True, print_grid= True, vertical_spacing=0.02)\n",
    "# fig= go.FigureWidget(fig_subplot)l\n",
    "# fig.update_yaxes(title_text= 'DRZ (RPM)', row= 1, col= 1)\n",
    "# ##t_bett\n",
    "# fig.update_yaxes(title_text= 't_bett C°', row= 2, col= 1)\n",
    "# ##t_motor\n",
    "# fig.update_yaxes(title_text= 't_motor C°', row= 3, col= 1)\n",
    "# ##t_spindel\n",
    "# fig.update_yaxes(title_text= 't_spindel C°', row= 4, col= 1)\n",
    "# ##'M8'\n",
    "# fig.update_yaxes(title_text= 'M8 0/1', row= 5, col= 1)\n",
    "# ##'M121'\n",
    "# fig.update_yaxes(title_text= 'M121 0/1', row= 6, col= 1)\n",
    "# ##'M127'\n",
    "# fig.update_yaxes(title_text= 'M127 0/1', row= 7, col= 1)\n",
    "# ##'M7'\n",
    "# fig.update_yaxes(title_text= 'M7 0/1', row= 8, col= 1)\n",
    "# ##Verlagerung\n",
    "# fig.update_yaxes(title_text= 'Verlagerung Micro-Meter', row= 9, col= 1)\n",
    "# ##Restfehler\n",
    "# fig.update_yaxes(title_text= output_variable, row= 10, col= 1)\n",
    "# fig.update_layout(height=800, width=1400, title_text= 'M57002 Machine Data')\n"
   ]
  },
  {
   "cell_type": "code",
   "execution_count": null,
   "metadata": {},
   "outputs": [],
   "source": [
    "# for i in range(len(signals)):\n",
    "#     if i == 0:\n",
    "#         ##DRZ2\n",
    "#         fig.add_trace(go.Scatter(x= signals['date'][0:i+1], y= signals['DRZ2'][0:i+1], name='DRZ2', mode= scatter_mode), row= 1, col= 1)\n",
    "#         ##t_bett\n",
    "#         fig.add_trace(go.Scatter(x= signals['date'][0:i+1], y= signals['t_bett'][0:i+1], name='t_bett', mode= scatter_mode), row= 2, col= 1)\n",
    "#         ##t_motor\n",
    "#         fig.add_trace(go.Scatter(x= signals['date'][0:i+1], y= signals['t_motor'][0:i+1], name='t_motor', mode= scatter_mode), row= 3, col= 1)\n",
    "#         ##t_spindel\n",
    "#         fig.add_trace(go.Scatter(x= signals['date'][0:i+1], y= signals['t_spindle'][0:i+1], name='t_spindel', mode= scatter_mode), row= 4, col= 1)\n",
    "#         ##'M8'\n",
    "#         fig.add_trace(go.Scatter(x= signals['date'][0:i+1], y= signals['M8'][0:i+1], name='M8', mode= scatter_mode), row= 5, col= 1)\n",
    "#         ##'M121'\n",
    "#         fig.add_trace(go.Scatter(x= signals['date'][0:i+1], y= signals['M121'][0:i+1], name='M121', mode= scatter_mode), row= 6, col= 1)\n",
    "#         ##'M127'\n",
    "#         fig.add_trace(go.Scatter(x= signals['date'][0:i+1], y= signals['M127'][0:i+1], name='M127', mode= scatter_mode), row= 7, col= 1)\n",
    "#         ##'M7'\n",
    "#         fig.add_trace(go.Scatter(x= signals['date'][0:i+1], y= signals['M7'][0:i+1], name='M7', mode= scatter_mode), row= 8, col= 1)\n",
    "#         ##Verlagerung\n",
    "#         # fig.add_trace(go.Scatter(x= signals['date'], y= 1000 * signals['compensation'], name='standard Verlagerung (Welle)', mode= scatter_mode), row= 9, col= 1)\n",
    "#         fig.add_trace(go.Scatter(x= signals['date'][0:i+1], y= 1000 * signals[prediction_variable][0:i+1], name='KI-basierte Verlagerung (Welle)', mode= scatter_mode), row= 9, col= 1)\n",
    "#         ##Restfehler\n",
    "#         fig.add_trace(go.Scatter(x= signals['date'], y= 1000 * signals[output_variable][0:i+1] - 1000 * signals[prediction_variable][0:i+1], name=' Restfehler', mode= scatter_mode),  row= 10 , col= 1)\n",
    "#         ## Draw the tolerence +-5\n",
    "#         fig.add_trace(go.Scatter(x= signals['date'], y= np.full_like(signals[output_variable][0:i+1],5), name='+5 Obere Grenze', mode= scatter_mode),  row= 10 , col= 1)\n",
    "#         fig.add_trace(go.Scatter(x= signals['date'], y= np.full_like(signals[output_variable][0:i+1],-5), name='- 5 Obere Grenze', mode= scatter_mode),  row= 10 , col= 1)\n",
    "#     else:\n",
    "#         fig.data[0].x=signals['date'][0:i+1]\n",
    "#         fig.data[0].y=signals['DRZ2'][0:i+1]\n",
    "#         ##t_bett\n",
    "#         fig.data[1].x=signals['date'][0:i+1]\n",
    "#         fig.data[1].y=signals['t_bett'][0:i+1]\n",
    "#         ##t_motor\n",
    "#         fig.data[2].x=signals['date'][0:i+1]\n",
    "#         fig.data[2].y=signals['t_motor'][0:i+1]\n",
    "#         ##t_spindel\n",
    "#         #fig.add_trace(go.Scatter(x= signals['date'][0:i+1], y= signals['t_spindle'][0:i+1], name='t_spindel', mode= scatter_mode), row= 4, col= 1)\n",
    "#         fig.data[3].x=signals['date'][0:i+1]\n",
    "#         fig.data[3].y=signals['t_spindle'][0:i+1]\n",
    "#         ##'M8'\n",
    "#         #fig.add_trace(go.Scatter(x= signals['date'][0:i+1], y= signals['M8'][0:i+1], name='M8', mode= scatter_mode), row= 5, col= 1)\n",
    "#         fig.data[4].x=signals['date'][0:i+1]\n",
    "#         fig.data[4].y=signals['M8'][0:i+1]\n",
    "#         ##'M121'\n",
    "#         #fig.add_trace(go.Scatter(x= signals['date'][0:i+1], y= signals['M121'][0:i+1], name='M121', mode= scatter_mode), row= 6, col= 1)\n",
    "#         fig.data[5].x=signals['date'][0:i+1]\n",
    "#         fig.data[5].y=signals['M121'][0:i+1]\n",
    "#         ##'M127'\n",
    "#         #fig.add_trace(go.Scatter(x= signals['date'][0:i+1], y= signals['M127'][0:i+1], name='M127', mode= scatter_mode), row= 7, col= 1)\n",
    "#         fig.data[6].x=signals['date'][0:i+1]\n",
    "#         fig.data[6].y=signals['M127'][0:i+1]\n",
    "#         ##'M7'\n",
    "#         #fig.add_trace(go.Scatter(x= signals['date'][0:i+1], y= signals['M7'][0:i+1], name='M7', mode= scatter_mode), row= 8, col= 1)\n",
    "#         fig.data[7].x=signals['date'][0:i+1]\n",
    "#         fig.data[7].y=signals['M7'][0:i+1]\n",
    "#         ##Verlagerung\n",
    "#         # fig.add_trace(go.Scatter(x= signals['date'], y= 1000 * signals['compensation'], name='standard Verlagerung (Welle)', mode= scatter_mode), row= 9, col= 1)\n",
    "#         #fig.add_trace(go.Scatter(x= signals['date'][0:i+1], y= 1000 * signals[prediction_variable][0:i+1], name='KI-basierte Verlagerung (Welle)', mode= scatter_mode), row= 9, col= 1)\n",
    "#         fig.data[8].x=signals['date'][0:i+1]\n",
    "#         fig.data[8].y= 1000 * signals[prediction_variable][0:i+1]\n",
    "#         ##Restfehler\n",
    "#         #fig.add_trace(go.Scatter(x= signals['date'], y= 1000 * signals[output_variable][0:i+1] - 1000 * signals[prediction_variable][0:i+1], name=' Restfehler', mode= scatter_mode),  row= 10 , col= 1)\n",
    "#         fig.data[9].x=signals['date'][0:i+1]\n",
    "#         fig.data[9].y=1000 * signals[output_variable][0:i+1]\n",
    "#         ## Draw the tolerence +-5\n",
    "#         #fig.add_trace(go.Scatter(x= signals['date'], y= np.full_like(signals[output_variable][0:i+1],5), name='+5 Obere Grenze', mode= scatter_mode),  row= 10 , col= 1)\n",
    "#         fig.data[10].x=signals['date'][0:i+1]\n",
    "#         fig.data[10].y= np.full_like(signals[output_variable][0:i+1],5)\n",
    "#         #fig.add_trace(go.Scatter(x= signals['date'], y= np.full_like(signals[output_variable][0:i+1],-5), name='- 5 Obere Grenze', mode= scatter_mode),  row= 10 , col= 1)\n",
    "#         fig.data[11].x=signals['date'][0:i+1]\n",
    "#         fig.data[11].y=np.full_like(signals[output_variable][0:i+1],-5)\n",
    "#     sleep(0.2)"
   ]
  },
  {
   "cell_type": "markdown",
   "metadata": {},
   "source": [
    "Save data to .csv file"
   ]
  },
  {
   "cell_type": "code",
   "execution_count": null,
   "metadata": {},
   "outputs": [],
   "source": [
    "# ###Save to .CSV-File######\n",
    "# csv_df= signals[csv_selected_columns]\n",
    "# csv_df[output_variable]= csv_df[output_variable].round(6)\n",
    "# csv_df[csv_selected_columns].to_csv(str(save_path+'Versuch20_01_2023_trocken_Fraesen.csv'))"
   ]
  }
 ],
 "metadata": {
  "kernelspec": {
   "display_name": "Python 3",
   "language": "python",
   "name": "python3"
  },
  "language_info": {
   "codemirror_mode": {
    "name": "ipython",
    "version": 3
   },
   "file_extension": ".py",
   "mimetype": "text/x-python",
   "name": "python",
   "nbconvert_exporter": "python",
   "pygments_lexer": "ipython3",
   "version": "3.7.7"
  },
  "vscode": {
   "interpreter": {
    "hash": "a58a25343f99ae6e283c189afd7abc602dec6c63d356cacabf499812ae322086"
   }
  }
 },
 "nbformat": 4,
 "nbformat_minor": 2
}
