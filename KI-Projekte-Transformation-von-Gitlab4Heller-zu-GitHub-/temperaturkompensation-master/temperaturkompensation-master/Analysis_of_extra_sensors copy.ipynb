{
 "cells": [
  {
   "cell_type": "code",
   "execution_count": null,
   "metadata": {},
   "outputs": [],
   "source": [
    "#file_path=\"G:/Innovations@HELLER/DN/KI/Temperaturkompensation/Data_Analytics_temp/data_extra_sensors.csv\"\n",
    "'''selected_columns= [ 'T_Bett', 'T_Spindel',\n",
    "       'DRHZ', \n",
    "       'Z_TCP_MK', 'T_Raum_oben', 'T_Raum_unten', 'T_KSS_Tank', 'T_M8',\n",
    "       'T_M21', 'T_Spindel_Vorl', 'T_Spindel_Rueckl', 'T_Spindelwelle', 'Z_TCP_OK']\n",
    "       '''\n",
    "file_path= \"G:\\\\Innovations@HELLER\\\\DN\\\\KI\\\\Temperaturkompensation\\\\2021_Spindelwachstumskompensation_KI_HSU_SC63\\\\Messungen DC100 H5000 M57002\\\\row_files\\\\combines\\\\smoothed\\\\combined_file\\\\combined.csv\"\n",
    "# selected_columns= [\n",
    "#        't_bett', 't_spindel','smoothed_t_spindel', 't_y_achse', 't_z_achse', 'drhz', 't_motor', 't_kss_tank', 't_raum',\n",
    "#        't_spindel_rueck', 't_spindel_vor', 'volumenstrom',\n",
    "#        'z_schlitten_ok', 'z_hals_ok',\n",
    "#         'z_spindel_ok', 'z_welle_ok',   \n",
    "#         'z_tcp_ok_orginal', 'z_tcp_ok']\n",
    "selected_columns= [\n",
    "       't_bett', 't_spindel', 't_y_achse', 't_z_achse', 'drhz', 't_motor', 't_kss_tank', 't_raum',\n",
    "       't_spindel_rueck', 't_spindel_vor', 'volumenstrom','z_welle_ok']"
   ]
  },
  {
   "cell_type": "code",
   "execution_count": null,
   "metadata": {},
   "outputs": [],
   "source": [
    "import pandas as pd\n",
    "df= pd.read_csv(file_path)\n",
    "df= df[selected_columns]\n",
    "#df['delta_t_spindel'] = df['t_spindel_rueck']-df['t_spindel_vor']\n",
    "#df['delta_t_spindel_bett'] = df['t_spindel']-df['t_bett']\n",
    "correlations= df.corr()\n",
    "df.info()"
   ]
  },
  {
   "cell_type": "code",
   "execution_count": null,
   "metadata": {},
   "outputs": [],
   "source": [
    "import matplotlib.pyplot as plt\n",
    "import seaborn as sn\n",
    "fig, ax= plt.subplots(figsize=(20,20))\n",
    "sn.heatmap(correlations, annot=True, vmin=-1, vmax=1)\n",
    "plt.show()"
   ]
  },
  {
   "cell_type": "code",
   "execution_count": null,
   "metadata": {},
   "outputs": [],
   "source": [
    "from sklearn.preprocessing import MinMaxScaler, StandardScaler\n",
    "from sklearn.decomposition import PCA\n",
    "from sklearn.model_selection import train_test_split\n",
    "## Apply PCA\n",
    "#selected_columns= ['T_Bett', 'T_Spindel','DRHZ','T_Raum_oben', 'T_Raum_unten', 'T_KSS_Tank', 'T_M8','T_M21', 'T_Spindel_Vorl', 'T_Spindel_Rueckl', 'T_Spindelwelle']#  \n",
    "selected_columns= [\n",
    "       't_bett', 't_spindel','smoothed_t_spindel', 't_y_achse', 't_z_achse', 'drhz', 't_motor', 't_kss_tank', 't_raum',\n",
    "       't_spindel_rueck', 't_spindel_vor', 'volumenstrom']    \n",
    "X= df[selected_columns]\n",
    "y= df['z_tcp_ok']\n",
    "x_train, x_test, y_train, y_test= train_test_split(X, y, shuffle=True, test_size= 0.1)\n",
    "stdScaler= MinMaxScaler(feature_range=(-1,1))#StandardScaler(with_mean= True, with_std= True)\n",
    "x_train= stdScaler.fit_transform(x_train)\n",
    "x_test= stdScaler.transform(x_test)\n",
    "pca= PCA(5)\n",
    "x_train_pca= pca.fit_transform(x_train)\n",
    "x_test_pca= pca.transform(x_test)\n",
    "print ('Explainability of Components: ', pca.explained_variance_ratio_)"
   ]
  },
  {
   "cell_type": "code",
   "execution_count": null,
   "metadata": {},
   "outputs": [],
   "source": [
    "### Train a model and test it\n",
    "###Model of KNN\n",
    "from sklearn.neighbors import KNeighborsRegressor\n",
    "from sklearn.model_selection import cross_validate\n",
    "knn= KNeighborsRegressor(n_neighbors= 5, weights='distance')\n",
    "#pipline2= Pipeline(steps=[('knn', knn)])\n",
    "results= cross_validate(estimator= knn, X= x_train_pca, y= y_train,cv= 5,scoring= ( 'r2','neg_mean_squared_error','neg_mean_absolute_error','neg_mean_absolute_percentage_error'), verbose= 2,n_jobs=8)\n",
    "print ('mae= ', results['test_neg_mean_absolute_error'].mean(), ' mape= ', results['test_neg_mean_absolute_percentage_error'].mean(),' mse= ', results['test_neg_mean_squared_error'].mean(), ' r2= ', results['test_r2'].mean() )\n"
   ]
  },
  {
   "cell_type": "code",
   "execution_count": null,
   "metadata": {},
   "outputs": [],
   "source": [
    "### Create Tolerance Lines\n",
    "import numpy as np\n",
    "tolerance= 0.005\n",
    "x_steps= np.linspace(-0.03, 0.05, 10)\n",
    "lowerline= x_steps - tolerance\n",
    "upperline= x_steps + tolerance"
   ]
  },
  {
   "cell_type": "code",
   "execution_count": null,
   "metadata": {},
   "outputs": [],
   "source": [
    "###Test KNN\n",
    "knn= KNeighborsRegressor(n_neighbors= 5, weights='distance')\n",
    "knn= knn.fit(X= x_train_pca, y= y_train)\n",
    "y_pred= knn.predict(x_test_pca)\n",
    "fig, ax= plt.subplots(figsize=(15,15))\n",
    "plt.title('Results of KNN Algorithm')\n",
    "plt.grid()\n",
    "plt.xlabel('True')\n",
    "plt.ylabel('Predicted')\n",
    "plt.plot(x_steps, upperline, label= 'Upper Bound')\n",
    "plt.scatter(y_test,y_pred, label= 'predictions')\n",
    "plt.plot(x_steps, lowerline, label= 'lower Bound')\n",
    "plt.plot(x_steps, x_steps, label= 'Optimal line')\n",
    "plt.legend()\n",
    "plt.show()\n",
    "from sklearn.metrics import mean_absolute_error, mean_absolute_percentage_error, mean_squared_error, r2_score\n",
    "print ('r2 ', r2_score(y_test,y_pred),' mse= ',mean_squared_error(y_test,y_pred), ' mae= ', mean_absolute_error(y_test,y_pred), ' mape= ', mean_absolute_percentage_error(y_test,y_pred))"
   ]
  },
  {
   "cell_type": "code",
   "execution_count": null,
   "metadata": {},
   "outputs": [],
   "source": [
    "###Model of Random Forest\n",
    "from sklearn.ensemble import RandomForestRegressor\n",
    "randomForest= RandomForestRegressor(criterion='mae',random_state= 47, bootstrap= True)\n",
    "results= cross_validate(estimator= randomForest, X=x_train, y= y_train,cv= 50,scoring= ( 'neg_mean_squared_error','neg_mean_absolute_error','neg_mean_absolute_percentage_error', 'r2'), verbose= 2,n_jobs=8)\n",
    "print ('r2= ', results['test_r2'].mean(),' mae= ', results['test_neg_mean_absolute_error'].mean(), ' mape= ', results['test_neg_mean_absolute_percentage_error'].mean(),' mse= ', results['test_neg_mean_squared_error'].mean() )"
   ]
  },
  {
   "cell_type": "code",
   "execution_count": null,
   "metadata": {},
   "outputs": [],
   "source": [
    "##Train and Test Random Forest\n",
    "randomForest= RandomForestRegressor(criterion='mae',random_state= 47, bootstrap= True)\n",
    "randomForest=randomForest.fit(x_train, y=y_train)\n",
    "y_pred= randomForest.predict(x_test)\n",
    "fig, ax= plt.subplots(figsize=(15,15))\n",
    "plt.title('Results of RandomForest Algorithm')\n",
    "plt.xlabel('True')\n",
    "plt.ylabel('Predicted')\n",
    "plt.grid()\n",
    "plt.plot(x_steps, upperline, label= 'Upper Bound')\n",
    "plt.scatter(y_test,y_pred, label= 'predictions')\n",
    "plt.plot(x_steps, lowerline, label= 'lower Bound')\n",
    "plt.plot(x_steps, x_steps, label= 'Optimal line')\n",
    "plt.legend()\n",
    "plt.show()\n",
    "from sklearn.metrics import mean_absolute_error, mean_absolute_percentage_error, mean_squared_error\n",
    "print ('mse= ',mean_squared_error(y_test,y_pred), ' mae= ', mean_absolute_error(y_test,y_pred), ' mape= ', mean_absolute_percentage_error(y_test,y_pred))"
   ]
  },
  {
   "cell_type": "markdown",
   "metadata": {},
   "source": [
    "Apply Analysis with always available data"
   ]
  },
  {
   "cell_type": "code",
   "execution_count": null,
   "metadata": {},
   "outputs": [],
   "source": [
    "###Analysis with T_Spindel\n",
    "from sklearn.preprocessing import MinMaxScaler, StandardScaler\n",
    "from sklearn.decomposition import PCA\n",
    "from sklearn.model_selection import train_test_split\n",
    "## Apply PCA\n",
    "selected_columns= ['T_Bett', 'T_Spindel','DRHZ']\n",
    "X= df[selected_columns]\n",
    "y= df['Z_TCP_OK']\n",
    "x_train, x_test, y_train, y_test= train_test_split(X, y, shuffle=True, test_size= 0.1)\n",
    "stdScaler= MinMaxScaler(feature_range=(-1,1))#StandardScaler(with_mean= True, with_std= True)\n",
    "x_train= stdScaler.fit_transform(x_train)\n",
    "x_test= stdScaler.transform(x_test)\n",
    "pca= PCA(2)\n",
    "x_train_pca= pca.fit_transform(x_train)\n",
    "x_test_pca= pca.transform(x_test)\n",
    "print ('Explainability of Components: ', pca.explained_variance_ratio_)"
   ]
  },
  {
   "cell_type": "code",
   "execution_count": null,
   "metadata": {},
   "outputs": [],
   "source": [
    "### Train a model and test it\n",
    "###Model of KNN\n",
    "from sklearn.neighbors import KNeighborsRegressor\n",
    "from sklearn.model_selection import cross_validate\n",
    "knn= KNeighborsRegressor(n_neighbors= 5, weights='distance')\n",
    "#pipline2= Pipeline(steps=[('knn', knn)])\n",
    "results= cross_validate(estimator= knn, X= x_train_pca, y= y_train,cv= 5,scoring= ( 'r2','neg_mean_squared_error','neg_mean_absolute_error','neg_mean_absolute_percentage_error'), verbose= 2,n_jobs=8)\n",
    "print ('mae= ', results['test_neg_mean_absolute_error'].mean(), ' mape= ', results['test_neg_mean_absolute_percentage_error'].mean(),' mse= ', results['test_neg_mean_squared_error'].mean(), ' r2= ', results['test_r2'].mean() )\n"
   ]
  },
  {
   "cell_type": "code",
   "execution_count": null,
   "metadata": {},
   "outputs": [],
   "source": [
    "###Test KNN\n",
    "knn= KNeighborsRegressor(n_neighbors= 5, weights='distance')\n",
    "knn= knn.fit(X= x_train_pca, y= y_train)\n",
    "y_pred= knn.predict(x_test_pca)\n",
    "fig, ax= plt.subplots(figsize=(15,15))\n",
    "plt.grid()\n",
    "plt.title('Results of KNN Algorithm')\n",
    "plt.xlabel('True')\n",
    "plt.ylabel('Predicted')\n",
    "plt.plot(x_steps, upperline, label= 'Upper Bound')\n",
    "plt.scatter(y_test,y_pred, label= 'predictions')\n",
    "plt.plot(x_steps, lowerline, label= 'lower Bound')\n",
    "plt.plot(x_steps, x_steps, label= 'Optimal line')\n",
    "plt.legend()\n",
    "plt.show()\n",
    "from sklearn.metrics import mean_absolute_error, mean_absolute_percentage_error, mean_squared_error, r2_score\n",
    "print ('r2 ', r2_score(y_test,y_pred),' mse= ',mean_squared_error(y_test,y_pred), ' mae= ', mean_absolute_error(y_test,y_pred), ' mape= ', mean_absolute_percentage_error(y_test,y_pred))"
   ]
  },
  {
   "cell_type": "code",
   "execution_count": null,
   "metadata": {},
   "outputs": [],
   "source": [
    "###Model of Random Forest\n",
    "from sklearn.ensemble import RandomForestRegressor\n",
    "randomForest= RandomForestRegressor(criterion='mae',random_state= 47, bootstrap= True)\n",
    "results= cross_validate(estimator= randomForest, X=x_train, y= y_train,cv= 50,scoring= ( 'neg_mean_squared_error','neg_mean_absolute_error','neg_mean_absolute_percentage_error', 'r2'), verbose= 2,n_jobs=8)\n",
    "print ('r2= ', results['test_r2'].mean(),' mae= ', results['test_neg_mean_absolute_error'].mean(), ' mape= ', results['test_neg_mean_absolute_percentage_error'].mean(),' mse= ', results['test_neg_mean_squared_error'].mean() )"
   ]
  },
  {
   "cell_type": "code",
   "execution_count": null,
   "metadata": {},
   "outputs": [],
   "source": [
    "##Train and Test Random Forest\n",
    "randomForest= RandomForestRegressor(criterion='mae',random_state= 47, bootstrap= True)\n",
    "randomForest=randomForest.fit(x_train, y=y_train)\n",
    "y_pred= randomForest.predict(x_test)\n",
    "fig, ax= plt.subplots(figsize=(15,15))\n",
    "plt.title('Results of Random Forest Algorithm')\n",
    "plt.xlabel('True')\n",
    "plt.ylabel('Predicted')\n",
    "plt.grid()\n",
    "plt.plot(x_steps, upperline, label= 'Upper Bound')\n",
    "plt.scatter(y_test,y_pred, label= 'predictions')\n",
    "plt.plot(x_steps, lowerline, label= 'lower Bound')\n",
    "plt.plot(x_steps, x_steps, label= 'Optimal line')\n",
    "plt.legend()\n",
    "plt.show()\n",
    "from sklearn.metrics import mean_absolute_error, mean_absolute_percentage_error, mean_squared_error\n",
    "print ('mse= ',mean_squared_error(y_test,y_pred), ' mae= ', mean_absolute_error(y_test,y_pred), ' mape= ', mean_absolute_percentage_error(y_test,y_pred))"
   ]
  },
  {
   "cell_type": "code",
   "execution_count": null,
   "metadata": {},
   "outputs": [],
   "source": [
    "df1= pd.read_csv(file_path, sep=';', decimal= '.')\n",
    "selected_columns= [ 'DAT_UHZ', 'T_Bett', 'T_Spindel',\n",
    "       'DRHZ',  'T_Raum_oben', 'T_Raum_unten', 'T_KSS_Tank', 'T_M8',\n",
    "       'T_M21', 'T_Spindel_Vorl', 'T_Spindel_Rueckl', 'T_Spindelwelle', 'Z_TCP_OK']\n",
    "df= df1[selected_columns]\n",
    "df= df[df['T_Spindelwelle'] == df['T_Spindelwelle']]\n",
    "df.info()\n",
    "#### Generate T_Spindelwelle artificially\n",
    "selected_columns= ['T_Bett', 'T_Spindel','DRHZ']\n",
    "X= df[selected_columns]\n",
    "y= df['T_Spindelwelle']\n",
    "x_train, x_test, y_train, y_test= train_test_split(X, y, shuffle=True, test_size= 0.1)"
   ]
  },
  {
   "cell_type": "code",
   "execution_count": null,
   "metadata": {},
   "outputs": [],
   "source": [
    "pca= PCA(1)\n",
    "x_train_pca= pca.fit_transform(x_train)\n",
    "x_test_pca= pca.transform(x_test)\n",
    "print ('Explainability of Components: ', pca.explained_variance_ratio_)\n"
   ]
  },
  {
   "cell_type": "code",
   "execution_count": null,
   "metadata": {},
   "outputs": [],
   "source": [
    "knn= KNeighborsRegressor(n_neighbors= 5, weights='distance')\n",
    "results= cross_validate(estimator= knn, X= x_train_pca, y= y_train,cv= 5,scoring= ( 'r2','neg_mean_squared_error','neg_mean_absolute_error','neg_mean_absolute_percentage_error'), verbose= 2,n_jobs=8)\n",
    "print ('mae= ', results['test_neg_mean_absolute_error'].mean(), ' mape= ', results['test_neg_mean_absolute_percentage_error'].mean(),' mse= ', results['test_neg_mean_squared_error'].mean(), ' r2= ', results['test_r2'].mean() )"
   ]
  },
  {
   "cell_type": "code",
   "execution_count": null,
   "metadata": {},
   "outputs": [],
   "source": [
    "###Test KNN\n",
    "knn= KNeighborsRegressor(n_neighbors= 5, weights='distance')\n",
    "knn= knn.fit(X= x_train_pca, y= y_train)\n",
    "y_pred= knn.predict(x_test_pca)\n",
    "fig, ax= plt.subplots(figsize=(15,15))\n",
    "plt.grid()\n",
    "plt.title('Results of KNN Algorithm')\n",
    "plt.xlabel('T_Spindelwelle_True')\n",
    "plt.ylabel('T_Spindelwelle_Predicted')\n",
    "plt.scatter(y_test,y_pred, label= 'predictions')\n",
    "plt.legend()\n",
    "plt.show()\n",
    "from sklearn.metrics import mean_absolute_error, mean_absolute_percentage_error, mean_squared_error, r2_score\n",
    "print ('r2 ', r2_score(y_test,y_pred),' mse= ',mean_squared_error(y_test,y_pred), ' mae= ', mean_absolute_error(y_test,y_pred), ' mape= ', mean_absolute_percentage_error(y_test,y_pred))"
   ]
  },
  {
   "cell_type": "code",
   "execution_count": null,
   "metadata": {},
   "outputs": [],
   "source": [
    "X_pca= pca.transform(X)\n",
    "df['predicted_T_Spindelwelle']= knn.predict(X_pca)\n",
    "fig, ax= plt.subplots(figsize=(15,15))\n",
    "plt.grid()\n",
    "plt.title('Results of KNN Algorithm on T_Spindelwelle')\n",
    "plt.xlabel('T_Spindelwelle_True')\n",
    "plt.ylabel('T_Spindelwelle_Predicted')\n",
    "plt.plot(df['T_Spindelwelle'], label='T_Spindelwelle_Orginal')\n",
    "plt.plot(df['predicted_T_Spindelwelle'], label='T_Spindelwelle_ Predicted')\n",
    "plt.legend()\n",
    "plt.show"
   ]
  },
  {
   "cell_type": "code",
   "execution_count": null,
   "metadata": {},
   "outputs": [],
   "source": [
    "## Generate 'T_Spindelwelle' for all data\n",
    "columns= ['T_Bett', 'T_Spindel','DRHZ']\n",
    "X= df1[columns]\n",
    "y= df1['T_Spindelwelle']\n",
    "X_pca= pca.transform(X)\n",
    "df1['predicted_T_Spindelwelle']= knn.predict(X_pca)\n",
    "fig, ax= plt.subplots(figsize=(15,15))\n",
    "plt.grid()\n",
    "plt.title('Results of KNN Algorithm on T_Spindelwelle')\n",
    "plt.xlabel('Time')\n",
    "plt.ylabel('T_Spindelwelle_Predicted')\n",
    "#plt.plot(df['T_Spindelwelle'], label='T_Spindelwelle_Orginal')\n",
    "plt.plot(df1['predicted_T_Spindelwelle'], label='T_Spindelwelle_ Predicted')\n",
    "plt.legend()\n",
    "plt.show()"
   ]
  },
  {
   "cell_type": "code",
   "execution_count": null,
   "metadata": {},
   "outputs": [],
   "source": [
    "## Train a Random Forest Model based on new data\n",
    "###Model of Random Forest\n",
    "selected_columns= ['T_Bett', 'T_Spindel','DRHZ',  'T_Raum_oben', 'T_Raum_unten', 'T_KSS_Tank', 'T_M8',\n",
    "       'T_M21', 'T_Spindel_Vorl', 'T_Spindel_Rueckl', 'predicted_T_Spindelwelle']\n",
    "X= df1[selected_columns]\n",
    "y= df1['Z_TCP_OK']\n",
    "x_train, x_test, y_train, y_test= train_test_split(X, y, shuffle=True, test_size= 0.1)\n",
    "from sklearn.ensemble import RandomForestRegressor\n",
    "randomForest= RandomForestRegressor(criterion='mae',random_state= 47, bootstrap= True)\n",
    "results= cross_validate(estimator= randomForest, X=x_train, y= y_train,cv= 50,scoring= ( 'neg_mean_squared_error','neg_mean_absolute_error','neg_mean_absolute_percentage_error', 'r2'), verbose= 2,n_jobs=8)\n",
    "print ('r2= ', results['test_r2'].mean(),' mae= ', results['test_neg_mean_absolute_error'].mean(), ' mape= ', results['test_neg_mean_absolute_percentage_error'].mean(),' mse= ', results['test_neg_mean_squared_error'].mean() )"
   ]
  },
  {
   "cell_type": "code",
   "execution_count": null,
   "metadata": {},
   "outputs": [],
   "source": [
    "##Train and Test Random Forest\n",
    "randomForest= RandomForestRegressor(criterion='mae',random_state= 47, bootstrap= True)\n",
    "randomForest=randomForest.fit(x_train, y=y_train)\n",
    "y_pred= randomForest.predict(x_test)\n",
    "fig, ax= plt.subplots(figsize=(15,15))\n",
    "plt.title('Results of Random Forest Algorithm')\n",
    "plt.xlabel('True')\n",
    "plt.ylabel('Predicted')\n",
    "plt.grid()\n",
    "plt.plot(x_steps, upperline, label= 'Upper Bound')\n",
    "plt.scatter(y_test,y_pred, label= 'predictions')\n",
    "plt.plot(x_steps, lowerline, label= 'lower Bound')\n",
    "plt.plot(x_steps, x_steps, label= 'Optimal line')\n",
    "plt.legend()\n",
    "plt.show()\n",
    "from sklearn.metrics import mean_absolute_error, mean_absolute_percentage_error, mean_squared_error\n",
    "print ('mse= ',mean_squared_error(y_test,y_pred), ' mae= ', mean_absolute_error(y_test,y_pred), ' mape= ', mean_absolute_percentage_error(y_test,y_pred))"
   ]
  }
 ],
 "metadata": {
  "interpreter": {
   "hash": "98516c4905fb8467ece250085a11958ff6a81ba629b2fa3655ee37336959c16d"
  },
  "kernelspec": {
   "display_name": "Python 3.8.8 ('base')",
   "language": "python",
   "name": "python3"
  },
  "language_info": {
   "codemirror_mode": {
    "name": "ipython",
    "version": 3
   },
   "file_extension": ".py",
   "mimetype": "text/x-python",
   "name": "python",
   "nbconvert_exporter": "python",
   "pygments_lexer": "ipython3",
   "version": "3.8.8"
  }
 },
 "nbformat": 4,
 "nbformat_minor": 2
}
