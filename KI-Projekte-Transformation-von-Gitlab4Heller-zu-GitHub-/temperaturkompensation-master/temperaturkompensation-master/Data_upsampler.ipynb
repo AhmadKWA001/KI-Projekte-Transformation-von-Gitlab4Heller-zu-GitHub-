{
 "cells": [
  {
   "cell_type": "code",
   "execution_count": null,
   "metadata": {},
   "outputs": [],
   "source": [
    "# file_path= 'G:\\\\Innovations@HELLER\\\\DN\\\\KI\\\\Temperaturkompensation\\\\2021_Spindelwachstumskompensation_KI_HSU_SC63\\\\Messungen DC100 H5000 M57002\\\\Upsampling\\\\input\\\\'\n",
    "# target_path= 'G:\\\\Innovations@HELLER\\\\DN\\\\KI\\\\Temperaturkompensation\\\\2021_Spindelwachstumskompensation_KI_HSU_SC63\\\\Messungen DC100 H5000 M57002\\\\Upsampling\\\\output\\\\'"
   ]
  },
  {
   "cell_type": "code",
   "execution_count": null,
   "metadata": {},
   "outputs": [],
   "source": [
    "file_path='G:\\\\Innovations@HELLER\\\\DN\\\\KI\\\\Temperaturkompensation\\\\Edgebox\\\\Versuchsdaten\\\\5s_data\\\\corrected\\\\'\n",
    "target_path= 'G:\\\\Innovations@HELLER\\\\DN\\\\KI\\\\Temperaturkompensation\\\\Edgebox\\\\Versuchsdaten\\\\5s_data\\\\upsampling\\\\'"
   ]
  },
  {
   "cell_type": "code",
   "execution_count": null,
   "metadata": {},
   "outputs": [],
   "source": [
    "target_sampling_rate= 5\n",
    "upsampling_columns= 'welle_z'\n",
    "upsampled_variable= 'welle_z_iterpolated'"
   ]
  },
  {
   "cell_type": "code",
   "execution_count": null,
   "metadata": {},
   "outputs": [],
   "source": [
    "# def create_block(start_date:datetime, period: int, count_insertions: int):\n",
    "#     insertion_block= pd.DataFrame({'date': [ datetime.strptime(start_date,\"%Y-%m-%d %H:%M:%S\") + timedelta(seconds= i*period) for i in range(1,count_insertions + 1)],'t_bett': [np.NaN for i in range(count_insertions)],'t_motor':[np.NaN for i in range(count_insertions)], 't_spindel': [np.NaN for i in range(count_insertions)],'z_welle_ok':[np.NaN for i in range(count_insertions)]})\n",
    "#     return insertion_block"
   ]
  },
  {
   "cell_type": "code",
   "execution_count": null,
   "metadata": {},
   "outputs": [],
   "source": [
    "# def insert_block(original_data: pd.DataFrame, period:int,  count_insertions: int):\n",
    "#     output_df= None\n",
    "#     for index, row in original_data.iterrows():\n",
    "#         if index + 1 == len(original_data):\n",
    "#             output_df= pd.concat([output_df,original_data[index]])\n",
    "#         else:\n",
    "#             start_date= row['dat_uhz']\n",
    "#             block= create_block(start_date= start_date, period= period, count_insertions= count_insertions)\n",
    "#             if index == 0:\n",
    "#                 output_df= pd.concat([ original_data[index], block])\n",
    "#             else:\n",
    "#                 output_df= pd.concat([output_df, original_data[index], block])\n",
    "#     return output_df\n"
   ]
  },
  {
   "cell_type": "markdown",
   "metadata": {},
   "source": [
    "Read file"
   ]
  },
  {
   "cell_type": "code",
   "execution_count": null,
   "metadata": {},
   "outputs": [],
   "source": [
    "# os.chdir(file_path)\n",
    "# for file in glob.glob('*.csv'):\n",
    "#     df= pd.read_csv(file)\n",
    "#     df.reset_index(inplace= True)\n",
    "#     print(file)\n",
    "#     to_up_sampled_data= df[upsampling_columns] \n",
    "#     to_up_sampled_data= insert_block(to_up_sampled_data, period= 5, count_insertions= 24)\n",
    "#     to_up_sampled_data['M8']=0\n",
    "#     to_up_sampled_data['M121']=0\n",
    "#     to_up_sampled_data['M127']=0\n",
    "#     to_up_sampled_data['M7']=0\n",
    "#     #to_up_sampled_data.interpolate(method='cubicspline', order=3, axis= 0,inplace= True)\n",
    "#     #to_up_sampled_data.head(30)"
   ]
  },
  {
   "attachments": {},
   "cell_type": "markdown",
   "metadata": {},
   "source": [
    "Interpolate 5 seconds data"
   ]
  },
  {
   "cell_type": "code",
   "execution_count": null,
   "metadata": {},
   "outputs": [],
   "source": [
    "os.chdir(file_path)\n",
    "df= None\n",
    "for file in glob.glob('*.csv'):\n",
    "    df= pd.read_csv(file)\n",
    "    print(file)\n",
    "    df[upsampled_variable]= df[upsampling_columns]\n",
    "    current_welle_z= 1000000\n",
    "    for index, row in df.iterrows():\n",
    "        if row[upsampled_variable]!= current_welle_z: ### A New value is available\n",
    "            current_welle_z= row[upsampled_variable]\n",
    "        else:\n",
    "            df.at[index,upsampled_variable]= np.NaN\n",
    "    df[upsampled_variable].interpolate(method='linear', order=3, axis= 0,inplace= True)\n",
    "    # for i in range(len(df)-1,-1,-1):\n",
    "    #     if df.iloc[i]['given2model']:\n",
    "    #         df= df[:i+1]\n",
    "    #         break\n",
    "    #print(df.head(3))\n",
    "    df.to_csv(target_path+'interpolated_'+file)\n",
    "    scatter_mode= 'lines'\n",
    "    visualization_columns= ['t_bett','t_motor','t_spindle',upsampling_columns]\n",
    "    y_axis_names= visualization_columns\n",
    "    fig= make_subplots(rows=len(visualization_columns),cols=1,shared_xaxes= True, print_grid= True, subplot_titles= visualization_columns, vertical_spacing=0.02)\n",
    "    for i in range(len(visualization_columns)):\n",
    "        fig.add_trace(go.Scatter(x=df['date'] ,y= df[visualization_columns[i]], name=str(visualization_columns[i]), mode= scatter_mode), row= i+1, col= 1)\n",
    "        fig.update_yaxes(title_text= y_axis_names[i], row= i+1, col= 1)\n",
    "    fig.add_trace(go.Scatter(x=df['date'] ,y= df[upsampled_variable], name=upsampled_variable, mode= scatter_mode), row= len(visualization_columns), col= 1)\n",
    "    fig.update_layout(height=1800, width=1200, title_text=\"5 Sekunden-Daten\")\n",
    "    fig.show()\n",
    "    "
   ]
  },
  {
   "cell_type": "code",
   "execution_count": null,
   "metadata": {},
   "outputs": [],
   "source": [
    "# scatter_mode= 'lines'\n",
    "# visualization_columns= ['t_bett','t_motor','t_spindle','welle_z','spline_interp']\n",
    "# df= pd.read_csv(filepath_or_buffer=file_path)\n",
    "# df['welle_z']= df['welle_z'].shift(-5)\n",
    "# y_axis_names= visualization_columns# ['ENC1_POS|8 (degee)     ', 'CMD_SPEED|8 (degree/s)    ','is_speed (degree/s)   ', 'is_acceleration(degree/s^2)   ',  'POWER|8 (W)',  'CURRENT|8 (A)',  'ENC2_POS|3 (mm)','t_spindle', 'DRZ', 't_motor','supply_temp', 't_bett', 'distance']\n",
    "# fig= make_subplots(rows=len(visualization_columns)-1,cols=1,shared_xaxes= True, print_grid= True, subplot_titles= visualization_columns, vertical_spacing=0.02)\n",
    "# for i in range(len(visualization_columns)):\n",
    "#     if i == len(visualization_columns) -1:\n",
    "#         fig.add_trace(go.Scatter(x= df['date'],y= df[visualization_columns[i]], name=visualization_columns[i], mode= scatter_mode), row= i, col= 1)\n",
    "#         fig.update_yaxes(title_text= y_axis_names[i], row= i, col= 1)\n",
    "#     else:\n",
    "#         fig.add_trace(go.Scatter(x= df['date'],y= df[visualization_columns[i]], name=visualization_columns[i], mode= scatter_mode), row= i+1, col= 1)\n",
    "#         fig.update_yaxes(title_text= y_axis_names[i], row= i+1, col= 1)\n",
    "# #fig.add_trace(go.Scatter(x= df['date'],y= predictions / 1000, name='Model prediction', mode= scatter_mode), row= len(visualization_columns) -1, col= 1) \n",
    "# fig.update_layout(height=1800, width=1200, title_text=\"5 Sekunden-Daten\")\n",
    "# fig.show()\n"
   ]
  },
  {
   "cell_type": "code",
   "execution_count": null,
   "metadata": {},
   "outputs": [],
   "source": [
    "# to_up_sampled_data= df[['t_bett','t_motor','given2model','t_spindle','welle_z']]\n",
    "# to_up_sampled_data.loc[to_up_sampled_data['given2model'] == False, ['t_motor','t_spindle','welle_z']]= to_up_sampled_data['t_motor'].values[0] + np.NaN, to_up_sampled_data['t_spindle'].values[0] + np.NaN, to_up_sampled_data['welle_z'].values[0] + np.NaN\n",
    "# to_up_sampled_data.head(10)"
   ]
  },
  {
   "cell_type": "code",
   "execution_count": null,
   "metadata": {},
   "outputs": [],
   "source": [
    "# to_up_sampled_data.interpolate(method='cubicspline', order=3, axis= 0,inplace= True)"
   ]
  },
  {
   "cell_type": "code",
   "execution_count": null,
   "metadata": {},
   "outputs": [],
   "source": [
    "# scatter_mode= 'lines'\n",
    "# visualization_columns= ['t_bett','t_motor','t_spindle','welle_z']\n",
    "# two_min_values= df[df['given2model']== True]\n",
    "# y_axis_names= visualization_columns# ['ENC1_POS|8 (degee)     ', 'CMD_SPEED|8 (degree/s)    ','is_speed (degree/s)   ', 'is_acceleration(degree/s^2)   ',  'POWER|8 (W)',  'CURRENT|8 (A)',  'ENC2_POS|3 (mm)','t_spindle', 'DRZ', 't_motor','supply_temp', 't_bett', 'distance']\n",
    "# fig= make_subplots(rows=len(visualization_columns),cols=1,shared_xaxes= True, print_grid= True, subplot_titles= visualization_columns, vertical_spacing=0.02)\n",
    "# for i in range(len(visualization_columns)):\n",
    "#     fig.add_trace(go.Scatter(x= df['date'],y= to_up_sampled_data[visualization_columns[i]], name= str(visualization_columns[i] + ' upsampled'), mode= scatter_mode), row= i+1, col= 1)\n",
    "#     fig.add_trace(go.Scatter(x= df['date'], y= df[visualization_columns[i]], name=str(visualization_columns[i] + ' orginal'), mode= scatter_mode), row= i+1, col= 1)\n",
    "#     fig.add_trace(go.Scatter(x=two_min_values['date'] ,y= two_min_values[visualization_columns[i]], name=str(visualization_columns[i] + '2_Min_orginal'), mode= 'markers'), row= i+1, col= 1)\n",
    "#     fig.update_yaxes(title_text= y_axis_names[i], row= i+1, col= 1)\n",
    "# #fig.add_trace(go.Scatter(x= df['date'],y= predictions / 1000, name='Model prediction', mode= scatter_mode), row= len(visualization_columns) -1, col= 1) \n",
    "# fig.update_layout(height=1800, width=1200, title_text=\"5 Sekunden-Daten\")\n",
    "# fig.show()"
   ]
  }
 ],
 "metadata": {
  "kernelspec": {
   "display_name": "Python 3.7.7 64-bit",
   "language": "python",
   "name": "python3"
  },
  "language_info": {
   "codemirror_mode": {
    "name": "ipython",
    "version": 3
   },
   "file_extension": ".py",
   "mimetype": "text/x-python",
   "name": "python",
   "nbconvert_exporter": "python",
   "pygments_lexer": "ipython3",
   "version": "3.7.7"
  },
  "vscode": {
   "interpreter": {
    "hash": "a58a25343f99ae6e283c189afd7abc602dec6c63d356cacabf499812ae322086"
   }
  }
 },
 "nbformat": 4,
 "nbformat_minor": 2
}
