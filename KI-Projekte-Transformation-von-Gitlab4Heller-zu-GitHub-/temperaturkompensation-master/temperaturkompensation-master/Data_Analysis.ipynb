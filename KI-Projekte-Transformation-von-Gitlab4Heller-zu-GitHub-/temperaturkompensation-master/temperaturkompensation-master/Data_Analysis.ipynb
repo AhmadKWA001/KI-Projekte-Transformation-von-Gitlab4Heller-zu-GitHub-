{
 "cells": [
  {
   "cell_type": "code",
   "execution_count": null,
   "metadata": {},
   "outputs": [],
   "source": [
    "import pandas as pd\n",
    "import sklearn as sk\n",
    "import matplotlib.pyplot as plt\n",
    "import glob, os\n",
    "from scipy.signal import savgol_filter\n",
    "import numpy as np\n",
    "import seaborn as sn"
   ]
  },
  {
   "cell_type": "code",
   "execution_count": null,
   "metadata": {},
   "outputs": [],
   "source": [
    "columns= ['T_Y_ACHSE','T_Z_ACHSE','DRHZ','KOMP', 'T_Bett','T_Spindel','Z_TCP_OK']\n",
    "new_data_dir= 'G:/Innovations@HELLER/DN/KI/Temperaturkompensation/2021_Spindelwachstumskompensation_KI_HSU_SC63/Messungen DC100 H5000 M57002/csvs/'\n",
    "source_dir=\"G:/Innovations@HELLER/DN/KI/Temperaturkompensation/2021_Spindelwachstumskompensation_KI_HSU_SC63/repaired_Files/Data_Verarbeitet/peak_removed_shifted/median/\"\n",
    "combined_dir= \"G:\\\\Innovations@HELLER\\\\DN\\\\KI\\\\Temperaturkompensation\\\\2021_Spindelwachstumskompensation_KI_HSU_SC63\\\\Messungen DC100 H5000 M57002\\\\row_files\\\\combines\\\\smoothed\\\\combined_file\\\\combined.csv\""
   ]
  },
  {
   "cell_type": "code",
   "execution_count": null,
   "metadata": {},
   "outputs": [],
   "source": [
    "os.chdir(source_dir)\n",
    "result= pd.DataFrame(columns= columns)\n",
    "#result.columns= result.columns.str.lower()\n",
    "#columns= [str(columns[i]).lower() for i in range(len(columns))]\n",
    "for file in glob.glob('*.csv'):\n",
    "    if file == 'combined.csv':\n",
    "        continue\n",
    "    print ('--file name: ', file)\n",
    "    df= pd.read_csv(file)\n",
    "    #df.columns= df.columns.str.lower()\n",
    "    result= pd.concat([result, df[columns]])\n",
    "    print ('####file name: ', file, ' nans: ', result.isna().sum().sum())\n",
    "df= result"
   ]
  },
  {
   "cell_type": "code",
   "execution_count": null,
   "metadata": {},
   "outputs": [],
   "source": [
    "print(df.columns)\n",
    "x= df[columns]\n",
    "print(x.head(5))\n",
    "y= df['Z_TCP_OK']\n",
    "correlations= x.corr()\n",
    "print (correlations)\n",
    "fig, ax= plt.subplots(figsize=(10,10))\n",
    "sn.heatmap(correlations, annot=True, vmin=-1, vmax=1)\n",
    "plt.show()"
   ]
  },
  {
   "cell_type": "code",
   "execution_count": null,
   "metadata": {},
   "outputs": [],
   "source": [
    "## create correlation matrix\n"
   ]
  }
 ],
 "metadata": {
  "interpreter": {
   "hash": "38f3a588464a9020228beec8033e6a31bde501eb941ca519684e04f4b3645965"
  },
  "kernelspec": {
   "display_name": "Python 3.8.8 ('base')",
   "language": "python",
   "name": "python3"
  },
  "language_info": {
   "codemirror_mode": {
    "name": "ipython",
    "version": 3
   },
   "file_extension": ".py",
   "mimetype": "text/x-python",
   "name": "python",
   "nbconvert_exporter": "python",
   "pygments_lexer": "ipython3",
   "version": "3.8.8"
  }
 },
 "nbformat": 4,
 "nbformat_minor": 2
}
