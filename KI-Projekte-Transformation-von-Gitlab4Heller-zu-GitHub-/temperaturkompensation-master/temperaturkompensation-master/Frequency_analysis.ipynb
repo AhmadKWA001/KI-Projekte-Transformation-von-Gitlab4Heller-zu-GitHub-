{
 "cells": [
  {
   "cell_type": "code",
   "execution_count": null,
   "metadata": {},
   "outputs": [],
   "source": [
    "#### Load Libraries\n",
    "import numpy as np\n",
    "from joblib import load\n",
    "from keras.models import Model, load_model\n",
    "import glob \n",
    "import  pandas as pd\n",
    "import matplotlib.pyplot as plt\n",
    "from keras.losses import mean_absolute_error as mae, mean_squared_error as mse, mean_absolute_percentage_error as mape\n",
    "import os\n",
    "from pymongo import MongoClient\n",
    "import plotly.express as ex\n",
    "from plotly.subplots import make_subplots\n",
    "import plotly.graph_objects as go\n",
    "from datetime import datetime\n",
    "from datetime import timedelta\n",
    "from scipy.fft import fft, ifft, rfft, fftfreq"
   ]
  },
  {
   "cell_type": "code",
   "execution_count": null,
   "metadata": {},
   "outputs": [],
   "source": [
    "start= datetime.strptime(\"2022-07-21T17:56:00.000+0000\", \"%Y-%m-%dT%H:%M:%S.%f+0000\") \n",
    "end= datetime.strptime(\"2022-07-22T06:31:00.000+0000\", \"%Y-%m-%dT%H:%M:%S.%f+0000\") "
   ]
  },
  {
   "cell_type": "code",
   "execution_count": null,
   "metadata": {},
   "outputs": [],
   "source": [
    "#####DB Config\n",
    "host= \"DevEdgeV32\"\n",
    "port=27017"
   ]
  },
  {
   "cell_type": "code",
   "execution_count": null,
   "metadata": {},
   "outputs": [],
   "source": [
    "### set parameters\n",
    "data_path= 'G:/Innovations@HELLER/DN/KI/Temperaturkompensation/New_Experiments/assets/data/_N_072221LOG_PLA3_MPF.csv'\n",
    "preprocessor_dir='G:/Innovations@HELLER/DN/KI/Temperaturkompensation/New_Experiments/assets/preprocessor/'\n",
    "preprocessor_name='preprocessor.p'\n",
    "model_dir='G:/Innovations@HELLER/DN/KI/Temperaturkompensation/New_Experiments/assets/model/'\n",
    "model_name= 'model.h5'\n",
    "#selected_Columns= ['t_spindle', 't_motor','supply_temp']\n",
    "output_variable= 'welle_z'\n",
    "selected_Columns=  ['t_bett','t_motor', 't_spindle','DRZ', output_variable]#\n",
    "prediction_variable= 'prediction'\n",
    "window=10\n",
    "shift= 1"
   ]
  },
  {
   "cell_type": "code",
   "execution_count": null,
   "metadata": {},
   "outputs": [],
   "source": [
    "client = MongoClient(host= host, port=port)\n",
    "db = client.h4ai\n",
    "event_list = db.modelLogs.find({ \"date\" : { '$gte' : start, '$lt' : end} }).sort('date', 1)\n",
    "signals= None\n",
    "i=0\n",
    "for event in event_list:\n",
    "    i+=1\n",
    "    record_list= event['content']\n",
    "    keys= None\n",
    "    for record in record_list:\n",
    "        keys= record['raw_data'].keys()\n",
    "        for item in keys:\n",
    "            record['raw_data'][item]= [record['raw_data'][item]]\n",
    "        #print ('before',record)\n",
    "        record['raw_data']['date']=[record['date'] + timedelta(hours= +2)]\n",
    "        record['raw_data'][output_variable]=[record[output_variable]]\n",
    "        record['raw_data'][prediction_variable]=[record[prediction_variable]]\n",
    "        record['raw_data']['DRZ'][0]= float(record['raw_data']['DRZ'][0])\n",
    "        #record['raw_data']['M8']= 0#(0 if record['raw_data']['DRZ'][0]<300 else 1)\n",
    "        #record['raw_data']['M121']= 0#(0 if record['raw_data']['DRZ'][0]<300 else 1)\n",
    "        #record['raw_data']['M127']= 0#(0 if record['raw_data']['DRZ'][0]<300 else 1)\n",
    "        #record['raw_data']['M7']= 0#(0 if record['raw_data']['DRZ'][0]<300 else 1)\n",
    "        # record['raw_data']['t_spindle'][0]= np.round(record['raw_data']['t_spindle'][0] - record['raw_data']['t_bett'][0], decimals=2)\n",
    "        # record['raw_data']['t_motor']= np.round(float(record['raw_data']['t_motor'][0]) - record['raw_data']['t_bett'][0], decimals= 2)\n",
    "        record['raw_data']['t_spindle'][0]= np.round(record['raw_data']['t_spindle'][0], decimals=2)\n",
    "        record['raw_data']['t_motor']= np.round(float(record['raw_data']['t_motor'][0]), decimals= 2)\n",
    "        #print ('After ',record)\n",
    "        lf_signal_point= pd.DataFrame(record['raw_data'])\n",
    "        if signals is None:\n",
    "            signals= lf_signal_point\n",
    "        else:\n",
    "            signals= signals.append(lf_signal_point,ignore_index= True)\n",
    "signals['t_motor']= signals['t_motor'].apply(np.float32)\n",
    "signals.reset_index(inplace= True)\n",
    "output=  signals[output_variable]\n",
    "machine_prediction= signals[prediction_variable]\n",
    "rough_signals= signals[selected_Columns].to_numpy()\n",
    "print(rough_signals.shape)\n",
    "signals.rename(columns={'t_spindle': 't_spindel', 'DRZ': 'drhz'}, inplace= True)\n",
    "print (signals.head(3))\n",
    "db_signals= signals\n",
    "# print ('count= ', i)\n",
    "# # signals= signals[713:]\n",
    "# # signals.to_csv('machine_expriment3.csv')\n",
    "selected_Columns= ['t_bett' ,'t_motor', 't_spindel','drhz', output_variable]\n"
   ]
  },
  {
   "cell_type": "code",
   "execution_count": null,
   "metadata": {},
   "outputs": [],
   "source": [
    "db_signals"
   ]
  },
  {
   "cell_type": "code",
   "execution_count": null,
   "metadata": {},
   "outputs": [],
   "source": [
    "## Comparasion between two sources:\n",
    "y_axis_names= selected_Columns\n",
    "fig= make_subplots(rows=len(selected_Columns),cols=1,shared_xaxes= True, print_grid= True, subplot_titles= selected_Columns, vertical_spacing=0.02)\n",
    "for i in range(len(selected_Columns)):\n",
    "    fig.add_trace(go.Line(x= signals['date'],y= signals[selected_Columns[i]], name=selected_Columns[i]), row= i+1, col= 1)\n",
    "    fig.update_yaxes(title_text= y_axis_names[i], row= i+1, col= 1)\n",
    "fig.update_layout(height=900, width=1400, title_text= 'Prediction Results')\n",
    "fig.show()"
   ]
  },
  {
   "cell_type": "code",
   "execution_count": null,
   "metadata": {},
   "outputs": [],
   "source": [
    "from datetime import date,timedelta\n",
    "from numpy import timedelta64\n",
    "dates= db_signals['date'].to_numpy()\n",
    "num_samples= len(dates)\n",
    "duration= (dates[-1] - dates[0])\n",
    "duration = timedelta64(duration, 's').astype(int)\n",
    "print(duration)\n",
    "sampling_rate= 1/1.26  #Hz\n",
    "n= int(duration * sampling_rate)\n",
    "print(n)\n"
   ]
  },
  {
   "cell_type": "code",
   "execution_count": null,
   "metadata": {},
   "outputs": [],
   "source": [
    "def calc_fft(signal_data, n, sampling_rate):\n",
    "    signal_data_std= signal_data #- np.mean(signal_data)\n",
    "    data_fft= fft(np.asarray(signal_data_std))\n",
    "    num_samples= len(signal_data)\n",
    "    power = np.abs(data_fft[:len(data_fft)])\n",
    "    freq_axis= fftfreq(n, sampling_rate)\n",
    "    return freq_axis, power\n"
   ]
  },
  {
   "cell_type": "code",
   "execution_count": null,
   "metadata": {},
   "outputs": [],
   "source": [
    "for signal_name in selected_Columns:\n",
    "    signal_data= db_signals[signal_name].to_numpy()\n",
    "    \n",
    "    diff_signal= np.asanyarray([0 if i == 0 else signal_data[i] - signal_data[i-1] for i in range(0, len(signal_data))])\n",
    "    freq_axis, power= calc_fft(signal_data= signal_data, n= num_samples, sampling_rate= sampling_rate)\n",
    "    freq_axis_diff, power_diff= calc_fft(signal_data= diff_signal, n= num_samples, sampling_rate= sampling_rate)\n",
    "    fig= make_subplots(rows=4,cols=1,shared_xaxes= False, print_grid= True, vertical_spacing=0.02)\n",
    "    fig.add_trace(go.Line(x=db_signals['date'],y= signal_data, name=signal_name), row= 1, col= 1)\n",
    "    fig.update_yaxes(title_text= signal_name, row= 1, col= 1)\n",
    "    ####Frequency Signal#####\n",
    "    fig.add_trace(go.Line(x= freq_axis ,y= power, name=\"FFT\"), row= 2, col= 1)\n",
    "    fig.update_yaxes(title_text= 'FFT', row= 2, col= 1)\n",
    "    #####Difference\n",
    "    fig.add_trace(go.Line(x=db_signals['date'],y= diff_signal, name= str('diff' + signal_name)), row= 3, col= 1)\n",
    "    fig.update_yaxes(title_text= str('diff' + signal_name), row= 3, col= 1)\n",
    "    ####Frequency Signal#####\n",
    "    fig.add_trace(go.Line(x= freq_axis_diff,y= power_diff, name=\"FFT for diff signal\"), row= 4, col= 1)\n",
    "    fig.update_yaxes(title_text= 'FFT', row= 4, col= 1)\n",
    "    fig.update_layout(height=900, width=1400, title_text= 'Results')\n",
    "    fig.show()\n",
    "    ##########\n",
    "    "
   ]
  },
  {
   "cell_type": "code",
   "execution_count": null,
   "metadata": {},
   "outputs": [],
   "source": [
    "f= 1000\n",
    "spacing= 1/(f)\n",
    "num_samples= 500\n",
    "signal_data= np.asarray([np.sin(f*2*np.pi*x) for x in np.linspace(0,spacing * num_samples,num_samples, endpoint= False)*2*np.pi/360])\n",
    "signal_data_std= signal_data - np.mean(signal_data)\n",
    "data_fft= fft(np.asarray(signal_data_std))\n",
    "#freq_axis= fftfreq(num_samples, spacing)\n",
    "frequencies = np.abs(data_fft[:len(data_fft)])\n",
    "freq_axis = [u * (spacing / num_samples) for u in range(len(frequencies))]\n",
    "# print(len(frequencies))\n",
    "fig= make_subplots(rows=2,cols=1,shared_xaxes= False, print_grid= True, vertical_spacing=0.02)\n",
    "fig.add_trace(go.Line(y= signal_data, name=signal_name), row= 1, col= 1)\n",
    "fig.update_yaxes(title_text= signal_name, row= 1, col= 1)\n",
    "####Frequency Signal#####\n",
    "fig.add_trace(go.Line(x= freq_axis ,y= frequencies, name=\"FFT\"), row= 2, col= 1)\n",
    "fig.update_yaxes(title_text= 'FFT', row= 2, col= 1)\n",
    "fig.update_layout(height=900, width=1400, title_text= 'Prediction Results')\n",
    "fig.show()"
   ]
  }
 ],
 "metadata": {
  "kernelspec": {
   "display_name": "Python 3.8.8 ('base')",
   "language": "python",
   "name": "python3"
  },
  "language_info": {
   "codemirror_mode": {
    "name": "ipython",
    "version": 3
   },
   "file_extension": ".py",
   "mimetype": "text/x-python",
   "name": "python",
   "nbconvert_exporter": "python",
   "pygments_lexer": "ipython3",
   "version": "3.8.8"
  },
  "vscode": {
   "interpreter": {
    "hash": "98516c4905fb8467ece250085a11958ff6a81ba629b2fa3655ee37336959c16d"
   }
  }
 },
 "nbformat": 4,
 "nbformat_minor": 2
}
