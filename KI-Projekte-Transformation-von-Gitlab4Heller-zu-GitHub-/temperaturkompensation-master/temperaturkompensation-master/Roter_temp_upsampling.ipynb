{
 "cells": [
  {
   "attachments": {},
   "cell_type": "markdown",
   "metadata": {},
   "source": [
    "This script helps to downsample the rotor temperature file from 2 seconds down to 5 seconds"
   ]
  },
  {
   "cell_type": "code",
   "execution_count": null,
   "metadata": {},
   "outputs": [],
   "source": [
    "import pandas as pd\n",
    "import numpy as np"
   ]
  },
  {
   "cell_type": "markdown",
   "metadata": {},
   "source": [
    "Downsampling 2 seconds file to 5 seconds file"
   ]
  },
  {
   "cell_type": "code",
   "execution_count": null,
   "metadata": {},
   "outputs": [],
   "source": [
    "def downsample_2_to_5_seconds(df: pd.DataFrame, column: str):\n",
    "    result_df= pd.DataFrame(columns=df.columns.to_list())\n",
    "    prev_timestamp= None\n",
    "    prev_row= None\n",
    "    for index, row in df.iterrows():\n",
    "        secs= index*2\n",
    "        mod_v= secs % 5\n",
    "        if mod_v == 0:\n",
    "            result_df= result_df.append(row.to_dict(),ignore_index= True)\n",
    "            prev_timestamp= row['date']\n",
    "        elif  mod_v == 4:\n",
    "                prev_row= row\n",
    "        elif mod_v == 1:\n",
    "             result_row= row.copy()\n",
    "             result_row['date']= pd.to_datetime(prev_timestamp)+ pd.DateOffset(seconds= +5)\n",
    "             result_row[column]= np.round((prev_row[column] + row[column])/2,decimals=2)\n",
    "             result_df= result_df.append(result_row.to_dict(),ignore_index= True)\n",
    "        else:\n",
    "             continue\n",
    "    return result_df       "
   ]
  },
  {
   "cell_type": "markdown",
   "metadata": {},
   "source": [
    "Read Magent Temperature File"
   ]
  },
  {
   "cell_type": "code",
   "execution_count": null,
   "metadata": {},
   "outputs": [],
   "source": [
    "file_path= \"G:\\\\Innovations@HELLER\\\\DN\\\\KI\\\\Zollern-FH-MillTrunMotor\\\\Datasets\\\\rough_data\\\\2023_06_05_Rotortemperatur_5_secs_downsampled.csv\"\n",
    "df= pd.read_csv(filepath_or_buffer=file_path,infer_datetime_format= True, parse_dates= True)"
   ]
  },
  {
   "cell_type": "markdown",
   "metadata": {},
   "source": [
    "Downsample it from 2 seconds to 5 seconds and save it again"
   ]
  },
  {
   "cell_type": "code",
   "execution_count": null,
   "metadata": {},
   "outputs": [],
   "source": [
    "down_sampled_file= downsample_2_to_5_seconds(df, 'magnet_temperature')\n",
    "down_sampled_file.to_csv('G:\\\\Innovations@HELLER\\\\DN\\\\KI\\\\Zollern-FH-MillTrunMotor\\\\Datasets\\\\rough_data\\\\2023_06_05_Rotortemperatur_5_secs_downsampled.csv')"
   ]
  }
 ],
 "metadata": {
  "kernelspec": {
   "display_name": "Python 3",
   "language": "python",
   "name": "python3"
  },
  "language_info": {
   "codemirror_mode": {
    "name": "ipython",
    "version": 3
   },
   "file_extension": ".py",
   "mimetype": "text/x-python",
   "name": "python",
   "nbconvert_exporter": "python",
   "pygments_lexer": "ipython3",
   "version": "3.7.7"
  }
 },
 "nbformat": 4,
 "nbformat_minor": 2
}
