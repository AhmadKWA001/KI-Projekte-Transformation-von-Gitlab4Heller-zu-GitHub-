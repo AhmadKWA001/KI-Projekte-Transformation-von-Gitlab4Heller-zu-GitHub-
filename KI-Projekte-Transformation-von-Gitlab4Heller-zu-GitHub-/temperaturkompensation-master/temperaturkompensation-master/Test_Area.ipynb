{
 "cells": [
  {
   "cell_type": "code",
   "execution_count": null,
   "metadata": {},
   "outputs": [],
   "source": [
    "import pandas as pd\n",
    "import numpy as np\n",
    "import matplotlib.pyplot as plt\n",
    "import os\n",
    "from datetime import datetime\n",
    "from datetime import timedelta\n",
    "from collections import deque\n",
    "from time import sleep\n",
    "import seaborn as sn"
   ]
  },
  {
   "cell_type": "code",
   "execution_count": null,
   "metadata": {},
   "outputs": [],
   "source": [
    "title= 'Wirk-Leerlaufleistung über Drehzahl'\n",
    "x= [382,560,637,700,2546,5305,9019]\n",
    "y= [0.050797489,0.075921461,0.09215934,0.101908182,0.477569899,1.065966647,2.111527183]"
   ]
  },
  {
   "cell_type": "code",
   "execution_count": null,
   "metadata": {},
   "outputs": [],
   "source": [
    "fig, ax = plt.subplots(figsize=(15, 10))\n",
    "plt.title(title)\n",
    "plt.grid()\n",
    "plt.xticks(np.arange(start= 0,stop= 9300,step=300))\n",
    "plt.xlabel('Drehzahl [1/min]')\n",
    "plt.ylabel('P geglättet [kW]')\n",
    "plt.plot(x, y, label= 'P geglättet [kW]')\n",
    "plt.scatter(x, y)\n",
    "plt.legend()\n",
    "plt.show()\n",
    "\n"
   ]
  },
  {
   "cell_type": "code",
   "execution_count": null,
   "metadata": {},
   "outputs": [],
   "source": [
    "columns= ['T_Spindel', 'T_Motor_S', 'ActSpeed_S', 'T_SPI_MB1', 'T_SPI_MB2',  'Leistung [W]','Kühlleistung_mittel [W]']\n",
    "filepath= 'C:\\\\Users\\\\alm003\\\\Jupyter_Files\\\\temperaturkompensation\\\\230424_vergleich_versuche_c.xlsx'"
   ]
  },
  {
   "cell_type": "code",
   "execution_count": null,
   "metadata": {},
   "outputs": [],
   "source": [
    "df= pd.read_excel(io= filepath,sheet_name='Tabelle1',)"
   ]
  },
  {
   "cell_type": "code",
   "execution_count": null,
   "metadata": {},
   "outputs": [],
   "source": [
    "df= df.head(9)[columns]\n",
    "df['leistung']= df['Leistung [W]']\n",
    "df['kuehlleistung_mittel']= df['Kühlleistung_mittel [W]']\n",
    "df= df.astype(float)"
   ]
  },
  {
   "cell_type": "code",
   "execution_count": null,
   "metadata": {},
   "outputs": [],
   "source": [
    "df.drop(columns=['Leistung [W]','Kühlleistung_mittel [W]'], inplace=True)"
   ]
  },
  {
   "cell_type": "code",
   "execution_count": null,
   "metadata": {},
   "outputs": [],
   "source": [
    "df.info()"
   ]
  },
  {
   "cell_type": "code",
   "execution_count": null,
   "metadata": {},
   "outputs": [],
   "source": [
    "correlations= df.corr()\n",
    "fig, ax = plt.subplots(figsize=(15, 15))\n",
    "plt.title(' Heat-Map für die Korrelationsmatrix')\n",
    "ax= sn.heatmap(correlations, annot=True, vmin=-1, vmax=1, cmap='magma', annot_kws={\"size\": 26, 'color': 'black'})\n",
    "#plt.savefig(images_analysis_path.format(data_mode,'row_data_corr.png') )\n",
    "plt.show()"
   ]
  },
  {
   "cell_type": "code",
   "execution_count": null,
   "metadata": {},
   "outputs": [],
   "source": [
    "correlations"
   ]
  }
 ],
 "metadata": {
  "kernelspec": {
   "display_name": "Python 3",
   "language": "python",
   "name": "python3"
  },
  "language_info": {
   "codemirror_mode": {
    "name": "ipython",
    "version": 3
   },
   "file_extension": ".py",
   "mimetype": "text/x-python",
   "name": "python",
   "nbconvert_exporter": "python",
   "pygments_lexer": "ipython3",
   "version": "3.7.7"
  },
  "vscode": {
   "interpreter": {
    "hash": "a58a25343f99ae6e283c189afd7abc602dec6c63d356cacabf499812ae322086"
   }
  }
 },
 "nbformat": 4,
 "nbformat_minor": 2
}
