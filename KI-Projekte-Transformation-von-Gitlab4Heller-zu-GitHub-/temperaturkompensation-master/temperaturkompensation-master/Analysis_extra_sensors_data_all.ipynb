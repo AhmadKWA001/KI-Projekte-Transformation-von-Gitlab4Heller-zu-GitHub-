{
 "cells": [
  {
   "cell_type": "code",
   "execution_count": null,
   "metadata": {},
   "outputs": [],
   "source": [
    "import matplotlib.pyplot as plt\n",
    "import pandas as pd\n",
    "import seaborn as sn\n",
    "from matplotlib.pyplot import colormaps\n",
    "\n"
   ]
  },
  {
   "cell_type": "code",
   "execution_count": null,
   "metadata": {},
   "outputs": [],
   "source": [
    "\n",
    "combined_dir= \"G:\\\\Innovations@HELLER\\\\DN\\\\KI\\\\Temperaturkompensation\\\\2021_Spindelwachstumskompensation_KI_HSU_SC63\\\\Messungen DC100 H5000 M57002\\\\row_files\\\\combines\\\\smoothed\\\\combined_file\\\\combined.csv\"\n",
    "# selected_columns= [\n",
    "#        't_bett', 't_spindel','smoothed_t_spindel', 't_y_achse', 't_z_achse', 'drhz', 't_motor', 't_kss_tank', 't_raum',\n",
    "#        't_spindel_rueck', 't_spindel_vor', 'volumenstrom',\n",
    "#        'z_schlitten_mk',  'z_hals_mk','z_spindel_mk','z_tcp_mk','z_schlitten_ok', 'z_hals_ok',\n",
    "#         'z_spindel_ok', 'z_welle_ok',   \n",
    "#         'z_tcp_ok_orginal', 'z_tcp_ok']\n",
    "selected_columns= [\n",
    "       't_bett', 't_spindel', 'drhz', 't_motor', \n",
    "        'z_tcp_ok']"
   ]
  },
  {
   "cell_type": "code",
   "execution_count": null,
   "metadata": {},
   "outputs": [],
   "source": [
    "df= pd.read_csv(combined_dir)\n",
    "df= df[selected_columns]\n",
    "#df['delta_t_spindel'] = df['t_spindel_rueck']-df['t_spindel_vor']\n",
    "df['delta_t_spindel'] = df['t_spindel']-df['t_bett']\n",
    "selected_columns= [\n",
    "       't_bett', 't_spindel','delta_t_spindel', 'drhz', 't_motor', \n",
    "        'z_tcp_ok']\n",
    "df= df[selected_columns]\n",
    "correlations= df.corr()\n"
   ]
  },
  {
   "cell_type": "code",
   "execution_count": null,
   "metadata": {},
   "outputs": [],
   "source": [
    "y= df['z_tcp_ok']\n",
    "fig, ax= plt.subplots(figsize=(15,15))\n",
    "sn.heatmap(correlations, annot=True, vmin=-1, vmax=1,cmap='magma')\n",
    "plt.show()"
   ]
  },
  {
   "cell_type": "code",
   "execution_count": null,
   "metadata": {},
   "outputs": [],
   "source": [
    "from sklearn.decomposition import PCA\n",
    "selected_columns= [\n",
    "       'delta_t_spindel', 'drhz', 't_motor']\n",
    "df= df[selected_columns]\n",
    "pca= PCA(n_components= 3)\n",
    "transformed_data= pca.fit_transform(df)\n",
    "print('explained_variance_ratio_= ', pca.explained_variance_ratio_)\n",
    "t_df= pd.DataFrame(transformed_data)\n",
    "t_df['z_tcp_ok']= y\n",
    "correlations= t_df.corr()\n",
    "fig, ax= plt.subplots(figsize=(15,15))\n",
    "sn.heatmap(correlations, annot=True, vmin=-1, vmax=1,cmap='magma')\n",
    "plt.show()"
   ]
  }
 ],
 "metadata": {
  "interpreter": {
   "hash": "13ee65d6d8e8e599567a50f8e5d91855a7887915d0a602ac4b5956c1a246e3d7"
  },
  "kernelspec": {
   "display_name": "Python 3.7.7 64-bit",
   "language": "python",
   "name": "python3"
  },
  "language_info": {
   "codemirror_mode": {
    "name": "ipython",
    "version": 3
   },
   "file_extension": ".py",
   "mimetype": "text/x-python",
   "name": "python",
   "nbconvert_exporter": "python",
   "pygments_lexer": "ipython3",
   "version": "3.7.7"
  }
 },
 "nbformat": 4,
 "nbformat_minor": 2
}
