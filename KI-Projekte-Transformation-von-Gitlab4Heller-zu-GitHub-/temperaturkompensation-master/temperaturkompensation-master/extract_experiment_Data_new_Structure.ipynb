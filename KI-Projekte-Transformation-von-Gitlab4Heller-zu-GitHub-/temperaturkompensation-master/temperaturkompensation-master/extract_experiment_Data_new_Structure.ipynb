{
 "cells": [
  {
   "cell_type": "markdown",
   "metadata": {},
   "source": [
    "Ein Skript zur Extrahierung der Versuchsdaten aus der Datenbank der Edge-Box"
   ]
  },
  {
   "cell_type": "code",
   "execution_count": null,
   "metadata": {},
   "outputs": [],
   "source": [
    "#### Load Libraries\n",
    "import numpy as np\n",
    "from joblib import load\n",
    "from keras.models import Model, load_model\n",
    "import glob \n",
    "import  pandas as pd\n",
    "import matplotlib.pyplot as plt\n",
    "from keras.losses import mean_absolute_error as mae, mean_squared_error as mse, mean_absolute_percentage_error as mape\n",
    "import os\n",
    "from pymongo import MongoClient\n",
    "import plotly.express as ex\n",
    "from plotly.subplots import make_subplots\n",
    "import plotly.graph_objects as go\n",
    "from datetime import datetime\n",
    "from datetime import timedelta\n",
    "import plotly.io as pio\n",
    "from time import sleep"
   ]
  },
  {
   "cell_type": "markdown",
   "metadata": {},
   "source": [
    "DB Config"
   ]
  },
  {
   "cell_type": "code",
   "execution_count": null,
   "metadata": {},
   "outputs": [],
   "source": [
    "#####DB Config\n",
    "host= \"Dnedgev333\"\n",
    "port=27017"
   ]
  },
  {
   "cell_type": "markdown",
   "metadata": {},
   "source": [
    "Set parameters"
   ]
  },
  {
   "cell_type": "code",
   "execution_count": null,
   "metadata": {},
   "outputs": [],
   "source": [
    "[\"T_KWAV1\",\n",
    "\"T_KWAR1_MS\",\n",
    "\"T_KWR_MS\",\n",
    "\"V_KW_MS\",\n",
    "\"V_KWAV1\",\n",
    "\"V_KWAV2\",\n",
    "\"T_KSM1\",\n",
    "\"T_SCHLITTEN_Y\",\n",
    "\"T_SPI_MB1\",\n",
    "\"T_SPI_MB2\",\n",
    "\"T_RAUM\",\n",
    "\"T_BETT_X\",\n",
    "\"T_STAE_Y\",\n",
    "\"T_BETT_Z\",\n",
    "\"T_Spindel\",\n",
    "\"ActSpeed_S\",\n",
    "\"Power_X\",\n",
    "\"Torque_X\",\n",
    "\"Current_X\",\n",
    "\"T_Motor_X\",\n",
    "\"Power_Y\",\n",
    "\"Torque_Y\",\n",
    "\"Current_Y\",\n",
    "\"T_Motor_Y\",\n",
    "\"Power_Z\",\n",
    "\"Torque_Z\",\n",
    "\"Current_Z\",\n",
    "\"T_Motor_Z\",\n",
    "\"Power_S\",\n",
    "\"Torque_S\",\n",
    "\"Current_S\",\n",
    "\"T_Motor_S\",\n",
    "\"Power_A\",\n",
    "\"Torque_A\",\n",
    "\"Current_A\",\n",
    "\"T_Motor_A\",\n",
    "\"Power_B\",\n",
    "\"Torque_B\",\n",
    "\"Current_B\",\n",
    "\"T_Motor_B\"]"
   ]
  },
  {
   "cell_type": "code",
   "execution_count": null,
   "metadata": {},
   "outputs": [],
   "source": [
    "save_path= 'G:\\\\Innovations@HELLER\\\\DN\\\\KI\\\\Temperaturkompensation\\\\Edgebox\\\\Versuchsdaten\\\\5s_data\\\\'#neue_Spindel\\\\'\n",
    "test_nr= \"TEST_NR\"\n",
    "csv_selected_columns= [\n",
    "    test_nr,\n",
    "    \"T_KWAV1\",\n",
    "    \"T_KWAR1_MS\",\n",
    "    \"T_KWR_MS\",\n",
    "    \"V_KW_MS\",\n",
    "    \"V_KWAV1\",\n",
    "    \"V_KWAV2\",\n",
    "    \"T_KSM1\",\n",
    "    \"T_SCHLITTEN_Y\",\n",
    "    \"T_SPI_MB1\",\n",
    "    \"T_SPI_MB2\",\n",
    "    \"T_RAUM\",\n",
    "    \"T_BETT_X\",\n",
    "    \"T_STAE_Y\",\n",
    "    \"T_BETT_Z\",\n",
    "    \"T_Spindel\",\n",
    "    \"ActSpeed_S\",\n",
    "    \"Power_X\",\n",
    "    \"Torque_X\",\n",
    "    \"Current_X\",\n",
    "    \"T_Motor_X\",\n",
    "    \"Power_Y\",\n",
    "    \"Torque_Y\",\n",
    "    \"Current_Y\",\n",
    "    \"T_Motor_Y\",\n",
    "    \"Power_Z\",\n",
    "    \"Torque_Z\",\n",
    "    \"Current_Z\",\n",
    "    \"T_Motor_Z\",\n",
    "    \"Power_S\",\n",
    "    \"Torque_S\",\n",
    "    \"Current_S\",\n",
    "    \"T_Motor_S\",\n",
    "    \"Power_A\",\n",
    "    \"Torque_A\",\n",
    "    \"Current_A\",\n",
    "    \"T_Motor_A\",\n",
    "    \"Power_B\",\n",
    "    \"Torque_B\",\n",
    "    \"Current_B\",\n",
    "    \"T_Motor_B\",\n",
    "    'kuelleistung']\n",
    "columns_with_units= [\n",
    "                        \"T_BETT_X (C°)\",\n",
    "                        \"T_Spindel (C°)\",\n",
    "                        \"T_Motor_S (C°)\",\n",
    "                        \"T_BETT_Z (C°)\",\n",
    "                        \"Torque_S\",\n",
    "                        \"ActSpeed_S\",\n",
    "                        \"T_STAE_Y (C°)\" ,\n",
    "                        \"Power_S\" ,\n",
    "                        \"T_KWR_MS (C°)\" ,\n",
    "                        \"T_SCHLITTEN_Y (C°)\",\n",
    "                        \"T_RAUM(C°)\",\n",
    "                        \"V_KW_MS \",\n",
    "                        \"Current_S\",\n",
    "                        \"T_KWAR1_MS (C°)\" ,\n",
    "                        \"T_KWAV1 (C°)\" ,\n",
    "                        \"V_KWAV1\",\n",
    "                        \"T_KSM1 (C°)\" ,\n",
    "                        \"V_KWAV2\" ,\n",
    "                        \"T_SPI_MB1 (C°)\",\n",
    "                        \"T_SPI_MB2 (C°)\",\n",
    "                        'kuelleistung']"
   ]
  },
  {
   "cell_type": "markdown",
   "metadata": {},
   "source": [
    "Set time priod needed"
   ]
  },
  {
   "cell_type": "code",
   "execution_count": null,
   "metadata": {},
   "outputs": [],
   "source": [
    "start= datetime.strptime(\"2023-05-23T07:36:31.000+0000\", \"%Y-%m-%dT%H:%M:%S.%f+0000\")\n",
    "end= datetime.strptime (\"2023-05-24T00:00:00.000+0000\", \"%Y-%m-%dT%H:%M:%S.%f+0000\")"
   ]
  },
  {
   "cell_type": "markdown",
   "metadata": {},
   "source": [
    "Get Data from database"
   ]
  },
  {
   "cell_type": "code",
   "execution_count": null,
   "metadata": {},
   "outputs": [],
   "source": [
    "## Read raw and preprocessing data\n",
    "client = MongoClient(host= host, port=port)\n",
    "db = client.h4ai\n",
    "event_list = db.modelLogs.find({ \"date\" : { '$gte' : start, '$lt' : end} }).sort('date', 1)\n",
    "signals= None\n",
    "i=0\n",
    "last_prediction= -500\n",
    "prev_time= None\n",
    "current_time= None\n",
    "stop= False\n",
    "### Go through events in DB\n",
    "for event in event_list:\n",
    "    i+=1\n",
    "    record_list= event['content']\n",
    "    keys= None\n",
    "    ### Go through records in each event\n",
    "    for record in record_list:\n",
    "        ### Get right data between start / end \n",
    "        if record['date']< start or record['date'] > end:\n",
    "            continue\n",
    "        current_time= record['date']+ timedelta(hours= +2)\n",
    "        if prev_time is not None  and (current_time -prev_time).total_seconds()> 5.5:\n",
    "            print('Period= ', (current_time -prev_time).total_seconds())\n",
    "            print('prev_time', prev_time)\n",
    "            print('current_time', current_time)\n",
    "            print('#########################################################')\n",
    "        for item in record['raw_data'].keys():\n",
    "            record['raw_data'][item]= [np.round(record['raw_data'][item],decimals=2)]\n",
    "        record['raw_data']['date']=[current_time]\n",
    "        ####################################\n",
    "        #print ('After ',record)\n",
    "        lf_signal_point= pd.DataFrame(record['raw_data'])\n",
    "        if signals is None:\n",
    "            signals= lf_signal_point\n",
    "        else:\n",
    "            signals= signals.append(lf_signal_point,ignore_index= True)\n",
    "        prev_time= current_time\n",
    "signals.reset_index(inplace= True)\n",
    "org_signal= signals.copy()"
   ]
  },
  {
   "attachments": {},
   "cell_type": "markdown",
   "metadata": {},
   "source": [
    "Filtering based on the test_Nr"
   ]
  },
  {
   "cell_type": "code",
   "execution_count": null,
   "metadata": {},
   "outputs": [],
   "source": [
    "signals= org_signal#org_signal[org_signal[test_nr] ==2]#"
   ]
  },
  {
   "cell_type": "code",
   "execution_count": null,
   "metadata": {},
   "outputs": [],
   "source": [
    "signals.columns"
   ]
  },
  {
   "attachments": {},
   "cell_type": "markdown",
   "metadata": {},
   "source": [
    "Calculate the power"
   ]
  },
  {
   "cell_type": "code",
   "execution_count": null,
   "metadata": {},
   "outputs": [],
   "source": [
    "signals['kuelleistung']=  (signals['T_KWR_MS']-signals['T_KWAV1']) *  signals['V_KW_MS'] * 1.16 *60/1000"
   ]
  },
  {
   "attachments": {},
   "cell_type": "markdown",
   "metadata": {},
   "source": [
    "Visualization of the predictions and labels and Error borders (Needed from Andreas)"
   ]
  },
  {
   "cell_type": "code",
   "execution_count": null,
   "metadata": {},
   "outputs": [],
   "source": [
    "# scatter_mode= 'lines'#'lines'# 'lines+markers'# 'markers'\n",
    "# # selected_Columns= ['t_bett','t_motor', 't_spindle' ,'M8', 'M121', 'M127', 'M7', prediction_variable, output_variable, 'db_prediction_abs_error']\n",
    "# # y_axis_names= selected_Columns\n",
    "# #print(preds)\n",
    "# fig= make_subplots(rows=1,cols=1,shared_xaxes= True, print_grid= True, vertical_spacing=0.02)\n",
    "# ##Verlagerung\n",
    "# fig.add_trace(go.Scatter(x= signals['date'], y= 1000 * signals[output_variable], name='Gemessene Verlagerung (Welle)', mode= scatter_mode), row= 1, col= 1)\n",
    "# fig.add_trace(go.Scatter(x= signals['date'], y= 1000 * signals[prediction_variable], name='KI-basierte Verlagerung (Welle)', mode= scatter_mode), row= 1, col= 1)\n",
    "\n",
    "# ##Restfehler\n",
    "# fig.add_trace(go.Scatter(x= signals['date'], y= 1000 * signals[output_variable] - 1000 * signals[prediction_variable], name=' Restfehler', mode= scatter_mode),  row= 1 , col= 1)\n",
    "# ## Draw the tolerence +-5\n",
    "# fig.add_trace(go.Scatter(x= signals['date'], y= np.full_like(signals[output_variable],5), name='+5 Obere Grenze', mode= scatter_mode),  row= 1 , col= 1)\n",
    "# fig.add_trace(go.Scatter(x= signals['date'], y= np.full_like(signals[output_variable],-5), name='- 5 Obere Grenze', mode= scatter_mode),  row= 1 , col= 1)\n",
    "# fig.update_yaxes(title_text= 'Verlagerung Micro-Meter', row= 1, col= 1)\n",
    "# fig.update_layout(height=1200, width=1400, title_text= 'M57002 Machine Data, Versuch am 2023-01-11T20:00:00 ISO 230-3 Trocken')"
   ]
  },
  {
   "attachments": {},
   "cell_type": "markdown",
   "metadata": {},
   "source": [
    "Static Visualization"
   ]
  },
  {
   "cell_type": "code",
   "execution_count": null,
   "metadata": {},
   "outputs": [],
   "source": [
    "singnals_avg= signals.mean()\n",
    "singnals_avg"
   ]
  },
  {
   "cell_type": "code",
   "execution_count": null,
   "metadata": {},
   "outputs": [],
   "source": [
    "scatter_mode= 'lines'#'lines'# 'lines+markers'# 'markers'\n",
    "selected_Columns= csv_selected_columns \n",
    "y_axis_names= selected_Columns\n",
    "fig= make_subplots(rows=len(selected_Columns),cols=1,shared_xaxes= True, print_grid= True, vertical_spacing=0.008, subplot_titles= [selected_Columns[i] +' Mean='+ str(np.round(singnals_avg[selected_Columns[i]],2)) for i in range(len(selected_Columns))])\n",
    "for i in range(len(selected_Columns)):\n",
    "    trace= selected_Columns[i]\n",
    "    fig.add_trace(go.Scatter(x= signals['date'], y= signals[trace], name=trace , mode= scatter_mode), row= i+1, col= 1)\n",
    "    #fig.update_yaxes(title_text= trace, row= i+1, col= 1)\n",
    "fig.update_layout(height=3000, width=1200, title_text= 'Machine Data')\n",
    "fig.show()"
   ]
  },
  {
   "cell_type": "markdown",
   "metadata": {},
   "source": [
    "Save data to .csv file"
   ]
  },
  {
   "cell_type": "code",
   "execution_count": null,
   "metadata": {},
   "outputs": [],
   "source": [
    "# ###Save to .CSV-File######\n",
    "# csv_df= signals[csv_selected_columns]\n",
    "# csv_df[output_variable]= csv_df[output_variable].round(6)\n",
    "# csv_df[csv_selected_columns].to_csv(str(save_path+'Versuch20_01_2023_trocken_Fraesen.csv'))"
   ]
  }
 ],
 "metadata": {
  "kernelspec": {
   "display_name": "Python 3",
   "language": "python",
   "name": "python3"
  },
  "language_info": {
   "codemirror_mode": {
    "name": "ipython",
    "version": 3
   },
   "file_extension": ".py",
   "mimetype": "text/x-python",
   "name": "python",
   "nbconvert_exporter": "python",
   "pygments_lexer": "ipython3",
   "version": "3.7.7"
  },
  "vscode": {
   "interpreter": {
    "hash": "a58a25343f99ae6e283c189afd7abc602dec6c63d356cacabf499812ae322086"
   }
  }
 },
 "nbformat": 4,
 "nbformat_minor": 2
}
